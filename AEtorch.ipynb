{
  "cells": [
    {
      "cell_type": "markdown",
      "metadata": {
        "id": "view-in-github",
        "colab_type": "text"
      },
      "source": [
        "<a href=\"https://colab.research.google.com/github/showpicep/AutoEncoder/blob/main/AEtorch.ipynb\" target=\"_parent\"><img src=\"https://colab.research.google.com/assets/colab-badge.svg\" alt=\"Open In Colab\"/></a>"
      ]
    },
    {
      "cell_type": "code",
      "execution_count": null,
      "metadata": {
        "id": "S_LiESB9zHuv"
      },
      "outputs": [],
      "source": [
        "import pandas as pd\n",
        "import seaborn as sns\n",
        "import matplotlib.pyplot as plt\n",
        "\n",
        "import torch as t\n",
        "import torchvision\n",
        "from torchsummary import summary\n",
        "import torch.nn as nn\n",
        "import torch.nn.functional as F\n",
        "import torch.optim as optim\n",
        "import itertools\n",
        "from torch.utils.data import Dataset"
      ]
    },
    {
      "cell_type": "code",
      "execution_count": null,
      "metadata": {
        "id": "J36ua5_LcdBm"
      },
      "outputs": [],
      "source": [
        "def set_seed(seed):\n",
        "    '''Делает наши результаты воспроизводимыми (вычисления могут немного больше времени занимать)'''\n",
        "    t.manual_seed(seed)\n",
        "    t.cuda.manual_seed_all(seed)\n",
        "    t.backends.cudnn.deterministic = True\n",
        "    t.backends.cudnn.benchmark = False\n",
        "\n",
        "set_seed(42)"
      ]
    },
    {
      "cell_type": "code",
      "execution_count": null,
      "metadata": {
        "id": "Q0BqEGmRzzxF"
      },
      "outputs": [],
      "source": [
        "batch_size_train = 128\n",
        "batch_size_test = 128\n",
        "batch_size_val = 128\n",
        "epochs = 30"
      ]
    },
    {
      "cell_type": "code",
      "execution_count": null,
      "metadata": {
        "id": "22E_rtlBa0TX"
      },
      "outputs": [],
      "source": [
        "tranforms_first = torchvision.transforms.Compose([\n",
        "                               torchvision.transforms.ToTensor(),\n",
        "                               torchvision.transforms.Normalize(\n",
        "                                 (0.1307,), (0.3081,))])"
      ]
    },
    {
      "cell_type": "code",
      "execution_count": null,
      "metadata": {
        "colab": {
          "base_uri": "https://localhost:8080/",
          "height": 423,
          "referenced_widgets": [
            "38ca1a9b5db9413b931bb13f07801fac",
            "6cf91bf6f3c34b16a91d78e6ee378f25",
            "61b86d780c174b62bcd728e0217ad881",
            "d979e84d7e0a425cb0e1bb5e3b29b7a7",
            "edee3fa15f324208a9cf7fc16067390d",
            "de2d2d90d05847bd8780758876029f37",
            "1d49ca9ae9fe4ea5865db7fbf82e0e65",
            "c7c84f8767954b3eb05809b40da39f1f",
            "cf5396876c7e4d0da2c6a370d010082c",
            "5883c21d741f4dbfba3769575cabcd4d",
            "c970da9176ef4542837cb881b5364eb6",
            "ea48f77038794ef9af4574b67f6b6fd4",
            "0416d686dd7f438dadeb082ae65def1e",
            "6f88249a0c3c4dfd8e337ec99b9bbbd3",
            "731258dafd844c4499d76ac084e14e01",
            "b10b471e3b724611860c4394f2465637",
            "2d49c9990b35441da6bf065cb8290840",
            "9920d94557a141e7935b80abe2e8d8ea",
            "3d301dc8ea5844f9bfdd1912ea00c500",
            "852499d1b48b4f7c8a0895dae563f3b6",
            "bc9ffecfaedb4e1ea2f125ce30f0c6f7",
            "9c5189bd796c406784838da104ff1f09",
            "f3864e5b278c434ca6446a3bada409dc",
            "04472d95f8864dfaa00968e2f06f24d4",
            "0bddcb86a1c84999ae10d1965f7ae597",
            "ac7f07b9c1644913a4d5959393d07595",
            "15ab2311edd04306a886e3be2f0464bc",
            "35faaea2e31540bda15efe17b97cf0f2",
            "c6b1c6d669aa409b9a160a6ac18c8b34",
            "3b72cbd492254e0c8b455ba9e8a2ffe8",
            "d9efaf19302e4c108d7ebf1bd8863953",
            "9a64b2cc0c814cc4bfd8bd71798e0362",
            "b5b8c4d0601c4e4cb2559b875318aa1c",
            "bded0ebe57b24fe9ae4b2cd85d01d98f",
            "3c4f94b58fdf4471a876ebef451b9233",
            "2a5ff3256ae142d08b3a411cd7012524",
            "0bdf59b7f468463b8ad550e895830de0",
            "4f6679fe19a747c1ae886747060b675b",
            "8723f50c7df9451f8fa8627db5e6d42e",
            "cecd1600242a4b63a397eb3378746f12",
            "699aba9bb66e4d3c8c90df5f3bf93bcb",
            "6abcb5823c2541d79ff14c9369b8ee8f",
            "3923d6737eea44a98f830e57127b71bc",
            "edf806c9504542c38940dc0f4774d846"
          ]
        },
        "id": "StL5NWQrP7GK",
        "outputId": "b3ed75ca-d288-4333-9fe3-38cf2c349429"
      },
      "outputs": [
        {
          "output_type": "stream",
          "name": "stdout",
          "text": [
            "Downloading http://yann.lecun.com/exdb/mnist/train-images-idx3-ubyte.gz\n",
            "Downloading http://yann.lecun.com/exdb/mnist/train-images-idx3-ubyte.gz to /files/MNIST/raw/train-images-idx3-ubyte.gz\n"
          ]
        },
        {
          "output_type": "display_data",
          "data": {
            "text/plain": [
              "  0%|          | 0/9912422 [00:00<?, ?it/s]"
            ],
            "application/vnd.jupyter.widget-view+json": {
              "version_major": 2,
              "version_minor": 0,
              "model_id": "38ca1a9b5db9413b931bb13f07801fac"
            }
          },
          "metadata": {}
        },
        {
          "output_type": "stream",
          "name": "stdout",
          "text": [
            "Extracting /files/MNIST/raw/train-images-idx3-ubyte.gz to /files/MNIST/raw\n",
            "\n",
            "Downloading http://yann.lecun.com/exdb/mnist/train-labels-idx1-ubyte.gz\n",
            "Downloading http://yann.lecun.com/exdb/mnist/train-labels-idx1-ubyte.gz to /files/MNIST/raw/train-labels-idx1-ubyte.gz\n"
          ]
        },
        {
          "output_type": "display_data",
          "data": {
            "text/plain": [
              "  0%|          | 0/28881 [00:00<?, ?it/s]"
            ],
            "application/vnd.jupyter.widget-view+json": {
              "version_major": 2,
              "version_minor": 0,
              "model_id": "ea48f77038794ef9af4574b67f6b6fd4"
            }
          },
          "metadata": {}
        },
        {
          "output_type": "stream",
          "name": "stdout",
          "text": [
            "Extracting /files/MNIST/raw/train-labels-idx1-ubyte.gz to /files/MNIST/raw\n",
            "\n",
            "Downloading http://yann.lecun.com/exdb/mnist/t10k-images-idx3-ubyte.gz\n",
            "Downloading http://yann.lecun.com/exdb/mnist/t10k-images-idx3-ubyte.gz to /files/MNIST/raw/t10k-images-idx3-ubyte.gz\n"
          ]
        },
        {
          "output_type": "display_data",
          "data": {
            "text/plain": [
              "  0%|          | 0/1648877 [00:00<?, ?it/s]"
            ],
            "application/vnd.jupyter.widget-view+json": {
              "version_major": 2,
              "version_minor": 0,
              "model_id": "f3864e5b278c434ca6446a3bada409dc"
            }
          },
          "metadata": {}
        },
        {
          "output_type": "stream",
          "name": "stdout",
          "text": [
            "Extracting /files/MNIST/raw/t10k-images-idx3-ubyte.gz to /files/MNIST/raw\n",
            "\n",
            "Downloading http://yann.lecun.com/exdb/mnist/t10k-labels-idx1-ubyte.gz\n",
            "Downloading http://yann.lecun.com/exdb/mnist/t10k-labels-idx1-ubyte.gz to /files/MNIST/raw/t10k-labels-idx1-ubyte.gz\n"
          ]
        },
        {
          "output_type": "display_data",
          "data": {
            "text/plain": [
              "  0%|          | 0/4542 [00:00<?, ?it/s]"
            ],
            "application/vnd.jupyter.widget-view+json": {
              "version_major": 2,
              "version_minor": 0,
              "model_id": "bded0ebe57b24fe9ae4b2cd85d01d98f"
            }
          },
          "metadata": {}
        },
        {
          "output_type": "stream",
          "name": "stdout",
          "text": [
            "Extracting /files/MNIST/raw/t10k-labels-idx1-ubyte.gz to /files/MNIST/raw\n",
            "\n"
          ]
        }
      ],
      "source": [
        "train_data = torchvision.datasets.MNIST('/files/', train=True, download=True,\n",
        "                             transform=tranforms_first)\n",
        "                             \n",
        "\n",
        "test_data = torchvision.datasets.MNIST('/files/', train=False, download=True,\n",
        "                             transform=tranforms_first)"
      ]
    },
    {
      "cell_type": "code",
      "execution_count": null,
      "metadata": {
        "colab": {
          "base_uri": "https://localhost:8080/"
        },
        "id": "FBm6zGQsT2c5",
        "outputId": "5d1a010c-00ce-4bff-c31b-811032844b99"
      },
      "outputs": [
        {
          "output_type": "stream",
          "name": "stdout",
          "text": [
            "50000 10000\n"
          ]
        }
      ],
      "source": [
        "train_data, val_data = t.utils.data.random_split(train_data, [50000, 10000])\n",
        "print(len(train_data),len(val_data))\n"
      ]
    },
    {
      "cell_type": "code",
      "execution_count": null,
      "metadata": {
        "id": "AgiTwltTAEwU"
      },
      "outputs": [],
      "source": [
        "def get_class_distribution(dataset_obj):\n",
        "    idx2class = {v: k for k, v in dataset_obj.class_to_idx.items()}\n",
        "    count_dict = {k:0 for k,v in dataset_obj.class_to_idx.items()}\n",
        "    \n",
        "    for element in dataset_obj:\n",
        "        y_lbl = element[1]\n",
        "        y_lbl = idx2class[y_lbl]\n",
        "        count_dict[y_lbl] += 1\n",
        "            \n",
        "    return count_dict"
      ]
    },
    {
      "cell_type": "code",
      "execution_count": null,
      "metadata": {
        "colab": {
          "base_uri": "https://localhost:8080/",
          "height": 421
        },
        "id": "BzAc_g0GDePH",
        "outputId": "d48b30e3-5016-4a64-d6a6-89fa6ddec691"
      },
      "outputs": [
        {
          "output_type": "execute_result",
          "data": {
            "text/plain": [
              "Text(0.5, 1.0, 'Test Classes Distribution')"
            ]
          },
          "metadata": {},
          "execution_count": 8
        },
        {
          "output_type": "display_data",
          "data": {
            "text/plain": [
              "<Figure size 720x432 with 1 Axes>"
            ],
            "image/png": "[encoded data removed]"
          },
          "metadata": {
            "needs_background": "light"
          }
        }
      ],
      "source": [
        "plt.figure(figsize=(10,6))\n",
        "sns.barplot(data = pd.DataFrame.from_dict([get_class_distribution(test_data)]).melt(),\n",
        "            x = \"variable\", y=\"value\").set_title('Test Classes Distribution')"
      ]
    },
    {
      "cell_type": "code",
      "execution_count": null,
      "metadata": {
        "colab": {
          "base_uri": "https://localhost:8080/",
          "height": 421
        },
        "id": "ydhSFIE-rs_I",
        "outputId": "51742012-630a-43f9-bf07-6877b8644493"
      },
      "outputs": [
        {
          "data": {
            "text/plain": [
              "Text(0.5, 1.0, 'Train Classes Distribution')"
            ]
          },
          "execution_count": 10,
          "metadata": {},
          "output_type": "execute_result"
        },
        {
          "data": {
            "image/png": "[encoded data removed]",
            "text/plain": [
              "<Figure size 720x432 with 1 Axes>"
            ]
          },
          "metadata": {},
          "output_type": "display_data"
        }
      ],
      "source": [
        "from collections import Counter\n",
        "plt.figure(figsize=(10,6))\n",
        "sns.barplot(data = pd.DataFrame.from_dict([Counter([label for _, label in train_data])]).melt(),\n",
        "            x = \"variable\", y=\"value\").set_title('Train Classes Distribution')"
      ]
    },
    {
      "cell_type": "code",
      "execution_count": null,
      "metadata": {
        "colab": {
          "base_uri": "https://localhost:8080/",
          "height": 421
        },
        "id": "1Q27B-xKFI0E",
        "outputId": "8bf844e1-4fcf-461b-cc44-dbd7bbb2e0a4"
      },
      "outputs": [
        {
          "data": {
            "text/plain": [
              "Text(0.5, 1.0, 'Val Classes Distribution')"
            ]
          },
          "execution_count": 11,
          "metadata": {},
          "output_type": "execute_result"
        },
        {
          "data": {
            "image/png": "[encoded data removed]",
            "text/plain": [
              "<Figure size 720x432 with 1 Axes>"
            ]
          },
          "metadata": {},
          "output_type": "display_data"
        }
      ],
      "source": [
        "from collections import Counter\n",
        "plt.figure(figsize=(10,6))\n",
        "sns.barplot(data = pd.DataFrame.from_dict([Counter([label for _, label in val_data])]).melt(),\n",
        "            x = \"variable\", y=\"value\").set_title('Val Classes Distribution')\n"
      ]
    },
    {
      "cell_type": "code",
      "execution_count": null,
      "metadata": {
        "id": "0b5uSVtlzP8q"
      },
      "outputs": [],
      "source": [
        "train_loader = t.utils.data.DataLoader(\n",
        "    train_data,\n",
        "    batch_size=batch_size_train, shuffle=True)\n",
        "\n",
        "test_loader = t.utils.data.DataLoader(\n",
        "    test_data,\n",
        "    batch_size=batch_size_test, shuffle=True)\n",
        "\n",
        "val_loader = t.utils.data.DataLoader(\n",
        "    val_data,\n",
        "    batch_size=batch_size_test, shuffle=True)"
      ]
    },
    {
      "cell_type": "code",
      "execution_count": null,
      "metadata": {
        "colab": {
          "base_uri": "https://localhost:8080/"
        },
        "id": "TkKcBCBc1Rhp",
        "outputId": "4a12353a-1cdd-4c01-cb63-ea8136a2c750"
      },
      "outputs": [
        {
          "output_type": "execute_result",
          "data": {
            "text/plain": [
              "device(type='cuda')"
            ]
          },
          "metadata": {},
          "execution_count": 10
        }
      ],
      "source": [
        "device = t.device(\"cuda\" if t.cuda.is_available() else \"cpu\")\n",
        "device"
      ]
    },
    {
      "cell_type": "markdown",
      "metadata": {
        "id": "x4-AvCVntQgV"
      },
      "source": [
        "#ЭКСПЕРИМЕНТЫ С ПОЛНОСВЯЗНЫМИ СЕТЯМИ"
      ]
    },
    {
      "cell_type": "code",
      "execution_count": null,
      "metadata": {
        "id": "Nz1KNbi0rAcD"
      },
      "outputs": [],
      "source": [
        "class FCNet(nn.Module):\n",
        "    def __init__(self, n_embedded = 256):\n",
        "        super().__init__()\n",
        "        self.layer = nn.Sequential(\n",
        "            nn.Linear(784, n_embedded),\n",
        "            nn.ReLU(),\n",
        "            nn.Linear(n_embedded, n_embedded//2),\n",
        "            nn.ReLU()\n",
        "        )\n",
        "        self.classifier = nn.Sequential(\n",
        "            nn.Linear(n_embedded//2, 10)\n",
        "        )\n",
        "\n",
        "    def forward(self, x):\n",
        "        x = self.layer(x)\n",
        "        x = self.classifier(x)\n",
        "        return x"
      ]
    },
    {
      "cell_type": "code",
      "execution_count": null,
      "metadata": {
        "id": "HN53_08tWnBq"
      },
      "outputs": [],
      "source": [
        "from torch.nn.modules.activation import ReLU\n",
        "class AECls(nn.Module):\n",
        "    def __init__(self, n_embedded = 256):\n",
        "        super().__init__()\n",
        "        self.encoder = nn.Sequential(\n",
        "            nn.Linear(784, n_embedded),\n",
        "            nn.ReLU(),\n",
        "            nn.Linear(n_embedded, n_embedded//2),\n",
        "            nn.ReLU()\n",
        "        )\n",
        "\n",
        "        self.decoder = nn.Sequential(\n",
        "            nn.Linear(n_embedded//2, n_embedded),\n",
        "            nn.ReLU(),\n",
        "            nn.Linear(n_embedded, 784)\n",
        "        )\n",
        "\n",
        "        self.classifier = nn.Sequential(\n",
        "            nn.Linear(n_embedded//2, 10)\n",
        "        )\n",
        "\n",
        "        self.classifier2 = nn.Sequential(\n",
        "            nn.Linear(n_embedded//2, 10)\n",
        "        )\n",
        "\n",
        "    def forward(self, x):\n",
        "        encoded = self.encoder(x)\n",
        "        decoded = self.decoder(encoded)\n",
        "        cls = self.classifier(encoded)\n",
        "        cls2 = self.classifier2(encoded)\n",
        "        return decoded, cls, cls2"
      ]
    },
    {
      "cell_type": "markdown",
      "metadata": {
        "id": "BXERCZ0MtJ2b"
      },
      "source": [
        "#Pretrain encoder + classifier (учим только последний слой)"
      ]
    },
    {
      "cell_type": "code",
      "execution_count": null,
      "metadata": {
        "id": "dFLJhJkSYLpR"
      },
      "outputs": [],
      "source": [
        "model = AECls().to(device)\n",
        "# print(model)"
      ]
    },
    {
      "cell_type": "code",
      "execution_count": null,
      "metadata": {
        "colab": {
          "base_uri": "https://localhost:8080/"
        },
        "id": "FMWU80AtuB-8",
        "outputId": "3632febd-e1d0-4d55-f18e-ad07f2427787"
      },
      "outputs": [
        {
          "data": {
            "text/plain": [
              "AECls(\n",
              "  (encoder): Sequential(\n",
              "    (0): Linear(in_features=784, out_features=256, bias=True)\n",
              "    (1): ReLU()\n",
              "    (2): Linear(in_features=256, out_features=128, bias=True)\n",
              "    (3): ReLU()\n",
              "  )\n",
              "  (decoder): Sequential(\n",
              "    (0): Linear(in_features=128, out_features=256, bias=True)\n",
              "    (1): ReLU()\n",
              "    (2): Linear(in_features=256, out_features=784, bias=True)\n",
              "  )\n",
              "  (classifier): Sequential(\n",
              "    (0): Linear(in_features=128, out_features=10, bias=True)\n",
              "  )\n",
              "  (classifier2): Sequential(\n",
              "    (0): Linear(in_features=128, out_features=10, bias=True)\n",
              "  )\n",
              ")"
            ]
          },
          "execution_count": 12,
          "metadata": {},
          "output_type": "execute_result"
        }
      ],
      "source": [
        "model"
      ]
    },
    {
      "cell_type": "code",
      "execution_count": null,
      "metadata": {
        "colab": {
          "base_uri": "https://localhost:8080/"
        },
        "id": "T8mvuwm7JXe3",
        "outputId": "83828ea6-3ce4-402e-862c-db065285536d"
      },
      "outputs": [
        {
          "name": "stdout",
          "output_type": "stream",
          "text": [
            "----------------------------------------------------------------\n",
            "        Layer (type)               Output Shape         Param #\n",
            "================================================================\n",
            "            Linear-1                [1, 1, 256]         200,960\n",
            "              ReLU-2                [1, 1, 256]               0\n",
            "            Linear-3                [1, 1, 128]          32,896\n",
            "              ReLU-4                [1, 1, 128]               0\n",
            "            Linear-5                [1, 1, 256]          33,024\n",
            "              ReLU-6                [1, 1, 256]               0\n",
            "            Linear-7                [1, 1, 784]         201,488\n",
            "            Linear-8                 [1, 1, 10]           1,290\n",
            "            Linear-9                 [1, 1, 10]           1,290\n",
            "================================================================\n",
            "Total params: 470,948\n",
            "Trainable params: 470,948\n",
            "Non-trainable params: 0\n",
            "----------------------------------------------------------------\n",
            "Input size (MB): 0.00\n",
            "Forward/backward pass size (MB): 0.02\n",
            "Params size (MB): 1.80\n",
            "Estimated Total Size (MB): 1.82\n",
            "----------------------------------------------------------------\n"
          ]
        }
      ],
      "source": [
        "summary(model, (1,784), 1)"
      ]
    },
    {
      "cell_type": "markdown",
      "metadata": {
        "id": "A_1ACYTyhlhK"
      },
      "source": [
        "##Предобучение полносвязного AE"
      ]
    },
    {
      "cell_type": "code",
      "execution_count": null,
      "metadata": {
        "id": "MrLO5MfTCIg5"
      },
      "outputs": [],
      "source": [
        "params_AE = list(model.encoder.parameters()) + list(model.decoder.parameters()) # передаем данные веса для обучения AutoEncoder целиком\n",
        "param_cls = list(model.classifier.parameters()) # Передаем данные веса для обучения последнего слоя, отвечающего за классификацию на основе фичей полученных с энкодера"
      ]
    },
    {
      "cell_type": "code",
      "execution_count": null,
      "metadata": {
        "id": "WxjDousJB9Fo"
      },
      "outputs": [],
      "source": [
        "optimizer = optim.Adam(params_AE, lr=1e-3)# обучение кодирование декодирования\n",
        "criterion = nn.MSELoss()"
      ]
    },
    {
      "cell_type": "code",
      "execution_count": null,
      "metadata": {
        "id": "H3LYOwwjXi4d"
      },
      "outputs": [],
      "source": [
        "def train(model, some_loader): # for AE\n",
        "    # for epoch in range(epochs):\n",
        "    loss = 0\n",
        "    for input, _ in some_loader:\n",
        "        input = input.view(-1, 784).to(device)\n",
        "\n",
        "        optimizer.zero_grad()\n",
        "        \n",
        "        outputs, _, _ = model(input)\n",
        "\n",
        "        train_loss = criterion(outputs, input)\n",
        "        \n",
        "        train_loss.backward()\n",
        "        \n",
        "        optimizer.step()\n",
        "        \n",
        "        loss += train_loss.item()\n",
        "    \n",
        "    loss = loss / len(some_loader)\n",
        "    \n",
        "    # print(f\"epoch : {epoch + 1}/{epochs}, loss = {loss}\")\n",
        "    return loss"
      ]
    },
    {
      "cell_type": "code",
      "execution_count": null,
      "metadata": {
        "id": "RL9vMd89YPRW"
      },
      "outputs": [],
      "source": [
        "def evaluate(model, some_loader): # for AE\n",
        "    loss = 0\n",
        "    for input, _ in some_loader:\n",
        "        input = input.view(-1, 784).to(device)\n",
        "        with t.no_grad():\n",
        "            optimizer.zero_grad()\n",
        "            \n",
        "            outputs, _, _ = model(input)\n",
        "\n",
        "            train_loss = criterion(outputs, input)\n",
        "        \n",
        "        # train_loss.backward()\n",
        "        \n",
        "        # optimizer.step()\n",
        "        \n",
        "            loss += train_loss.item()\n",
        "    \n",
        "    loss = loss / len(some_loader)\n",
        "    \n",
        "    # print(f\"epoch : {epoch + 1}/{epochs}, loss = {loss}\")\n",
        "    return loss"
      ]
    },
    {
      "cell_type": "code",
      "execution_count": null,
      "metadata": {
        "colab": {
          "base_uri": "https://localhost:8080/"
        },
        "id": "ql0M0CUaZYke",
        "outputId": "a93f85e4-fe7b-4f45-f5b3-30ab6432c9bd"
      },
      "outputs": [
        {
          "name": "stdout",
          "output_type": "stream",
          "text": [
            "\n",
            "Epoch 1 / 30 ################\n",
            "1\n",
            "    train loss: 0.2515877646482204, val loss: 0.13244214097533044\n",
            "\n",
            "Epoch 2 / 30 ################\n",
            "2\n",
            "    train loss: 0.11270465072997086, val loss: 0.09934771070374718\n",
            "\n",
            "Epoch 3 / 30 ################\n",
            "3\n",
            "    train loss: 0.09304007184703636, val loss: 0.08788869039544576\n",
            "\n",
            "Epoch 4 / 30 ################\n",
            "4\n",
            "    train loss: 0.08358964228721531, val loss: 0.0810990916400016\n",
            "\n",
            "Epoch 5 / 30 ################\n",
            "5\n",
            "    train loss: 0.0781315404664525, val loss: 0.07578003859218163\n",
            "\n",
            "Epoch 6 / 30 ################\n",
            "6\n",
            "    train loss: 0.07482849147237475, val loss: 0.07489973448122604\n",
            "\n",
            "Epoch 7 / 30 ################\n",
            "7\n",
            "    train loss: 0.07333987290063478, val loss: 0.07221550984850413\n",
            "\n",
            "Epoch 8 / 30 ################\n",
            "8\n",
            "    train loss: 0.07248603868896089, val loss: 0.07203231657607646\n",
            "\n",
            "Epoch 9 / 30 ################\n",
            "9\n",
            "    train loss: 0.0720985431004973, val loss: 0.07146055175911022\n",
            "\n",
            "Epoch 10 / 30 ################\n",
            "10\n",
            "    train loss: 0.0716230545545478, val loss: 0.07127004522311536\n",
            "\n",
            "Epoch 11 / 30 ################\n",
            "    train loss: 0.07152730758156618, val loss: 0.071281791440671\n",
            "\n",
            "Epoch 12 / 30 ################\n",
            "12\n",
            "    train loss: 0.07144878417863261, val loss: 0.07123228171958199\n",
            "\n",
            "Epoch 13 / 30 ################\n",
            "13\n",
            "    train loss: 0.07099429140691563, val loss: 0.07075415363040151\n",
            "\n",
            "Epoch 14 / 30 ################\n",
            "    train loss: 0.07105667629967564, val loss: 0.07144041170802297\n",
            "\n",
            "Epoch 15 / 30 ################\n",
            "15\n",
            "    train loss: 0.07092921479659922, val loss: 0.07035605213310145\n",
            "\n",
            "Epoch 16 / 30 ################\n",
            "    train loss: 0.0706960728863621, val loss: 0.07144392970242078\n",
            "\n",
            "Epoch 17 / 30 ################\n",
            "17\n",
            "    train loss: 0.0706005433903021, val loss: 0.06972716673265529\n",
            "\n",
            "Epoch 18 / 30 ################\n",
            "    train loss: 0.07056966616445795, val loss: 0.07037935085311721\n",
            "\n",
            "Epoch 19 / 30 ################\n",
            "    train loss: 0.07036287840598685, val loss: 0.07007812227629408\n",
            "\n",
            "Epoch 20 / 30 ################\n",
            "    train loss: 0.07019430701918614, val loss: 0.07065816176465795\n",
            "\n",
            "Epoch 21 / 30 ################\n",
            "    train loss: 0.0702807854699052, val loss: 0.07024317725172526\n",
            "\n",
            "Epoch 22 / 30 ################\n",
            "    train loss: 0.07010190642398337, val loss: 0.0697821314576306\n",
            "\n",
            "Epoch 23 / 30 ################\n",
            "    train loss: 0.06994380100685008, val loss: 0.07040694101324564\n",
            "\n",
            "Epoch 24 / 30 ################\n",
            "    train loss: 0.0698386752773124, val loss: 0.07091141482697258\n",
            "\n",
            "Epoch 25 / 30 ################\n",
            "    train loss: 0.06984299561366096, val loss: 0.07004152705209164\n",
            "\n",
            "Epoch 26 / 30 ################\n",
            "26\n",
            "    train loss: 0.06971797303241842, val loss: 0.069269594323786\n",
            "\n",
            "Epoch 27 / 30 ################\n",
            "    train loss: 0.0697024618573201, val loss: 0.06970586127872709\n",
            "\n",
            "Epoch 28 / 30 ################\n",
            "    train loss: 0.06957735168888136, val loss: 0.06937839713277696\n",
            "\n",
            "Epoch 29 / 30 ################\n",
            "    train loss: 0.0695409332318684, val loss: 0.0732711875174619\n",
            "\n",
            "Epoch 30 / 30 ################\n",
            "    train loss: 0.0692307024794009, val loss: 0.06952669065964373\n"
          ]
        }
      ],
      "source": [
        "tl_fae, vl_fae = [], [] # change to view vl_cae_cls1 \n",
        "tmp_loss = float('inf')\n",
        "for epoch in range(epochs):\n",
        "    print('\\nEpoch {:} / {:}'.format(epoch + 1, epochs)+' ################')\n",
        "    train_loss = train(model, train_loader)\n",
        "    val_loss = evaluate(model, val_loader)\n",
        "    if val_loss < tmp_loss:\n",
        "        tmp_loss = val_loss\n",
        "        t.save(model.state_dict(), '/content/drive/MyDrive/AutoEncoders/' + 'fae' + '.pt')\n",
        "        t.save(model.state_dict(),'fae' + '.pt')\n",
        "        print(epoch+1)\n",
        "    tl_fae.append(train_loss)\n",
        "    vl_fae.append(val_loss)\n",
        "    print(f'    train loss: {train_loss}, val loss: {val_loss}')"
      ]
    },
    {
      "cell_type": "code",
      "execution_count": null,
      "metadata": {
        "colab": {
          "base_uri": "https://localhost:8080/"
        },
        "id": "cRyxBGO-Lpaq",
        "outputId": "55e56166-5b0e-4b73-abf9-6b8e94491da5"
      },
      "outputs": [
        {
          "data": {
            "text/plain": [
              "<All keys matched successfully>"
            ]
          },
          "execution_count": 19,
          "metadata": {},
          "output_type": "execute_result"
        }
      ],
      "source": [
        "model.load_state_dict(t.load('/content/fae.pt')) #/content/drive/MyDrive/AutoEncoders/fae.pt   /content/fae.pt"
      ]
    },
    {
      "cell_type": "markdown",
      "metadata": {
        "id": "AELK9hkchwrf"
      },
      "source": [
        "##Обучение слоя, отвечающего за классификацию"
      ]
    },
    {
      "cell_type": "code",
      "execution_count": null,
      "metadata": {
        "id": "DEnpUDTbLMIQ"
      },
      "outputs": [],
      "source": [
        "optimizer = optim.Adam(param_cls, lr=1e-3) # последний слой, отвечающий за классификацию\n",
        "criterion = t.nn.CrossEntropyLoss()"
      ]
    },
    {
      "cell_type": "code",
      "execution_count": null,
      "metadata": {
        "id": "TDTWnvjiCgB5"
      },
      "outputs": [],
      "source": [
        "path_for_save_model = '/content/drive/MyDrive/AutoEncoders/'"
      ]
    },
    {
      "cell_type": "code",
      "execution_count": null,
      "metadata": {
        "id": "ddxoNUdaDfd_"
      },
      "outputs": [],
      "source": [
        "def train_cls(model, some_train_loader, some_val_loader, aug=False):\n",
        "    \"\"\"return list of train loss and list of val loss\"\"\"\n",
        "    best_valid_loss = float('inf')\n",
        "    ae_cls_train, ae_cls_val = [], []\n",
        "    for epoch in range(epochs):\n",
        "        loss_t, loss_c = 0, 0\n",
        "        for input, labels in some_train_loader:\n",
        "            # reshape mini-batch data to [N, 784] matrix\n",
        "            # load it to the active device\n",
        "            input, labels = input.view(-1, 784).to(device), labels.to(device)\n",
        "            \n",
        "            # reset the gradients back to zero\n",
        "            # PyTorch accumulates gradients on subsequent backward passes\n",
        "            optimizer.zero_grad()\n",
        "            \n",
        "            # compute reconstructions\n",
        "            _, outputs, _ = model(input)\n",
        "            # compute training reconstruction loss\n",
        "            train_loss = criterion(outputs, labels)\n",
        "            \n",
        "            # compute accumulated gradients\n",
        "            train_loss.backward()\n",
        "            \n",
        "            # perform parameter update based on current gradients\n",
        "            optimizer.step()\n",
        "            \n",
        "            # add the mini-batch training loss to epoch loss\n",
        "            loss_t += train_loss.item()\n",
        "        \n",
        "        # compute the epoch training loss\n",
        "        loss_t = loss_t / len(some_train_loader)\n",
        "        ae_cls_train.append(loss_t)\n",
        "\n",
        "        for input, labels in some_val_loader:\n",
        "            input, labels = input.view(-1, 784).to(device), labels.to(device)\n",
        "            with t.no_grad():\n",
        "                optimizer.zero_grad()\n",
        "                \n",
        "                _, outputs, _ = model(input)\n",
        "\n",
        "                val_loss = criterion(outputs, labels)\n",
        "                loss_c += val_loss.item()\n",
        "        \n",
        "        loss_c = loss_c / len(some_val_loader)\n",
        "        if loss_c < best_valid_loss and not aug:\n",
        "            best_valid_loss = loss_c\n",
        "            t.save(model.state_dict(),path_for_save_model + 'fae_cls1' + '.pt')\n",
        "            t.save(model.state_dict(),'fae_cls1' + '.pt')\n",
        "            print(epoch+1)\n",
        "        elif loss_c < best_valid_loss and aug:\n",
        "            best_valid_loss = loss_c\n",
        "            t.save(model.state_dict(),path_for_save_model + 'aug_fae_cls1' + '.pt')\n",
        "            t.save(model.state_dict(),'aug_fae_cls1' + '.pt')\n",
        "            print(epoch+1)\n",
        "        ae_cls_val.append(loss_c)\n",
        "        \n",
        "        # display the epoch training loss\n",
        "        print(f\"epoch : {epoch + 1}/{epochs}\\n    loss train = {loss_t}, loss val = {loss_c}\")\n",
        "    return ae_cls_train, ae_cls_val"
      ]
    },
    {
      "cell_type": "code",
      "execution_count": null,
      "metadata": {
        "colab": {
          "base_uri": "https://localhost:8080/"
        },
        "id": "zQN1o4nKo6jJ",
        "outputId": "9f5f8737-34db-4c1e-ccfc-58d395187f99"
      },
      "outputs": [
        {
          "name": "stdout",
          "output_type": "stream",
          "text": [
            "1\n",
            "epoch : 1/30\n",
            "    loss train = 1.0145838062476624, loss val = 0.595958011437066\n",
            "2\n",
            "epoch : 2/30\n",
            "    loss train = 0.5054078986272788, loss val = 0.45828392950794367\n",
            "3\n",
            "epoch : 3/30\n",
            "    loss train = 0.42005740452910323, loss val = 0.4072627877887291\n",
            "4\n",
            "epoch : 4/30\n",
            "    loss train = 0.38377228737487207, loss val = 0.38004437466210955\n",
            "5\n",
            "epoch : 5/30\n",
            "    loss train = 0.36192378032085537, loss val = 0.36550710623777366\n",
            "6\n",
            "epoch : 6/30\n",
            "    loss train = 0.34692118962859864, loss val = 0.3608001072572756\n",
            "7\n",
            "epoch : 7/30\n",
            "    loss train = 0.33729661284657697, loss val = 0.34631983728348453\n",
            "8\n",
            "epoch : 8/30\n",
            "    loss train = 0.3287329104397913, loss val = 0.33797304935847655\n",
            "epoch : 9/30\n",
            "    loss train = 0.32292985142496844, loss val = 0.33864308610747135\n",
            "10\n",
            "epoch : 10/30\n",
            "    loss train = 0.31922591330907535, loss val = 0.33667035466885264\n",
            "11\n",
            "epoch : 11/30\n",
            "    loss train = 0.31500096215159085, loss val = 0.32935116619248933\n",
            "12\n",
            "epoch : 12/30\n",
            "    loss train = 0.31259793931108604, loss val = 0.32858211217047295\n",
            "13\n",
            "epoch : 13/30\n",
            "    loss train = 0.3091137632155967, loss val = 0.3269443913728376\n",
            "14\n",
            "epoch : 14/30\n",
            "    loss train = 0.3084402053481173, loss val = 0.324876894302006\n",
            "15\n",
            "epoch : 15/30\n",
            "    loss train = 0.30576479450211197, loss val = 0.32130088157291653\n",
            "16\n",
            "epoch : 16/30\n",
            "    loss train = 0.30453024457787614, loss val = 0.31775126483621474\n",
            "epoch : 17/30\n",
            "    loss train = 0.303010989256832, loss val = 0.3189613247596765\n",
            "epoch : 18/30\n",
            "    loss train = 0.3011264997293882, loss val = 0.3202157480807244\n",
            "epoch : 19/30\n",
            "    loss train = 0.3003064632187109, loss val = 0.32227780528460875\n",
            "20\n",
            "epoch : 20/30\n",
            "    loss train = 0.30028380573634295, loss val = 0.3144183951088145\n",
            "21\n",
            "epoch : 21/30\n",
            "    loss train = 0.2993742952604428, loss val = 0.3136961843016781\n",
            "epoch : 22/30\n",
            "    loss train = 0.2976962683908165, loss val = 0.3185373257987107\n",
            "epoch : 23/30\n",
            "    loss train = 0.2964751367526286, loss val = 0.3198183290188826\n",
            "epoch : 24/30\n",
            "    loss train = 0.2961889866291714, loss val = 0.330263097452212\n",
            "25\n",
            "epoch : 25/30\n",
            "    loss train = 0.2964854693931082, loss val = 0.31280096610890157\n",
            "epoch : 26/30\n",
            "    loss train = 0.29485257196685544, loss val = 0.3185853186664702\n",
            "epoch : 27/30\n",
            "    loss train = 0.29537582610879104, loss val = 0.3159782032046137\n",
            "epoch : 28/30\n",
            "    loss train = 0.2948938998801019, loss val = 0.3204263553400583\n",
            "epoch : 29/30\n",
            "    loss train = 0.29461248880228424, loss val = 0.3202466738374927\n",
            "30\n",
            "epoch : 30/30\n",
            "    loss train = 0.2935313849383608, loss val = 0.3115882017189943\n"
          ]
        }
      ],
      "source": [
        "tl_fae_cls1, vl_fae_cls1 = train_cls(model, train_loader, val_loader) # change to view vl_cae_cls1"
      ]
    },
    {
      "cell_type": "code",
      "execution_count": null,
      "metadata": {
        "colab": {
          "base_uri": "https://localhost:8080/"
        },
        "id": "NMhh2D3IF_Yo",
        "outputId": "e57181ab-585b-44ad-a20a-5d35fcad1917"
      },
      "outputs": [
        {
          "data": {
            "text/plain": [
              "<All keys matched successfully>"
            ]
          },
          "execution_count": 24,
          "metadata": {},
          "output_type": "execute_result"
        }
      ],
      "source": [
        "model.load_state_dict(t.load('/content/fae_cls1.pt'))"
      ]
    },
    {
      "cell_type": "code",
      "execution_count": null,
      "metadata": {
        "colab": {
          "base_uri": "https://localhost:8080/",
          "height": 482
        },
        "id": "6w_wqwgfPs6G",
        "outputId": "7da56d3d-748b-4e88-9980-60c8cb14a583"
      },
      "outputs": [
        {
          "data": {
            "image/png": "[encoded data removed]",
            "text/plain": [
              "<Figure size 576x576 with 9 Axes>"
            ]
          },
          "metadata": {},
          "output_type": "display_data"
        }
      ],
      "source": [
        "figure = plt.figure(figsize=(8, 8))\n",
        "for_pred = []\n",
        "\n",
        "cols, rows = 3, 3\n",
        "for i in range(1, cols * rows + 1):\n",
        "    sample_idx = t.randint(len(test_data), size=(1,)).item()\n",
        "    img, label = test_data[sample_idx]\n",
        "\n",
        "    figure.add_subplot(rows, cols, i)\n",
        "    plt.title(label)\n",
        "    plt.axis(\"off\")\n",
        "    plt.imshow(img.squeeze())#, cmap=\"gray\")\n",
        "\n",
        "    for_pred.append(sample_idx) \n",
        "plt.show()"
      ]
    },
    {
      "cell_type": "code",
      "execution_count": null,
      "metadata": {
        "colab": {
          "base_uri": "https://localhost:8080/",
          "height": 482
        },
        "id": "mPE4O0dmQ75U",
        "outputId": "b0bb24a0-c65f-4325-fea6-30ac825099f8"
      },
      "outputs": [
        {
          "data": {
            "image/png": "[encoded data removed]",
            "text/plain": [
              "<Figure size 576x576 with 9 Axes>"
            ]
          },
          "metadata": {},
          "output_type": "display_data"
        }
      ],
      "source": [
        "figure = plt.figure(figsize=(8, 8))\n",
        "cols, rows = 3, 3\n",
        "for i in range(1, cols * rows + 1):\n",
        "    # print(test_data[for_pred[i]][0][0].shape)\n",
        "    img, label,_ = model(test_data[for_pred[i-1]][0][0].view(-1,784).to(device))\n",
        "    img = img.cpu().detach().numpy()\n",
        "    figure.add_subplot(rows, cols, i)\n",
        "    plt.title(t.argmax(label))\n",
        "    plt.axis(\"off\")\n",
        "    plt.imshow(img.reshape(28,28)) #, cmap=\"gray\")\n",
        "\n",
        "plt.show()"
      ]
    },
    {
      "cell_type": "code",
      "execution_count": null,
      "metadata": {
        "id": "u5tKArSxVQ8Y"
      },
      "outputs": [],
      "source": [
        "def get_true_tst():\n",
        "    y_treu_tst = []\n",
        "    for item in test_data:\n",
        "        y_treu_tst.append(item[1])\n",
        "    return y_treu_tst"
      ]
    },
    {
      "cell_type": "code",
      "execution_count": null,
      "metadata": {
        "id": "Xdp7Rn7hWKRz"
      },
      "outputs": [],
      "source": [
        "def get_pred_tst(model, ae = True, f=False):\n",
        "    y_pred_tst = []\n",
        "    for data, label in test_data:\n",
        "        data = data.to(device)\n",
        "        if ae:\n",
        "            _, label, _ = model(data.view(-1,784).detach())\n",
        "            if not f:\n",
        "                 _, _, label = model(data.view(-1,784))\n",
        "        else:\n",
        "            label = model(data.view(-1,784))\n",
        "        y_pred_tst.append(int(t.argmax(label)))\n",
        "    return y_pred_tst"
      ]
    },
    {
      "cell_type": "markdown",
      "metadata": {
        "id": "sixzzgFkhADl"
      },
      "source": [
        "##Метрики\n",
        "\n",
        "> Сравнение метрик между собой можно увидеть в таблице результатов, находящейся в pdf файле репозитория. Данный эксперимент в таблице, относящейся к 1 эксперименту, назван: \"1).AE classification(layer after encoder)\"\n",
        "\n"
      ]
    },
    {
      "cell_type": "code",
      "execution_count": null,
      "metadata": {
        "colab": {
          "base_uri": "https://localhost:8080/"
        },
        "id": "MbLzkFwZSWsk",
        "outputId": "25830a49-12f0-4082-c876-3aecb8f7b611"
      },
      "outputs": [
        {
          "name": "stdout",
          "output_type": "stream",
          "text": [
            "micro: 0.9173000000000001\n",
            "macro: 0.916011347010026\n",
            "accuracy: 0.9173\n"
          ]
        }
      ],
      "source": [
        "from sklearn.metrics import f1_score, accuracy_score\n",
        "true, pred = get_true_tst(), get_pred_tst(model, f =True)\n",
        "print(f\"micro: {f1_score(true, pred, average='micro')}\\nmacro: {f1_score(true, pred, average='macro')}\")\n",
        "print(f'accuracy: {accuracy_score(true, pred)}')"
      ]
    },
    {
      "cell_type": "code",
      "execution_count": null,
      "metadata": {
        "colab": {
          "base_uri": "https://localhost:8080/",
          "height": 591
        },
        "id": "EFuAdKGDFZY_",
        "outputId": "af5ea654-5078-4a24-a1cc-16ac3ccf10b7"
      },
      "outputs": [
        {
          "name": "stdout",
          "output_type": "stream",
          "text": [
            "<sklearn.metrics._plot.confusion_matrix.ConfusionMatrixDisplay object at 0x7f3f600a7b90>\n",
            "              precision    recall  f1-score   support\n",
            "\n",
            "           0       0.95      0.98      0.96       980\n",
            "           1       0.96      0.98      0.97      1135\n",
            "           2       0.93      0.89      0.91      1032\n",
            "           3       0.89      0.92      0.90      1010\n",
            "           4       0.93      0.92      0.92       982\n",
            "           5       0.90      0.86      0.88       892\n",
            "           6       0.92      0.95      0.93       958\n",
            "           7       0.93      0.92      0.92      1028\n",
            "           8       0.89      0.85      0.87       974\n",
            "           9       0.87      0.91      0.89      1009\n",
            "\n",
            "    accuracy                           0.92     10000\n",
            "   macro avg       0.92      0.92      0.92     10000\n",
            "weighted avg       0.92      0.92      0.92     10000\n",
            "\n"
          ]
        },
        {
          "data": {
            "image/png": "[encoded data removed]",
            "text/plain": [
              "<Figure size 432x288 with 2 Axes>"
            ]
          },
          "metadata": {},
          "output_type": "display_data"
        }
      ],
      "source": [
        "from sklearn.metrics import classification_report, ConfusionMatrixDisplay\n",
        "true, pred = get_true_tst(), get_pred_tst(model, f =True)\n",
        "print(ConfusionMatrixDisplay.from_predictions(true, pred))\n",
        "print(classification_report(true, pred, target_names=[str(i) for i in range(10)]))"
      ]
    },
    {
      "cell_type": "markdown",
      "metadata": {
        "id": "lWfcaYS97FPd"
      },
      "source": [
        "#Pretrain encoder + classifier (учим pretrained encoder и classifier)"
      ]
    },
    {
      "cell_type": "code",
      "execution_count": null,
      "metadata": {
        "id": "F85tOEG77K9L"
      },
      "outputs": [],
      "source": [
        "params_EnCl = list(model.encoder.parameters()) + list(model.classifier2.parameters()) # переучиваем encoder и слой для классификации (encoder уже обучался на этих данных для AE)\n",
        "optimizer = optim.Adam(params_EnCl, lr=1e-3)\n",
        "criterion = t.nn.CrossEntropyLoss()"
      ]
    },
    {
      "cell_type": "code",
      "execution_count": null,
      "metadata": {
        "id": "YE5BaYYnnBPb"
      },
      "outputs": [],
      "source": [
        "def train_enc_cls(model, some_train_loader, some_val_loader, aug=False):\n",
        "    \"\"\"return lists of train and val losses\"\"\"\n",
        "    best_valid_loss = float('inf')\n",
        "    nae_cls_train, nae_cls_val = [], []\n",
        "    for epoch in range(epochs):\n",
        "        loss_t, loss_c = 0, 0\n",
        "        for input, labels in some_train_loader:\n",
        "            # reshape mini-batch data to [N, 784] matrix\n",
        "            # load it to the active device\n",
        "            input, labels = input.view(-1, 784).to(device), labels.to(device)\n",
        "            \n",
        "            # reset the gradients back to zero\n",
        "            # PyTorch accumulates gradients on subsequent backward passes\n",
        "            optimizer.zero_grad()\n",
        "            \n",
        "            # compute reconstructions\n",
        "            _, _, outputs = model(input)\n",
        "            # compute training reconstruction loss\n",
        "            train_loss = criterion(outputs, labels)\n",
        "            \n",
        "            # compute accumulated gradients\n",
        "            train_loss.backward()\n",
        "            \n",
        "            # perform parameter update based on current gradients\n",
        "            optimizer.step()\n",
        "            \n",
        "            # add the mini-batch training loss to epoch loss\n",
        "            loss_t += train_loss.item()\n",
        "        \n",
        "        # compute the epoch training loss\n",
        "        loss_t = loss_t / len(some_train_loader)\n",
        "        nae_cls_train.append(loss_t)\n",
        "\n",
        "        for input, labels in some_val_loader:\n",
        "            input, labels = input.view(-1, 784).to(device), labels.to(device)\n",
        "            with t.no_grad():\n",
        "                optimizer.zero_grad()\n",
        "                \n",
        "                _, _, outputs = model(input)\n",
        "\n",
        "                val_loss = criterion(outputs, labels)\n",
        "                loss_c += val_loss.item()\n",
        "        \n",
        "        loss_c = loss_c / len(some_val_loader)\n",
        "        if loss_c < best_valid_loss and not aug:\n",
        "            best_valid_loss = loss_c\n",
        "            t.save(model.state_dict(),path_for_save_model + 'fae_cls2' + '.pt')\n",
        "            t.save(model.state_dict(),'fae_cls2' + '.pt')\n",
        "            print(epoch+1)\n",
        "        elif loss_c < best_valid_loss and aug:\n",
        "            best_valid_loss = loss_c\n",
        "            t.save(model.state_dict(),path_for_save_model + 'aug_fae_cls2' + '.pt')\n",
        "            t.save(model.state_dict(),'aug_fae_cls2' + '.pt')\n",
        "            print(epoch+1)\n",
        "        nae_cls_val.append(loss_c)\n",
        "        \n",
        "        # display the epoch training loss\n",
        "        print(f\"epoch : {epoch + 1}/{epochs}\\n    loss train = {loss_t}, loss val = {loss_c}\")\n",
        "    return nae_cls_train, nae_cls_val"
      ]
    },
    {
      "cell_type": "code",
      "execution_count": null,
      "metadata": {
        "colab": {
          "base_uri": "https://localhost:8080/"
        },
        "id": "A92sK8S0Tc6M",
        "outputId": "3209c2b7-1c05-44e3-efea-f9ccdf6bc454"
      },
      "outputs": [
        {
          "name": "stdout",
          "output_type": "stream",
          "text": [
            "1\n",
            "epoch : 1/30\n",
            "    loss train = 0.3716047982806745, loss val = 0.20880066358213184\n",
            "2\n",
            "epoch : 2/30\n",
            "    loss train = 0.15301728463919875, loss val = 0.13578453070566623\n",
            "3\n",
            "epoch : 3/30\n",
            "    loss train = 0.09970651837566015, loss val = 0.11199025427804718\n",
            "4\n",
            "epoch : 4/30\n",
            "    loss train = 0.07200897640793982, loss val = 0.09617875044858909\n",
            "5\n",
            "epoch : 5/30\n",
            "    loss train = 0.05569002081585281, loss val = 0.0960851961192734\n",
            "6\n",
            "epoch : 6/30\n",
            "    loss train = 0.04151623130030454, loss val = 0.09258139016153881\n",
            "7\n",
            "epoch : 7/30\n",
            "    loss train = 0.03244906208951912, loss val = 0.08682690867328946\n",
            "epoch : 8/30\n",
            "    loss train = 0.026052024883880278, loss val = 0.09883306184901466\n",
            "9\n",
            "epoch : 9/30\n",
            "    loss train = 0.022412578302585636, loss val = 0.08458854680102837\n",
            "epoch : 10/30\n",
            "    loss train = 0.01755701657146444, loss val = 0.09775051065791351\n",
            "epoch : 11/30\n",
            "    loss train = 0.018709521149070766, loss val = 0.11122354787856906\n",
            "epoch : 12/30\n",
            "    loss train = 0.015183217518175703, loss val = 0.09981135441921651\n",
            "epoch : 13/30\n",
            "    loss train = 0.015282408033748921, loss val = 0.10620717354773844\n",
            "epoch : 14/30\n",
            "    loss train = 0.014904404456085285, loss val = 0.11341593150179126\n",
            "epoch : 15/30\n",
            "    loss train = 0.01352414483529911, loss val = 0.11581911381239755\n",
            "epoch : 16/30\n",
            "    loss train = 0.012371416778236393, loss val = 0.11734682388745155\n",
            "epoch : 17/30\n",
            "    loss train = 0.013562318587703528, loss val = 0.11975106185072255\n",
            "epoch : 18/30\n",
            "    loss train = 0.010732646316808411, loss val = 0.11227087595679096\n",
            "epoch : 19/30\n",
            "    loss train = 0.006912630923410051, loss val = 0.10840772262139281\n",
            "epoch : 20/30\n",
            "    loss train = 0.013205895906828148, loss val = 0.11690873752902203\n",
            "epoch : 21/30\n",
            "    loss train = 0.009842250189865674, loss val = 0.12857422146716307\n",
            "epoch : 22/30\n",
            "    loss train = 0.012051412739994629, loss val = 0.1270919812200709\n",
            "epoch : 23/30\n",
            "    loss train = 0.010215049089831963, loss val = 0.13503046845427796\n",
            "epoch : 24/30\n",
            "    loss train = 0.002885027644558303, loss val = 0.12235076496483688\n",
            "epoch : 25/30\n",
            "    loss train = 0.00826808805839652, loss val = 0.14915338785187165\n",
            "epoch : 26/30\n",
            "    loss train = 0.011973726743528687, loss val = 0.15549028746465432\n",
            "epoch : 27/30\n",
            "    loss train = 0.006994464311231048, loss val = 0.14790822464760534\n",
            "epoch : 28/30\n",
            "    loss train = 0.007560392168956767, loss val = 0.16503132528277656\n",
            "epoch : 29/30\n",
            "    loss train = 0.010060081793161844, loss val = 0.15137994246366\n",
            "epoch : 30/30\n",
            "    loss train = 0.007560058769431495, loss val = 0.13137934450649574\n"
          ]
        }
      ],
      "source": [
        "tl_fae_cls2, vl_fae_cls2 = train_enc_cls(model, train_loader, val_loader)"
      ]
    },
    {
      "cell_type": "code",
      "execution_count": null,
      "metadata": {
        "colab": {
          "base_uri": "https://localhost:8080/"
        },
        "id": "XdJRlT1KVki2",
        "outputId": "89a32a6b-0a4d-407f-972f-3e892e010707"
      },
      "outputs": [
        {
          "data": {
            "text/plain": [
              "<All keys matched successfully>"
            ]
          },
          "execution_count": 41,
          "metadata": {},
          "output_type": "execute_result"
        }
      ],
      "source": [
        "model.load_state_dict(t.load('/content/fae_cls2.pt')) #/content/drive/MyDrive/AutoEncoders/fae_cls12.pt  /content/fae_cls2.pt"
      ]
    },
    {
      "cell_type": "markdown",
      "metadata": {
        "id": "Nc-ubqC1hbhI"
      },
      "source": [
        "##Метрики\n",
        "\n",
        "> Сравнение метрик между собой можно увидеть в таблице результатов, находящейся в pdf файле репозитория. Данный эксперимент в таблице, относящейся к 1 эксперименту, назван: \"2).pretrained encoder + classification layer\""
      ]
    },
    {
      "cell_type": "code",
      "execution_count": null,
      "metadata": {
        "id": "lhLZwaTl-F-O"
      },
      "outputs": [],
      "source": [
        "from sklearn.metrics import f1_score, accuracy_score\n",
        "true, pred = get_true_tst(), get_pred_tst(model)\n",
        "print(f\"micro: {f1_score(true, pred, average='micro')}\\nmacro: {f1_score(true, pred, average='macro')}\")\n",
        "print(f'accuracy: {accuracy_score(true, pred)}')"
      ]
    },
    {
      "cell_type": "code",
      "execution_count": null,
      "metadata": {
        "colab": {
          "background_save": true
        },
        "id": "6GMLAIlD-WcX",
        "outputId": "b9c93c44-2e00-4a6c-b137-0d1affc2496c"
      },
      "outputs": [
        {
          "name": "stdout",
          "output_type": "stream",
          "text": [
            "<sklearn.metrics._plot.confusion_matrix.ConfusionMatrixDisplay object at 0x7f3f6a445e50>\n",
            "              precision    recall  f1-score   support\n",
            "\n",
            "           0       0.98      0.99      0.99       980\n",
            "           1       0.99      0.99      0.99      1135\n",
            "           2       0.97      0.98      0.98      1032\n",
            "           3       0.98      0.98      0.98      1010\n",
            "           4       0.98      0.98      0.98       982\n",
            "           5       0.98      0.98      0.98       892\n",
            "           6       0.99      0.97      0.98       958\n",
            "           7       0.97      0.98      0.98      1028\n",
            "           8       0.97      0.98      0.98       974\n",
            "           9       0.98      0.98      0.98      1009\n",
            "\n",
            "    accuracy                           0.98     10000\n",
            "   macro avg       0.98      0.98      0.98     10000\n",
            "weighted avg       0.98      0.98      0.98     10000\n",
            "\n"
          ]
        },
        {
          "data": {
            "image/png": "[encoded data removed]",
            "text/plain": [
              "<Figure size 432x288 with 2 Axes>"
            ]
          },
          "metadata": {},
          "output_type": "display_data"
        }
      ],
      "source": [
        "from sklearn.metrics import classification_report, ConfusionMatrixDisplay\n",
        "true, pred = get_true_tst(), get_pred_tst(model)\n",
        "print(ConfusionMatrixDisplay.from_predictions(true, pred))\n",
        "print(classification_report(true, pred, target_names=[str(i) for i in range(10)]))"
      ]
    },
    {
      "cell_type": "markdown",
      "metadata": {
        "id": "an5n4_aAtATO"
      },
      "source": [
        "#FCNet (учим полносвязную сеть encoder+classifier)"
      ]
    },
    {
      "cell_type": "code",
      "execution_count": null,
      "metadata": {
        "colab": {
          "background_save": true
        },
        "id": "9OuEJkP8tWrg"
      },
      "outputs": [],
      "source": [
        "fcnet = FCNet().to(device)"
      ]
    },
    {
      "cell_type": "code",
      "execution_count": null,
      "metadata": {
        "colab": {
          "background_save": true
        },
        "id": "C3Ng_bm9XmcW"
      },
      "outputs": [],
      "source": [
        "optimizer = optim.Adam(fcnet.parameters(), lr=1e-3)\n",
        "criterion = t.nn.CrossEntropyLoss()"
      ]
    },
    {
      "cell_type": "code",
      "execution_count": null,
      "metadata": {
        "colab": {
          "background_save": true
        },
        "id": "rVWnWILltdZq"
      },
      "outputs": [],
      "source": [
        "def train_FC(model, some_train_loader, some_val_loader, aug= False):\n",
        "    fc_train_loss, fc_val_loss = [], []\n",
        "    best_valid_loss = float('inf')\n",
        "    for epoch in range(epochs):\n",
        "        loss_t = 0\n",
        "        loss_v = 0\n",
        "        for input, target in some_train_loader:\n",
        "            input, target = input.view(-1, 784).to(device), target.to(device)\n",
        "\n",
        "            optimizer.zero_grad()\n",
        "            \n",
        "            outputs = model(input)\n",
        "            train_loss = criterion(outputs, target)\n",
        "            \n",
        "            train_loss.backward()\n",
        "            \n",
        "            optimizer.step()\n",
        "            \n",
        "            loss_t += train_loss.item()\n",
        "        \n",
        "        loss_t = loss_t / len(some_train_loader)\n",
        "\n",
        "        for input, labels in some_val_loader:\n",
        "            input, labels = input.view(-1, 784).to(device), labels.to(device)\n",
        "\n",
        "            with t.no_grad():\n",
        "                optimizer.zero_grad()\n",
        "                \n",
        "                outputs = model(input)\n",
        "\n",
        "                loss_v = criterion(outputs, labels)\n",
        "                loss_v += loss_v.item()\n",
        "        \n",
        "        loss_v = loss_v / len(some_val_loader)\n",
        "        if loss_v < best_valid_loss and not aug:\n",
        "            best_valid_loss = loss_v\n",
        "            t.save(model.state_dict(),path_for_save_model + 'fcn_cls3' + '.pt')\n",
        "            t.save(model.state_dict(),'fcn_cls3' + '.pt')\n",
        "            print(epoch+1)\n",
        "        elif loss_v < best_valid_loss and aug:\n",
        "            best_valid_loss = loss_v\n",
        "            t.save(model.state_dict(),path_for_save_model + 'aug_fcn_cls3' + '.pt')\n",
        "            t.save(model.state_dict(),'aug_fcn_cls3' + '.pt')\n",
        "            print(epoch+1)\n",
        "        fc_val_loss.append(loss_v)\n",
        "        \n",
        "        print(f\"epoch : {epoch + 1}/{epochs}, train loss = {loss_t}, val loss = {loss_v}\")\n",
        "    return fc_train_loss, fc_val_loss"
      ]
    },
    {
      "cell_type": "code",
      "execution_count": null,
      "metadata": {
        "id": "fIwf5eRUYATJ"
      },
      "outputs": [],
      "source": [
        "tl_fae_cls3, vl_fae_cls3 = train_FC(fcnet, train_loader, val_loader)"
      ]
    },
    {
      "cell_type": "code",
      "execution_count": null,
      "metadata": {
        "id": "C2iUebbkYdPD"
      },
      "outputs": [],
      "source": [
        "fcnet.load_state_dict(t.load('/content/fcn_cls3.pt'))"
      ]
    },
    {
      "cell_type": "markdown",
      "metadata": {
        "id": "4_u4fGIdhd47"
      },
      "source": [
        "##Метрики\n",
        "\n",
        "> Сравнение метрик между собой можно увидеть в таблице результатов, находящейся в pdf файле репозитория. Данный эксперимент в таблице, относящейся к 1 эксперименту, назван: \"3).encoder + classification layer (FCN)\""
      ]
    },
    {
      "cell_type": "code",
      "execution_count": null,
      "metadata": {
        "id": "wyacUMmY0T-1"
      },
      "outputs": [],
      "source": [
        "from sklearn.metrics import f1_score, accuracy_score\n",
        "true, pred = get_true_tst(), get_pred_tst(fcnet, False, True)\n",
        "print(f\"micro: {f1_score(true, pred, average='micro')}\\nmacro: {f1_score(true, pred, average='macro')}\")\n",
        "print(f'accuracy: {accuracy_score(true, pred)}')"
      ]
    },
    {
      "cell_type": "code",
      "execution_count": null,
      "metadata": {
        "id": "tvOnUXad0XnT"
      },
      "outputs": [],
      "source": [
        "from sklearn.metrics import classification_report, ConfusionMatrixDisplay\n",
        "true, pred = get_true_tst(), get_pred_tst(fcnet, False, True)\n",
        "print(ConfusionMatrixDisplay.from_predictions(true, pred))\n",
        "print(classification_report(true, pred, target_names=[str(i) for i in range(10)]))"
      ]
    },
    {
      "cell_type": "markdown",
      "metadata": {
        "id": "EzH-NqbajATA"
      },
      "source": [
        "## Сравнение значений функции потерь (на валидационной выборке) "
      ]
    },
    {
      "cell_type": "code",
      "execution_count": null,
      "metadata": {
        "id": "YGaY_Lel0YEJ"
      },
      "outputs": [],
      "source": [
        "def PlotVal(val1,val2,val3, name1 = 'last fc layer', name2='encoder+fc', name3='fc net'):\n",
        "    x = range(30)\n",
        "    plt.plot(x, val1, label = name1)\n",
        "    plt.plot(x, val2, label = name2)\n",
        "    plt.plot(x, val3, label = name3)\n",
        "    plt.xlabel('epoch')\n",
        "    plt.ylabel('val loss')\n",
        "    plt.legend()\n",
        "    plt.show()\n",
        "\n"
      ]
    },
    {
      "cell_type": "code",
      "execution_count": null,
      "metadata": {
        "id": "vUwZs8QFjL48"
      },
      "outputs": [],
      "source": [
        "PlotVal(vl_fae_cls1, vl_fae_cls2, vl_fae_cls3)"
      ]
    },
    {
      "cell_type": "markdown",
      "metadata": {
        "id": "oz1xmDCDbD1_"
      },
      "source": [
        "# Добавление аугментаций "
      ]
    },
    {
      "cell_type": "code",
      "execution_count": null,
      "metadata": {
        "id": "DTL1qtbVbM2K"
      },
      "outputs": [],
      "source": [
        "tranforms_second = torchvision.transforms.Compose([\n",
        "                               torchvision.transforms.RandomErasing(p=1, scale=(0.1, 0.15))]\n",
        "                               )"
      ]
    },
    {
      "cell_type": "code",
      "execution_count": null,
      "metadata": {
        "id": "MSsBqUvDbrww"
      },
      "outputs": [],
      "source": [
        "class DatasetCustom(Dataset):\n",
        "    def __init__(self, dataset, transforms=None):\n",
        "        self.dataset = dataset\n",
        "        self.transforms = transforms\n",
        "\n",
        "    def __len__(self):\n",
        "        return len(self.dataset) \n",
        "\n",
        "    def __getitem__(self, idx):\n",
        "        img, label = self.dataset[idx]\n",
        "        if self.transforms:\n",
        "            img = self.transforms(img)\n",
        "\n",
        "        return img, label"
      ]
    },
    {
      "cell_type": "code",
      "execution_count": null,
      "metadata": {
        "id": "jhXGihNdgwii"
      },
      "outputs": [],
      "source": [
        "aug_train_data = DatasetCustom(train_data, tranforms_second)\n",
        "aug_val_data = DatasetCustom(val_data)\n",
        "aug_test_data = DatasetCustom(test_data)"
      ]
    },
    {
      "cell_type": "code",
      "execution_count": null,
      "metadata": {
        "id": "YmDC-Kcagy42"
      },
      "outputs": [],
      "source": [
        "aug_train_loader = t.utils.data.DataLoader(\n",
        "    aug_train_data,\n",
        "    batch_size=batch_size_train, shuffle=True)\n",
        "\n",
        "aug_test_loader = t.utils.data.DataLoader(\n",
        "    aug_test_data,\n",
        "    batch_size=batch_size_test, shuffle=True)\n",
        "\n",
        "aug_val_loader = t.utils.data.DataLoader(\n",
        "    aug_val_data,\n",
        "    batch_size=batch_size_test, shuffle=True)"
      ]
    },
    {
      "cell_type": "code",
      "execution_count": null,
      "metadata": {
        "colab": {
          "base_uri": "https://localhost:8080/",
          "height": 282
        },
        "id": "ass8odJViEVr",
        "outputId": "ffc47b1d-fab2-4e74-ff31-a8b92fca472d"
      },
      "outputs": [
        {
          "data": {
            "text/plain": [
              "<matplotlib.image.AxesImage at 0x7fc1bc88e090>"
            ]
          },
          "execution_count": 22,
          "metadata": {},
          "output_type": "execute_result"
        },
        {
          "data": {
            "image/png": "[encoded data removed]",
            "text/plain": [
              "<Figure size 432x288 with 1 Axes>"
            ]
          },
          "metadata": {},
          "output_type": "display_data"
        }
      ],
      "source": [
        "plt.imshow(aug_train_data[6][0][0])"
      ]
    },
    {
      "cell_type": "code",
      "execution_count": null,
      "metadata": {
        "colab": {
          "base_uri": "https://localhost:8080/"
        },
        "id": "8tO5oaVDiLiI",
        "outputId": "0a87331c-a36f-4ea2-e4a9-a82f83b32d16"
      },
      "outputs": [
        {
          "data": {
            "text/plain": [
              "1"
            ]
          },
          "execution_count": 23,
          "metadata": {},
          "output_type": "execute_result"
        }
      ],
      "source": [
        "aug_train_data[6][1]"
      ]
    },
    {
      "cell_type": "markdown",
      "metadata": {
        "id": "MowD9WqY_5lt"
      },
      "source": [
        "#Pretrain encoder + classifier (учим только последний слой)"
      ]
    },
    {
      "cell_type": "markdown",
      "metadata": {
        "id": "u2Sxjm2vh9L6"
      },
      "source": [
        "##Предобучение полносвязного AE"
      ]
    },
    {
      "cell_type": "code",
      "execution_count": null,
      "metadata": {
        "id": "iyS0EDqrjnnr"
      },
      "outputs": [],
      "source": [
        "aug_model = AECls().to(device)"
      ]
    },
    {
      "cell_type": "code",
      "execution_count": null,
      "metadata": {
        "id": "uZIezqG7iYmh"
      },
      "outputs": [],
      "source": [
        "params_aug_AE = list(aug_model.encoder.parameters()) + list(aug_model.decoder.parameters()) # передаем данные веса для обучения AutoEncoder целиком\n",
        "optimizer = optim.Adam(params_aug_AE, lr=1e-3)# обучение кодирование декодирования\n",
        "criterion = nn.MSELoss()"
      ]
    },
    {
      "cell_type": "code",
      "execution_count": null,
      "metadata": {
        "colab": {
          "base_uri": "https://localhost:8080/"
        },
        "id": "vmYDB18gkM0B",
        "outputId": "feb88574-237d-4cd7-a00a-1795dff57463"
      },
      "outputs": [
        {
          "name": "stdout",
          "output_type": "stream",
          "text": [
            "\n",
            "Epoch 1 / 30 ################\n",
            "1\n",
            "    train loss: 0.22035493564499004, val loss: 0.12592719749936573\n",
            "\n",
            "Epoch 2 / 30 ################\n",
            "2\n",
            "    train loss: 0.10689097214156709, val loss: 0.09460312995729567\n",
            "\n",
            "Epoch 3 / 30 ################\n",
            "3\n",
            "    train loss: 0.08894268941620122, val loss: 0.08340506934666936\n",
            "\n",
            "Epoch 4 / 30 ################\n",
            "4\n",
            "    train loss: 0.08107103439776794, val loss: 0.07760464843315414\n",
            "\n",
            "Epoch 5 / 30 ################\n",
            "5\n",
            "    train loss: 0.07724625657281607, val loss: 0.07465604126830644\n",
            "\n",
            "Epoch 6 / 30 ################\n",
            "6\n",
            "    train loss: 0.07540011224920487, val loss: 0.07458171116400368\n",
            "\n",
            "Epoch 7 / 30 ################\n",
            "7\n",
            "    train loss: 0.07477102243839323, val loss: 0.07398577704082561\n",
            "\n",
            "Epoch 8 / 30 ################\n",
            "8\n",
            "    train loss: 0.0741486928575789, val loss: 0.07254839782850651\n",
            "\n",
            "Epoch 9 / 30 ################\n",
            "    train loss: 0.07405526718825026, val loss: 0.07259841763143297\n",
            "\n",
            "Epoch 10 / 30 ################\n",
            "10\n",
            "    train loss: 0.07381695070687462, val loss: 0.07188274730232698\n",
            "\n",
            "Epoch 11 / 30 ################\n",
            "11\n",
            "    train loss: 0.07358053839191452, val loss: 0.07154801355887062\n",
            "\n",
            "Epoch 12 / 30 ################\n",
            "    train loss: 0.07338185837049313, val loss: 0.07235675729528258\n",
            "\n",
            "Epoch 13 / 30 ################\n",
            "13\n",
            "    train loss: 0.073297376275215, val loss: 0.07150407701353484\n",
            "\n",
            "Epoch 14 / 30 ################\n",
            "    train loss: 0.07325621002622883, val loss: 0.07423848649369011\n",
            "\n",
            "Epoch 15 / 30 ################\n",
            "15\n",
            "    train loss: 0.07311370158972948, val loss: 0.07073988605149184\n",
            "\n",
            "Epoch 16 / 30 ################\n",
            "    train loss: 0.0729684240334784, val loss: 0.07158223435848574\n",
            "\n",
            "Epoch 17 / 30 ################\n",
            "    train loss: 0.07323127582936031, val loss: 0.07170344521350498\n",
            "\n",
            "Epoch 18 / 30 ################\n",
            "    train loss: 0.0727699229403225, val loss: 0.07094911009639124\n",
            "\n",
            "Epoch 19 / 30 ################\n",
            "19\n",
            "    train loss: 0.07281541992026522, val loss: 0.07065229990248438\n",
            "\n",
            "Epoch 20 / 30 ################\n",
            "    train loss: 0.07278004294389959, val loss: 0.07161150467169436\n",
            "\n",
            "Epoch 21 / 30 ################\n",
            "    train loss: 0.07272875087950235, val loss: 0.07069914156123053\n",
            "\n",
            "Epoch 22 / 30 ################\n",
            "22\n",
            "    train loss: 0.07265797768102582, val loss: 0.0704096269947064\n",
            "\n",
            "Epoch 23 / 30 ################\n",
            "    train loss: 0.07248823552409096, val loss: 0.07071053368758552\n",
            "\n",
            "Epoch 24 / 30 ################\n",
            "    train loss: 0.07254281443784304, val loss: 0.07116391453184659\n",
            "\n",
            "Epoch 25 / 30 ################\n",
            "    train loss: 0.07251355625555643, val loss: 0.07045134864275969\n",
            "\n",
            "Epoch 26 / 30 ################\n",
            "    train loss: 0.07247590225980714, val loss: 0.07062525500225116\n",
            "\n",
            "Epoch 27 / 30 ################\n",
            "27\n",
            "    train loss: 0.07231724452789483, val loss: 0.07008140878398207\n",
            "\n",
            "Epoch 28 / 30 ################\n",
            "    train loss: 0.07246209993539258, val loss: 0.07094179546531243\n",
            "\n",
            "Epoch 29 / 30 ################\n",
            "    train loss: 0.07229997871248313, val loss: 0.07026120737383637\n",
            "\n",
            "Epoch 30 / 30 ################\n",
            "    train loss: 0.07231871185400297, val loss: 0.07130166237490086\n"
          ]
        }
      ],
      "source": [
        "aug_ae_train_loss, aug_ae_val_loss = [], []\n",
        "tmp_loss = float('inf')\n",
        "for epoch in range(epochs):\n",
        "    print('\\nEpoch {:} / {:}'.format(epoch + 1, epochs)+' ################')\n",
        "    train_loss = train(aug_model, aug_train_loader)\n",
        "    val_loss = evaluate(aug_model, aug_val_loader)\n",
        "    if val_loss < tmp_loss:\n",
        "        tmp_loss = val_loss\n",
        "        t.save(aug_model.state_dict(), '/content/drive/MyDrive/AutoEncoders/' + 'aug_fae' + '.pt')\n",
        "        t.save(aug_model.state_dict(),'aug_fae' + '.pt')\n",
        "        print(epoch+1)\n",
        "    aug_ae_train_loss.append(train_loss)\n",
        "    aug_ae_val_loss.append(val_loss)\n",
        "    print(f'    train loss: {train_loss}, val loss: {val_loss}')"
      ]
    },
    {
      "cell_type": "code",
      "execution_count": null,
      "metadata": {
        "colab": {
          "base_uri": "https://localhost:8080/"
        },
        "id": "E1Vefy2nc48X",
        "outputId": "0788762d-ef23-406b-9888-685ab5ce2e0a"
      },
      "outputs": [
        {
          "data": {
            "text/plain": [
              "<All keys matched successfully>"
            ]
          },
          "execution_count": 27,
          "metadata": {},
          "output_type": "execute_result"
        }
      ],
      "source": [
        "aug_model.load_state_dict(t.load('/content/drive/MyDrive/AutoEncoders/aug_fae.pt'))"
      ]
    },
    {
      "cell_type": "markdown",
      "metadata": {
        "id": "Hjg6iaJMiYxG"
      },
      "source": [
        "##Обучение слоя, отвечающего за классификацию"
      ]
    },
    {
      "cell_type": "code",
      "execution_count": null,
      "metadata": {
        "id": "xCcoZLFsnx0w"
      },
      "outputs": [],
      "source": [
        "aug_param_cls = list(aug_model.classifier.parameters()) # Передаем данные веса для обучения последнего слоя, отвечающего за классификацию на основе фичей полученных с энкодера\n",
        "optimizer = optim.Adam(aug_param_cls, lr=1e-3)# обучение кодирование декодирования\n",
        "criterion = nn.CrossEntropyLoss()"
      ]
    },
    {
      "cell_type": "code",
      "execution_count": null,
      "metadata": {
        "colab": {
          "base_uri": "https://localhost:8080/"
        },
        "id": "tn3zFHQdp0KZ",
        "outputId": "b7199557-c283-4107-ec6c-38cb6f1fd689"
      },
      "outputs": [
        {
          "name": "stdout",
          "output_type": "stream",
          "text": [
            "1\n",
            "epoch : 1/30\n",
            "    loss train = 0.5672477885432865, loss val = 0.4042490020960192\n",
            "2\n",
            "epoch : 2/30\n",
            "    loss train = 0.5520480943610296, loss val = 0.40258396501782573\n",
            "3\n",
            "epoch : 3/30\n",
            "    loss train = 0.5494955358145487, loss val = 0.3947378323425221\n",
            "4\n",
            "epoch : 4/30\n",
            "    loss train = 0.5450477310458718, loss val = 0.385216511125806\n",
            "epoch : 5/30\n",
            "    loss train = 0.533038592628201, loss val = 0.38547516152074063\n",
            "epoch : 6/30\n",
            "    loss train = 0.5355076663329473, loss val = 0.38927093789547307\n",
            "epoch : 7/30\n",
            "    loss train = 0.5282328830045813, loss val = 0.3922278948977024\n",
            "8\n",
            "epoch : 8/30\n",
            "    loss train = 0.5311896920661487, loss val = 0.38188022337382355\n",
            "9\n",
            "epoch : 9/30\n",
            "    loss train = 0.52820630314405, loss val = 0.38024536906918394\n",
            "10\n",
            "epoch : 10/30\n",
            "    loss train = 0.5273331498246059, loss val = 0.3793977643304233\n",
            "11\n",
            "epoch : 11/30\n",
            "    loss train = 0.5230914371855119, loss val = 0.3708411564791127\n",
            "epoch : 12/30\n",
            "    loss train = 0.5247822463359979, loss val = 0.37782516736018507\n",
            "epoch : 13/30\n",
            "    loss train = 0.5165788880394547, loss val = 0.3810681083911582\n",
            "epoch : 14/30\n",
            "    loss train = 0.520035283263687, loss val = 0.3729088739786722\n",
            "epoch : 15/30\n",
            "    loss train = 0.5112216221859388, loss val = 0.3716869673019723\n",
            "epoch : 16/30\n",
            "    loss train = 0.515749582625411, loss val = 0.3737687838228443\n",
            "epoch : 17/30\n",
            "    loss train = 0.5118201059453628, loss val = 0.38349345345285873\n",
            "epoch : 18/30\n",
            "    loss train = 0.511690221098073, loss val = 0.38248314567004577\n",
            "19\n",
            "epoch : 19/30\n",
            "    loss train = 0.5150715586779367, loss val = 0.36324735716739787\n",
            "epoch : 20/30\n",
            "    loss train = 0.5158031354170016, loss val = 0.38057919129540646\n",
            "epoch : 21/30\n",
            "    loss train = 0.5074810681440641, loss val = 0.37114396446113346\n",
            "epoch : 22/30\n",
            "    loss train = 0.5103913179748808, loss val = 0.3747802156059048\n",
            "epoch : 23/30\n",
            "    loss train = 0.5096548436700231, loss val = 0.37144190054151077\n",
            "epoch : 24/30\n",
            "    loss train = 0.5160693365442174, loss val = 0.3654202215279205\n",
            "25\n",
            "epoch : 25/30\n",
            "    loss train = 0.5102180092383528, loss val = 0.36284141926259933\n",
            "epoch : 26/30\n",
            "    loss train = 0.5122153275000775, loss val = 0.3644005973127824\n",
            "epoch : 27/30\n",
            "    loss train = 0.5097155124330155, loss val = 0.39333900366025637\n",
            "epoch : 28/30\n",
            "    loss train = 0.5137255933431103, loss val = 0.3754462628047677\n",
            "epoch : 29/30\n",
            "    loss train = 0.5064940433520491, loss val = 0.3728729193629343\n",
            "30\n",
            "epoch : 30/30\n",
            "    loss train = 0.50687190082372, loss val = 0.36251102477500713\n"
          ]
        }
      ],
      "source": [
        "tl_augfae_cls1, vl_augfae_cls1 = train_cls(aug_model,aug_train_loader, aug_val_loader, True)"
      ]
    },
    {
      "cell_type": "code",
      "execution_count": null,
      "metadata": {
        "colab": {
          "base_uri": "https://localhost:8080/"
        },
        "id": "dQEw919_e67X",
        "outputId": "d8417449-3779-4028-926a-49de56d81729"
      },
      "outputs": [
        {
          "data": {
            "text/plain": [
              "<All keys matched successfully>"
            ]
          },
          "execution_count": 48,
          "metadata": {},
          "output_type": "execute_result"
        }
      ],
      "source": [
        "aug_model.load_state_dict(t.load('/content/aug_fae_cls1.pt'))"
      ]
    },
    {
      "cell_type": "code",
      "execution_count": null,
      "metadata": {
        "colab": {
          "base_uri": "https://localhost:8080/",
          "height": 482
        },
        "id": "CHxa8wfCnHAv",
        "outputId": "85282009-8c96-4f8d-ac9b-5e012b65a2d5"
      },
      "outputs": [
        {
          "data": {
            "image/png": "[encoded data removed]",
            "text/plain": [
              "<Figure size 576x576 with 9 Axes>"
            ]
          },
          "metadata": {},
          "output_type": "display_data"
        }
      ],
      "source": [
        "figure = plt.figure(figsize=(8, 8))\n",
        "for_pred1 = []\n",
        "\n",
        "cols, rows = 3, 3\n",
        "for i in range(1, cols * rows + 1):\n",
        "    sample_idx = t.randint(len(test_data), size=(1,)).item()\n",
        "    img, label = aug_test_data[sample_idx]\n",
        "\n",
        "    figure.add_subplot(rows, cols, i)\n",
        "    plt.title(label)\n",
        "    plt.axis(\"off\")\n",
        "    plt.imshow(img.squeeze())#, cmap=\"gray\")\n",
        "\n",
        "    for_pred1.append(sample_idx) \n",
        "plt.show()"
      ]
    },
    {
      "cell_type": "code",
      "execution_count": null,
      "metadata": {
        "id": "9ZugFlrEkVDR"
      },
      "outputs": [],
      "source": [
        "figure = plt.figure(figsize=(8, 8))\n",
        "cols, rows = 3, 3\n",
        "for i in range(1, cols * rows + 1):\n",
        "    # print(test_data[for_pred[i]][0][0].shape)\n",
        "    img, label,_ = aug_model(aug_test_data[for_pred1[i-1]][0][0].view(-1,784))\n",
        "    img = img.detach().numpy()\n",
        "    figure.add_subplot(rows, cols, i)\n",
        "    plt.title(t.argmax(label))\n",
        "    plt.axis(\"off\")\n",
        "    plt.imshow(img.reshape(28,28)) #, cmap=\"gray\")\n",
        "\n",
        "plt.show()"
      ]
    },
    {
      "cell_type": "markdown",
      "metadata": {
        "id": "ElOGjVFoihfs"
      },
      "source": [
        "##Метрики\n",
        "> Сравнение метрик между собой можно увидеть в таблице результатов, находящейся в pdf файле репозитория. Данный эксперимент в таблице, относящейся к 2 эксперименту, назван: \"1).AE classification(layer after encoder)\""
      ]
    },
    {
      "cell_type": "code",
      "execution_count": null,
      "metadata": {
        "colab": {
          "base_uri": "https://localhost:8080/"
        },
        "id": "oFGP744PrrA8",
        "outputId": "e7d594e2-11fb-40a7-ddb9-68a7081d988d"
      },
      "outputs": [
        {
          "name": "stdout",
          "output_type": "stream",
          "text": [
            "micro: 0.9057\n",
            "macro: 0.9043579778986695\n",
            "accuracy: 0.9057\n"
          ]
        }
      ],
      "source": [
        "from sklearn.metrics import f1_score, accuracy_score\n",
        "true, pred = get_true_tst(), get_pred_tst(aug_model, f =True)\n",
        "print(f\"micro: {f1_score(true, pred, average='micro')}\\nmacro: {f1_score(true, pred, average='macro')}\")\n",
        "print(f'accuracy: {accuracy_score(true, pred)}')"
      ]
    },
    {
      "cell_type": "code",
      "execution_count": null,
      "metadata": {
        "colab": {
          "base_uri": "https://localhost:8080/",
          "height": 591
        },
        "id": "6DXCLn5Wz7q8",
        "outputId": "62d30ff0-a4d0-41c0-d49f-bf9f948f8bb2"
      },
      "outputs": [
        {
          "name": "stdout",
          "output_type": "stream",
          "text": [
            "<sklearn.metrics._plot.confusion_matrix.ConfusionMatrixDisplay object at 0x7efe6a6697d0>\n",
            "              precision    recall  f1-score   support\n",
            "\n",
            "           0       0.95      0.98      0.96       980\n",
            "           1       0.94      0.97      0.95      1135\n",
            "           2       0.91      0.87      0.89      1032\n",
            "           3       0.92      0.87      0.90      1010\n",
            "           4       0.88      0.92      0.90       982\n",
            "           5       0.91      0.82      0.86       892\n",
            "           6       0.90      0.94      0.92       958\n",
            "           7       0.90      0.91      0.91      1028\n",
            "           8       0.84      0.89      0.86       974\n",
            "           9       0.90      0.87      0.88      1009\n",
            "\n",
            "    accuracy                           0.91     10000\n",
            "   macro avg       0.91      0.90      0.90     10000\n",
            "weighted avg       0.91      0.91      0.91     10000\n",
            "\n"
          ]
        },
        {
          "data": {
            "image/png": "[encoded data removed]",
            "text/plain": [
              "<Figure size 432x288 with 2 Axes>"
            ]
          },
          "metadata": {},
          "output_type": "display_data"
        }
      ],
      "source": [
        "from sklearn.metrics import classification_report, ConfusionMatrixDisplay\n",
        "true, pred = get_true_tst(), get_pred_tst(aug_model, f =True)\n",
        "print(ConfusionMatrixDisplay.from_predictions(true, pred))\n",
        "print(classification_report(true, pred, target_names=[str(i) for i in range(10)]))"
      ]
    },
    {
      "cell_type": "markdown",
      "metadata": {
        "id": "iXgGwkAH_8gT"
      },
      "source": [
        "#Pretrain encoder + classifier (учим pretrained encoder и classifier)"
      ]
    },
    {
      "cell_type": "code",
      "execution_count": null,
      "metadata": {
        "id": "klf6l2gv0My6"
      },
      "outputs": [],
      "source": [
        "params_EnCl = list(aug_model.encoder.parameters()) + list(aug_model.classifier2.parameters()) # переучиваем encoder и слой для классификации (encoder уже обучался на этих данных для AE)\n",
        "optimizer = optim.Adam(params_EnCl, lr=1e-3)\n",
        "criterion = t.nn.CrossEntropyLoss()"
      ]
    },
    {
      "cell_type": "code",
      "execution_count": null,
      "metadata": {
        "colab": {
          "base_uri": "https://localhost:8080/"
        },
        "id": "xRf-E3Tz2qbv",
        "outputId": "3fbf6432-4c34-432a-9a2b-732aa49fb32c"
      },
      "outputs": [
        {
          "name": "stdout",
          "output_type": "stream",
          "text": [
            "1\n",
            "epoch : 1/30\n",
            "    loss train = 0.5753522242426568, loss val = 0.25641689798499967\n",
            "2\n",
            "epoch : 2/30\n",
            "    loss train = 0.31100454486315815, loss val = 0.1657786753170098\n",
            "3\n",
            "epoch : 3/30\n",
            "    loss train = 0.2304703978359547, loss val = 0.13249025682482538\n",
            "4\n",
            "epoch : 4/30\n",
            "    loss train = 0.19038777927989545, loss val = 0.1110206174935344\n",
            "5\n",
            "epoch : 5/30\n",
            "    loss train = 0.17045217064564186, loss val = 0.09252636339751226\n",
            "6\n",
            "epoch : 6/30\n",
            "    loss train = 0.1520870971633955, loss val = 0.08902583863067476\n",
            "7\n",
            "epoch : 7/30\n",
            "    loss train = 0.14387377277207192, loss val = 0.0835603753317006\n",
            "epoch : 8/30\n",
            "    loss train = 0.1297841760356103, loss val = 0.08595701728363911\n",
            "epoch : 9/30\n",
            "    loss train = 0.12973182924720636, loss val = 0.08386979174882739\n",
            "10\n",
            "epoch : 10/30\n",
            "    loss train = 0.12224462084338793, loss val = 0.07330832569535728\n",
            "11\n",
            "epoch : 11/30\n",
            "    loss train = 0.11720900693932153, loss val = 0.06666332204484299\n",
            "epoch : 12/30\n",
            "    loss train = 0.11074622044973362, loss val = 0.07365634818148764\n",
            "epoch : 13/30\n",
            "    loss train = 0.10488246051627961, loss val = 0.07567726794771756\n",
            "epoch : 14/30\n",
            "    loss train = 0.10204839178115663, loss val = 0.07860728327326383\n",
            "epoch : 15/30\n",
            "    loss train = 0.10086329785816352, loss val = 0.07187007637871311\n",
            "epoch : 16/30\n",
            "    loss train = 0.09699549294693773, loss val = 0.0702982869859832\n",
            "epoch : 17/30\n",
            "    loss train = 0.09421571599476783, loss val = 0.07399661628134502\n",
            "epoch : 18/30\n",
            "    loss train = 0.09035067393175324, loss val = 0.0687417208977468\n",
            "epoch : 19/30\n",
            "    loss train = 0.09143107385396043, loss val = 0.06796569914757451\n",
            "20\n",
            "epoch : 20/30\n",
            "    loss train = 0.09101480687194316, loss val = 0.06207253344215547\n",
            "epoch : 21/30\n",
            "    loss train = 0.08598755705682441, loss val = 0.06557724309298268\n",
            "epoch : 22/30\n",
            "    loss train = 0.08521677271875046, loss val = 0.06812571542178386\n",
            "epoch : 23/30\n",
            "    loss train = 0.0825379433281853, loss val = 0.06334985138058569\n",
            "epoch : 24/30\n",
            "    loss train = 0.08142748857369585, loss val = 0.06727330670677291\n",
            "epoch : 25/30\n",
            "    loss train = 0.08177533598326127, loss val = 0.06760816917978699\n",
            "epoch : 26/30\n",
            "    loss train = 0.08000636057299383, loss val = 0.06428436505537527\n",
            "epoch : 27/30\n",
            "    loss train = 0.07768345493442186, loss val = 0.06829178974579848\n",
            "epoch : 28/30\n",
            "    loss train = 0.07471958641677409, loss val = 0.06526338744354493\n",
            "epoch : 29/30\n",
            "    loss train = 0.07597072562560096, loss val = 0.0655247151860726\n",
            "epoch : 30/30\n",
            "    loss train = 0.07373185564890085, loss val = 0.07193651568745793\n"
          ]
        }
      ],
      "source": [
        "tl_augfae_cls2, vl_augfae_cls2 = train_enc_cls(aug_model, aug_train_loader, aug_val_loader, True)"
      ]
    },
    {
      "cell_type": "code",
      "execution_count": null,
      "metadata": {
        "colab": {
          "base_uri": "https://localhost:8080/"
        },
        "id": "mkQR9szPiYUT",
        "outputId": "7e17e22c-afe2-45f5-f685-4304bcacf839"
      },
      "outputs": [
        {
          "data": {
            "text/plain": [
              "<All keys matched successfully>"
            ]
          },
          "execution_count": 70,
          "metadata": {},
          "output_type": "execute_result"
        }
      ],
      "source": [
        "aug_model.load_state_dict(t.load('/content/aug_fae_cls2.pt'))"
      ]
    },
    {
      "cell_type": "markdown",
      "metadata": {
        "id": "Bc6EZbndilHF"
      },
      "source": [
        "##Метрики\n",
        "\n",
        "> Сравнение метрик между собой можно увидеть в таблице результатов, находящейся в pdf файле репозитория. Данный эксперимент в таблице, относящейся к 2 эксперименту, назван: \"2).pretrained encoder + classification layer\""
      ]
    },
    {
      "cell_type": "code",
      "execution_count": null,
      "metadata": {
        "colab": {
          "base_uri": "https://localhost:8080/",
          "height": 643
        },
        "id": "IS6j2e9r3fyb",
        "outputId": "c97e3ad4-c1dd-4503-f2c8-d2cc52b91780"
      },
      "outputs": [
        {
          "name": "stdout",
          "output_type": "stream",
          "text": [
            "micro: 0.9824\n",
            "macro: 0.982324731388864\n",
            "accuracy: 0.9824\n",
            "<sklearn.metrics._plot.confusion_matrix.ConfusionMatrixDisplay object at 0x7efe68aab310>\n",
            "              precision    recall  f1-score   support\n",
            "\n",
            "           0       0.99      0.99      0.99       980\n",
            "           1       0.99      0.99      0.99      1135\n",
            "           2       0.99      0.98      0.98      1032\n",
            "           3       0.98      0.98      0.98      1010\n",
            "           4       0.98      0.98      0.98       982\n",
            "           5       0.99      0.97      0.98       892\n",
            "           6       0.98      0.98      0.98       958\n",
            "           7       0.98      0.97      0.98      1028\n",
            "           8       0.97      0.99      0.98       974\n",
            "           9       0.98      0.98      0.98      1009\n",
            "\n",
            "    accuracy                           0.98     10000\n",
            "   macro avg       0.98      0.98      0.98     10000\n",
            "weighted avg       0.98      0.98      0.98     10000\n",
            "\n"
          ]
        },
        {
          "data": {
            "image/png": "[encoded data removed]",
            "text/plain": [
              "<Figure size 432x288 with 2 Axes>"
            ]
          },
          "metadata": {},
          "output_type": "display_data"
        }
      ],
      "source": [
        "from sklearn.metrics import f1_score, accuracy_score\n",
        "from sklearn.metrics import classification_report, ConfusionMatrixDisplay\n",
        "\n",
        "true, pred = get_true_tst(), get_pred_tst(aug_model)\n",
        "\n",
        "print(f\"micro: {f1_score(true, pred, average='micro')}\\nmacro: {f1_score(true, pred, average='macro')}\")\n",
        "print(f'accuracy: {accuracy_score(true, pred)}')\n",
        "\n",
        "print(ConfusionMatrixDisplay.from_predictions(true, pred))\n",
        "print(classification_report(true, pred, target_names=[str(i) for i in range(10)]))\n"
      ]
    },
    {
      "cell_type": "markdown",
      "metadata": {
        "id": "1k1BNpGs_-ef"
      },
      "source": [
        "#FCNet (учим полносвязную сеть encoder+classifier)"
      ]
    },
    {
      "cell_type": "code",
      "execution_count": null,
      "metadata": {
        "id": "_YYcViL06LlX"
      },
      "outputs": [],
      "source": [
        "aug_fc = FCNet().to(device)"
      ]
    },
    {
      "cell_type": "code",
      "execution_count": null,
      "metadata": {
        "id": "zvT4zitg_A-z"
      },
      "outputs": [],
      "source": [
        "optimizer = optim.Adam(aug_fc.parameters(), lr=1e-3)\n",
        "criterion = t.nn.CrossEntropyLoss()"
      ]
    },
    {
      "cell_type": "code",
      "execution_count": null,
      "metadata": {
        "colab": {
          "base_uri": "https://localhost:8080/"
        },
        "id": "Hr1IC6v3_BbB",
        "outputId": "0241a02b-caa2-4869-e62c-7b1ef46018de"
      },
      "outputs": [
        {
          "name": "stdout",
          "output_type": "stream",
          "text": [
            "1\n",
            "epoch : 1/30, train loss = 0.46994973547623287, val loss = 0.0031361214350908995\n",
            "epoch : 2/30, train loss = 0.24107429011703452, val loss = 0.01020016148686409\n",
            "3\n",
            "epoch : 3/30, train loss = 0.19147003328670625, val loss = 0.0009754541097208858\n",
            "epoch : 4/30, train loss = 0.16832465217317766, val loss = 0.009382057934999466\n",
            "5\n",
            "epoch : 5/30, train loss = 0.14731011434894084, val loss = 6.055817357264459e-05\n",
            "6\n",
            "epoch : 6/30, train loss = 0.14066629022207405, val loss = 2.8046046281815507e-05\n",
            "epoch : 7/30, train loss = 0.12877468554222066, val loss = 0.0015577982412651181\n",
            "epoch : 8/30, train loss = 0.12741206028520147, val loss = 0.0001879366027424112\n",
            "9\n",
            "epoch : 9/30, train loss = 0.12251588617882612, val loss = 4.487932528718375e-06\n",
            "epoch : 10/30, train loss = 0.11533286820744615, val loss = 0.00017719964671414346\n",
            "epoch : 11/30, train loss = 0.10720036291729307, val loss = 0.00013581958774011582\n",
            "epoch : 12/30, train loss = 0.105730200181608, val loss = 6.961120561754797e-06\n",
            "epoch : 13/30, train loss = 0.10022741036437204, val loss = 6.994762952672318e-05\n",
            "epoch : 14/30, train loss = 0.09913847320582099, val loss = 1.051155777531676e-05\n",
            "epoch : 15/30, train loss = 0.09613241661158974, val loss = 0.000267147523118183\n",
            "epoch : 16/30, train loss = 0.09192927617131902, val loss = 0.0016079733613878489\n",
            "epoch : 17/30, train loss = 0.0897258370781265, val loss = 6.25506290816702e-05\n",
            "epoch : 18/30, train loss = 0.08762489598663643, val loss = 0.0011778674088418484\n",
            "epoch : 19/30, train loss = 0.08672648282183329, val loss = 0.00012732300092466176\n",
            "epoch : 20/30, train loss = 0.08169590529111569, val loss = 0.00013404505443759263\n",
            "epoch : 21/30, train loss = 0.0815334541489706, val loss = 5.747578325099312e-05\n",
            "epoch : 22/30, train loss = 0.07793254272826493, val loss = 0.003515892429277301\n",
            "epoch : 23/30, train loss = 0.08064993284166316, val loss = 2.097962897096295e-05\n",
            "epoch : 24/30, train loss = 0.07773370004575843, val loss = 0.011769616045057774\n",
            "epoch : 25/30, train loss = 0.07796997560516876, val loss = 0.0003416082472540438\n",
            "epoch : 26/30, train loss = 0.07770760356427153, val loss = 0.006169265601783991\n",
            "epoch : 27/30, train loss = 0.07426586515887086, val loss = 0.014724018052220345\n",
            "epoch : 28/30, train loss = 0.0720879998501114, val loss = 8.788154809735715e-05\n",
            "epoch : 29/30, train loss = 0.07001982905956752, val loss = 0.0009698954527266324\n",
            "epoch : 30/30, train loss = 0.0695209574845174, val loss = 1.3596113603853155e-05\n"
          ]
        }
      ],
      "source": [
        "tl_augfae_cls3, vl_augfae_cls3 = train_FC(aug_fc,aug_train_loader, aug_val_loader, True)"
      ]
    },
    {
      "cell_type": "code",
      "execution_count": null,
      "metadata": {
        "colab": {
          "base_uri": "https://localhost:8080/"
        },
        "id": "BfnX2rSgnRs7",
        "outputId": "036f9a8d-8b10-41d4-a4d1-934f65eef3d0"
      },
      "outputs": [
        {
          "data": {
            "text/plain": [
              "<All keys matched successfully>"
            ]
          },
          "execution_count": 76,
          "metadata": {},
          "output_type": "execute_result"
        }
      ],
      "source": [
        "aug_fc.load_state_dict(t.load('/content/aug_fcn_cls3.pt'))"
      ]
    },
    {
      "cell_type": "markdown",
      "metadata": {
        "id": "u8JeoJp3ioPK"
      },
      "source": [
        "##Метрики\n",
        "\n",
        "> Сравнение метрик между собой можно увидеть в таблице результатов, находящейся в pdf файле репозитория. Данный эксперимент в таблице, относящейся к 2 эксперименту, назван: \"3).encoder + classification layer (FCN)\""
      ]
    },
    {
      "cell_type": "code",
      "execution_count": null,
      "metadata": {
        "colab": {
          "base_uri": "https://localhost:8080/",
          "height": 643
        },
        "id": "aE9P67sZ_d5t",
        "outputId": "03d08393-dadb-4525-cc51-169824c1f493"
      },
      "outputs": [
        {
          "name": "stdout",
          "output_type": "stream",
          "text": [
            "micro: 0.9785\n",
            "macro: 0.9784166636719757\n",
            "accuracy: 0.9785\n",
            "<sklearn.metrics._plot.confusion_matrix.ConfusionMatrixDisplay object at 0x7efe68a13390>\n",
            "              precision    recall  f1-score   support\n",
            "\n",
            "           0       0.97      0.99      0.98       980\n",
            "           1       0.99      0.99      0.99      1135\n",
            "           2       0.98      0.97      0.98      1032\n",
            "           3       0.98      0.98      0.98      1010\n",
            "           4       0.99      0.97      0.98       982\n",
            "           5       0.98      0.98      0.98       892\n",
            "           6       0.98      0.99      0.98       958\n",
            "           7       0.97      0.98      0.98      1028\n",
            "           8       0.98      0.96      0.97       974\n",
            "           9       0.97      0.97      0.97      1009\n",
            "\n",
            "    accuracy                           0.98     10000\n",
            "   macro avg       0.98      0.98      0.98     10000\n",
            "weighted avg       0.98      0.98      0.98     10000\n",
            "\n"
          ]
        },
        {
          "data": {
            "image/png": "[encoded data removed]",
            "text/plain": [
              "<Figure size 432x288 with 2 Axes>"
            ]
          },
          "metadata": {},
          "output_type": "display_data"
        }
      ],
      "source": [
        "from sklearn.metrics import f1_score, accuracy_score\n",
        "true, pred = get_true_tst(), get_pred_tst(aug_fc, False, True)\n",
        "print(f\"micro: {f1_score(true, pred, average='micro')}\\nmacro: {f1_score(true, pred, average='macro')}\")\n",
        "print(f'accuracy: {accuracy_score(true, pred)}')\n",
        "\n",
        "from sklearn.metrics import classification_report, ConfusionMatrixDisplay\n",
        "print(ConfusionMatrixDisplay.from_predictions(true, pred))\n",
        "print(classification_report(true, pred, target_names=[str(i) for i in range(10)]))"
      ]
    },
    {
      "cell_type": "markdown",
      "metadata": {
        "id": "mAoDimxbjTNZ"
      },
      "source": [
        "## Сравнение значений функции потерь (на валидационной выборке)"
      ]
    },
    {
      "cell_type": "code",
      "execution_count": null,
      "metadata": {
        "id": "pg94JXwz0yk4"
      },
      "outputs": [],
      "source": [
        "vl_augfae_cls3 = [float(item) for item in vl_augfae_cls3]"
      ]
    },
    {
      "cell_type": "code",
      "execution_count": null,
      "metadata": {
        "colab": {
          "base_uri": "https://localhost:8080/",
          "height": 279
        },
        "id": "ejF64ESCrYFv",
        "outputId": "56aa6f22-4e5e-49f8-abe0-9c6537d4f81c"
      },
      "outputs": [
        {
          "data": {
            "image/png": "[encoded data removed]",
            "text/plain": [
              "<Figure size 432x288 with 1 Axes>"
            ]
          },
          "metadata": {},
          "output_type": "display_data"
        }
      ],
      "source": [
        "PlotVal(vl_augfae_cls1, vl_augfae_cls2, vl_augfae_cls3)"
      ]
    },
    {
      "cell_type": "markdown",
      "metadata": {
        "id": "PO-VdrfU55Ca"
      },
      "source": [
        "#ЭКСПЕРИМЕНТЫ СО СВЕРТОЧНЫМИ СЕТЯМИ"
      ]
    },
    {
      "cell_type": "code",
      "execution_count": null,
      "metadata": {
        "id": "kKsQ_WhTCDih"
      },
      "outputs": [],
      "source": [
        "class CN_AE(nn.Module):\n",
        "    def __init__(self):\n",
        "        super().__init__()\n",
        "                \n",
        "        self.encoder = nn.Sequential(\n",
        "                nn.Conv2d(1, 8, 3, padding=1),\n",
        "                nn.ReLU(),\n",
        "                nn.MaxPool2d(2, 2),\n",
        "\n",
        "                nn.Conv2d(8, 16, 3, padding=1),\n",
        "                nn.ReLU(),\n",
        "                nn.MaxPool2d(2, 2),\n",
        "\n",
        "                nn.Conv2d(16, 4, 3, padding=1),\n",
        "                nn.ReLU()\n",
        "                \n",
        "        )\n",
        "\n",
        "        self.decoder = nn.Sequential(\n",
        "                nn.ConvTranspose2d(4, 16, 3, stride=1, padding=1),\n",
        "                nn.ReLU(),\n",
        "\n",
        "                nn.ConvTranspose2d(16, 8, 3, stride=2, padding=1),\n",
        "                nn.ReLU(),\n",
        "\n",
        "                nn.ConvTranspose2d(8, 1, 4, stride=2, padding=0),\n",
        "                \n",
        "\n",
        "                # nn.ConvTranspose2d(16, 8, 3, stride=1, padding=1)\n",
        "        )\n",
        "\n",
        "        self.classifier1 = nn.Sequential(\n",
        "            nn.Linear(196, 10),\n",
        "        )\n",
        "\n",
        "        self.classifier2 = nn.Sequential(\n",
        "            nn.Linear(196, 10),\n",
        "        )\n",
        "\n",
        "    def forward(self,x):\n",
        "        encoded = self.encoder(x)\n",
        "        decoded = self.decoder(encoded)\n",
        "        encoded = t.flatten(encoded, 1)\n",
        "        cls = self.classifier1(encoded)\n",
        "        cls2 = self.classifier2(encoded)\n",
        "        return decoded, cls, cls2\n"
      ]
    },
    {
      "cell_type": "markdown",
      "metadata": {
        "id": "E6wZ4JtKKSWu"
      },
      "source": [
        "#Сверточынй pretrain encoder + classifier (учим последний слой)"
      ]
    },
    {
      "cell_type": "code",
      "execution_count": null,
      "metadata": {
        "colab": {
          "base_uri": "https://localhost:8080/"
        },
        "id": "qkEA9nG9L5WM",
        "outputId": "e3cd33be-b1e2-45ff-f4d7-2d10ea70121a"
      },
      "outputs": [
        {
          "name": "stdout",
          "output_type": "stream",
          "text": [
            "----------------------------------------------------------------\n",
            "        Layer (type)               Output Shape         Param #\n",
            "================================================================\n",
            "            Conv2d-1             [1, 8, 28, 28]              80\n",
            "              ReLU-2             [1, 8, 28, 28]               0\n",
            "         MaxPool2d-3             [1, 8, 14, 14]               0\n",
            "            Conv2d-4            [1, 16, 14, 14]           1,168\n",
            "              ReLU-5            [1, 16, 14, 14]               0\n",
            "         MaxPool2d-6              [1, 16, 7, 7]               0\n",
            "            Conv2d-7               [1, 4, 7, 7]             580\n",
            "              ReLU-8               [1, 4, 7, 7]               0\n",
            "   ConvTranspose2d-9              [1, 16, 7, 7]             592\n",
            "             ReLU-10              [1, 16, 7, 7]               0\n",
            "  ConvTranspose2d-11             [1, 8, 13, 13]           1,160\n",
            "             ReLU-12             [1, 8, 13, 13]               0\n",
            "  ConvTranspose2d-13             [1, 1, 28, 28]             129\n",
            "           Linear-14                    [1, 10]           1,970\n",
            "           Linear-15                    [1, 10]           1,970\n",
            "================================================================\n",
            "Total params: 7,649\n",
            "Trainable params: 7,649\n",
            "Non-trainable params: 0\n",
            "----------------------------------------------------------------\n",
            "Input size (MB): 0.00\n",
            "Forward/backward pass size (MB): 0.20\n",
            "Params size (MB): 0.03\n",
            "Estimated Total Size (MB): 0.24\n",
            "----------------------------------------------------------------\n"
          ]
        }
      ],
      "source": [
        "cn_AE = CN_AE().to(device)\n",
        "summary(cn_AE, (1,28,28),1)"
      ]
    },
    {
      "cell_type": "markdown",
      "metadata": {
        "id": "JQUU9g1ZkVbR"
      },
      "source": [
        "##Предобучение сверточного AE"
      ]
    },
    {
      "cell_type": "code",
      "execution_count": null,
      "metadata": {
        "id": "VaDc47_j629b"
      },
      "outputs": [],
      "source": [
        "params_CAE = list(cn_AE.encoder.parameters()) + list(cn_AE.decoder.parameters())"
      ]
    },
    {
      "cell_type": "code",
      "execution_count": null,
      "metadata": {
        "id": "fQykcuEA60br"
      },
      "outputs": [],
      "source": [
        "optimizer = optim.Adam(params_CAE, lr=1e-3)# обучение кодирование декодирования\n",
        "criterion = nn.MSELoss()"
      ]
    },
    {
      "cell_type": "code",
      "execution_count": null,
      "metadata": {
        "id": "PKVsErApqrC0"
      },
      "outputs": [],
      "source": [
        "def conv_train(model, some_loader): # for AE\n",
        "    loss = 0\n",
        "    for input, _ in some_loader:\n",
        "        input = input.to(device)\n",
        "        optimizer.zero_grad()\n",
        "        \n",
        "        outputs, _, _ = model(input)\n",
        "\n",
        "        train_loss = criterion(outputs, input)\n",
        "        \n",
        "        train_loss.backward()\n",
        "        \n",
        "        optimizer.step()\n",
        "        \n",
        "        loss += train_loss.item()\n",
        "    \n",
        "    loss = loss / len(some_loader)\n",
        "    \n",
        "    # print(f\"epoch : {epoch + 1}/{epochs}, loss = {loss}\")\n",
        "    return loss\n",
        "\n",
        "def conv_evaluate(model, some_loader): # for AE\n",
        "    loss = 0\n",
        "    for input, _ in some_loader:\n",
        "        with t.no_grad():\n",
        "            input = input.to(device)\n",
        "            optimizer.zero_grad()\n",
        "            \n",
        "            outputs, _, _ = model(input)\n",
        "\n",
        "            train_loss = criterion(outputs, input)\n",
        "        \n",
        "        \n",
        "            loss += train_loss.item()\n",
        "    \n",
        "    loss = loss / len(some_loader)\n",
        "    \n",
        "    # print(f\"epoch : {epoch + 1}/{epochs}, loss = {loss}\")\n",
        "    return loss"
      ]
    },
    {
      "cell_type": "code",
      "execution_count": null,
      "metadata": {
        "colab": {
          "base_uri": "https://localhost:8080/"
        },
        "id": "EUz6aqnPrBlM",
        "outputId": "77e54e8b-8eb5-49d2-c06b-54f55ffc0fc4"
      },
      "outputs": [
        {
          "name": "stdout",
          "output_type": "stream",
          "text": [
            "\n",
            "Epoch 1 / 30 ################\n",
            "1\n",
            "    train loss: 0.3324320774782649, val loss: 0.13170780892236322\n",
            "\n",
            "Epoch 2 / 30 ################\n",
            "2\n",
            "    train loss: 0.10854965177795771, val loss: 0.09287388217222842\n",
            "\n",
            "Epoch 3 / 30 ################\n",
            "3\n",
            "    train loss: 0.08541395547597305, val loss: 0.07877843506351302\n",
            "\n",
            "Epoch 4 / 30 ################\n",
            "4\n",
            "    train loss: 0.07424661301819564, val loss: 0.07034161677466164\n",
            "\n",
            "Epoch 5 / 30 ################\n",
            "5\n",
            "    train loss: 0.06703838599307457, val loss: 0.06434271192248864\n",
            "\n",
            "Epoch 6 / 30 ################\n",
            "6\n",
            "    train loss: 0.061985895047178656, val loss: 0.05945980402676365\n",
            "\n",
            "Epoch 7 / 30 ################\n",
            "7\n",
            "    train loss: 0.05831602111916103, val loss: 0.056581088825117185\n",
            "\n",
            "Epoch 8 / 30 ################\n",
            "8\n",
            "    train loss: 0.05530010028492154, val loss: 0.053662099651520766\n",
            "\n",
            "Epoch 9 / 30 ################\n",
            "9\n",
            "    train loss: 0.052914200383988794, val loss: 0.0515211636224125\n",
            "\n",
            "Epoch 10 / 30 ################\n",
            "10\n",
            "    train loss: 0.05088104522022445, val loss: 0.050088611584675466\n",
            "\n",
            "Epoch 11 / 30 ################\n",
            "11\n",
            "    train loss: 0.04933637238638785, val loss: 0.04898013924307461\n",
            "\n",
            "Epoch 12 / 30 ################\n",
            "12\n",
            "    train loss: 0.04808189316898051, val loss: 0.047101171899445446\n",
            "\n",
            "Epoch 13 / 30 ################\n",
            "13\n",
            "    train loss: 0.04697447964716751, val loss: 0.04631251011845432\n",
            "\n",
            "Epoch 14 / 30 ################\n",
            "14\n",
            "    train loss: 0.04609751899528991, val loss: 0.04588763830782492\n",
            "\n",
            "Epoch 15 / 30 ################\n",
            "15\n",
            "    train loss: 0.045202194605870626, val loss: 0.044665294263181804\n",
            "\n",
            "Epoch 16 / 30 ################\n",
            "16\n",
            "    train loss: 0.04441292016097652, val loss: 0.04396425706299045\n",
            "\n",
            "Epoch 17 / 30 ################\n",
            "17\n",
            "    train loss: 0.04377061437310465, val loss: 0.04329706610569471\n",
            "\n",
            "Epoch 18 / 30 ################\n",
            "18\n",
            "    train loss: 0.043101505112007756, val loss: 0.04249094624685336\n",
            "\n",
            "Epoch 19 / 30 ################\n",
            "19\n",
            "    train loss: 0.04246257648557958, val loss: 0.04195837968889671\n",
            "\n",
            "Epoch 20 / 30 ################\n",
            "20\n",
            "    train loss: 0.04200250021827495, val loss: 0.0414813455618635\n",
            "\n",
            "Epoch 21 / 30 ################\n",
            "21\n",
            "    train loss: 0.041559961874542944, val loss: 0.04121929081746294\n",
            "\n",
            "Epoch 22 / 30 ################\n",
            "22\n",
            "    train loss: 0.041196372121801154, val loss: 0.04071880844009074\n",
            "\n",
            "Epoch 23 / 30 ################\n",
            "23\n",
            "    train loss: 0.04080282429904889, val loss: 0.040581443075892294\n",
            "\n",
            "Epoch 24 / 30 ################\n",
            "24\n",
            "    train loss: 0.04052796928435945, val loss: 0.03997403850095182\n",
            "\n",
            "Epoch 25 / 30 ################\n",
            "    train loss: 0.04014835631489144, val loss: 0.040233955918988096\n",
            "\n",
            "Epoch 26 / 30 ################\n",
            "26\n",
            "    train loss: 0.03974772872560469, val loss: 0.03946434513111658\n",
            "\n",
            "Epoch 27 / 30 ################\n",
            "27\n",
            "    train loss: 0.03943331942648229, val loss: 0.039084795438036134\n",
            "\n",
            "Epoch 28 / 30 ################\n",
            "28\n",
            "    train loss: 0.0390251923609725, val loss: 0.038608182858251315\n",
            "\n",
            "Epoch 29 / 30 ################\n",
            "29\n",
            "    train loss: 0.038714396583912014, val loss: 0.038462096471575245\n",
            "\n",
            "Epoch 30 / 30 ################\n",
            "    train loss: 0.0384244252463131, val loss: 0.038523703011908106\n"
          ]
        }
      ],
      "source": [
        "tl_сae, vl_сae = [], [] # change to view vl_cae_cls1 \n",
        "tmp_loss = float('inf')\n",
        "for epoch in range(epochs):\n",
        "    print('\\nEpoch {:} / {:}'.format(epoch + 1, epochs)+' ################')\n",
        "    train_loss = conv_train(cn_AE, train_loader)\n",
        "    val_loss = conv_evaluate(cn_AE, val_loader)\n",
        "    if val_loss < tmp_loss:\n",
        "        tmp_loss = val_loss\n",
        "        t.save(cn_AE.state_dict(), '/content/drive/MyDrive/AutoEncoders/' + 'ConvAE' + '.pt')\n",
        "        t.save(cn_AE.state_dict(),'ConvAE' + '.pt')\n",
        "        print(epoch+1)\n",
        "    tl_сae.append(train_loss)\n",
        "    vl_сae.append(val_loss)\n",
        "    print(f'    train loss: {train_loss}, val loss: {val_loss}')"
      ]
    },
    {
      "cell_type": "code",
      "execution_count": null,
      "metadata": {
        "id": "nvcKuFKDNBQL"
      },
      "outputs": [],
      "source": [
        "out, _, _ = cn_AE(test_data[2][0].unsqueeze(0))"
      ]
    },
    {
      "cell_type": "code",
      "execution_count": null,
      "metadata": {
        "colab": {
          "base_uri": "https://localhost:8080/",
          "height": 282
        },
        "id": "iR9UZu81_0nV",
        "outputId": "f9fca61a-eb7b-47c8-bc19-43753fa20b80"
      },
      "outputs": [
        {
          "data": {
            "text/plain": [
              "<matplotlib.image.AxesImage at 0x7f4de6a9f310>"
            ]
          },
          "execution_count": 83,
          "metadata": {},
          "output_type": "execute_result"
        },
        {
          "data": {
            "image/png": "[encoded data removed]",
            "text/plain": [
              "<Figure size 432x288 with 1 Axes>"
            ]
          },
          "metadata": {},
          "output_type": "display_data"
        }
      ],
      "source": [
        "plt.imshow(test_data[2][0][0])"
      ]
    },
    {
      "cell_type": "code",
      "execution_count": null,
      "metadata": {
        "colab": {
          "base_uri": "https://localhost:8080/",
          "height": 282
        },
        "id": "OxzijX6M_ngH",
        "outputId": "229e4e8f-277b-4c25-f17f-f6293052b940"
      },
      "outputs": [
        {
          "data": {
            "text/plain": [
              "<matplotlib.image.AxesImage at 0x7f4de6950190>"
            ]
          },
          "execution_count": 84,
          "metadata": {},
          "output_type": "execute_result"
        },
        {
          "data": {
            "image/png": "[encoded data removed]",
            "text/plain": [
              "<Figure size 432x288 with 1 Axes>"
            ]
          },
          "metadata": {},
          "output_type": "display_data"
        }
      ],
      "source": [
        "plt.imshow(out[0][0].detach().numpy())"
      ]
    },
    {
      "cell_type": "code",
      "execution_count": null,
      "metadata": {
        "colab": {
          "base_uri": "https://localhost:8080/"
        },
        "id": "LFV1Sx8bwp17",
        "outputId": "f26c92ce-9e4c-4628-9c40-b117a888227f"
      },
      "outputs": [
        {
          "data": {
            "text/plain": [
              "<All keys matched successfully>"
            ]
          },
          "execution_count": 38,
          "metadata": {},
          "output_type": "execute_result"
        }
      ],
      "source": [
        "cn_AE.load_state_dict(t.load('/content/drive/MyDrive/AutoEncoders/ConvAE.pt'))"
      ]
    },
    {
      "cell_type": "code",
      "execution_count": null,
      "metadata": {
        "colab": {
          "base_uri": "https://localhost:8080/",
          "height": 482
        },
        "id": "JSBuj26h_p6p",
        "outputId": "c752d683-8554-466c-f19a-e963b85d819c"
      },
      "outputs": [
        {
          "data": {
            "image/png": "[encoded data removed]",
            "text/plain": [
              "<Figure size 576x576 with 9 Axes>"
            ]
          },
          "metadata": {},
          "output_type": "display_data"
        }
      ],
      "source": [
        "figure = plt.figure(figsize=(8, 8))\n",
        "for_pred = []\n",
        "\n",
        "cols, rows = 3, 3\n",
        "for i in range(1, cols * rows + 1):\n",
        "    sample_idx = t.randint(len(test_data), size=(1,)).item()\n",
        "    img, label = test_data[sample_idx]\n",
        "\n",
        "    figure.add_subplot(rows, cols, i)\n",
        "    plt.title(label)\n",
        "    plt.axis(\"off\")\n",
        "    plt.imshow(img.squeeze())#, cmap=\"gray\")\n",
        "\n",
        "    for_pred.append(sample_idx) \n",
        "plt.show()"
      ]
    },
    {
      "cell_type": "code",
      "execution_count": null,
      "metadata": {
        "colab": {
          "base_uri": "https://localhost:8080/",
          "height": 466
        },
        "id": "ZDJXwhZMAPTD",
        "outputId": "3a8216c9-3414-4581-8ddf-e0162ca73ad4"
      },
      "outputs": [
        {
          "data": {
            "image/png": "[encoded data removed]",
            "text/plain": [
              "<Figure size 576x576 with 9 Axes>"
            ]
          },
          "metadata": {},
          "output_type": "display_data"
        }
      ],
      "source": [
        "figure = plt.figure(figsize=(8, 8))\n",
        "cols, rows = 3, 3\n",
        "for i in range(1, cols * rows + 1):\n",
        "    img, _, _ = cn_AE(test_data[for_pred[i-1]][0].unsqueeze(0))\n",
        "    img = img.detach().numpy()\n",
        "    figure.add_subplot(rows, cols, i)\n",
        "    # plt.title(t.argmax(label))\n",
        "    plt.axis(\"off\")\n",
        "    plt.imshow(img.reshape(28,28)) #, cmap=\"gray\")\n",
        "\n",
        "plt.show()"
      ]
    },
    {
      "cell_type": "code",
      "execution_count": null,
      "metadata": {
        "id": "GEs3iu0XILph"
      },
      "outputs": [],
      "source": [
        "def get_pred_tst_cn(model, isFirst = True):\n",
        "    y_pred_tst = []\n",
        "    for data, label in test_data:\n",
        "        data = data.to(device)\n",
        "        if isFirst:\n",
        "            _, label, _ = model(data.unsqueeze(0))\n",
        "        else:\n",
        "            _, _, label = model(data.unsqueeze(0))\n",
        "        y_pred_tst.append(int(t.argmax(label)))\n",
        "    return y_pred_tst"
      ]
    },
    {
      "cell_type": "markdown",
      "metadata": {
        "id": "biXymT8PlQgH"
      },
      "source": [
        "##Обучение слоя, отвечающего за классификацию"
      ]
    },
    {
      "cell_type": "code",
      "execution_count": null,
      "metadata": {
        "id": "RksD1zdfJB2D"
      },
      "outputs": [],
      "source": [
        "def train_cls_cn(model, some_train_loader, some_val_loader, isFirst=True, aug=False):\n",
        "    \"\"\"return list of train loss and list of val loss\"\"\"\n",
        "    ae_cls_train, ae_cls_val = [], []\n",
        "    best_valid_loss = float('inf')\n",
        "    for epoch in range(epochs):\n",
        "        loss_t, loss_c = 0, 0\n",
        "        for input, labels in some_train_loader:\n",
        "            input, labels = input.to(device), labels.to(device)\n",
        "            # reshape mini-batch data to [N, 784] matrix\n",
        "            # load it to the active device\n",
        "            \n",
        "            # reset the gradients back to zero\n",
        "            # PyTorch accumulates gradients on subsequent backward passes\n",
        "            optimizer.zero_grad()\n",
        "            \n",
        "            # compute reconstructions\n",
        "            if isFirst:\n",
        "                _, outputs, _ = model(input)\n",
        "            else:\n",
        "                _, _, outputs = model(input)\n",
        "            # compute training reconstruction loss\n",
        "            train_loss = criterion(outputs, labels)\n",
        "            \n",
        "            # compute accumulated gradients\n",
        "            train_loss.backward()\n",
        "            \n",
        "            # perform parameter update based on current gradients\n",
        "            optimizer.step()\n",
        "            \n",
        "            # add the mini-batch training loss to epoch loss\n",
        "            loss_t += train_loss.item()\n",
        "        \n",
        "        # compute the epoch training loss\n",
        "        loss_t = loss_t / len(some_train_loader)\n",
        "        ae_cls_train.append(loss_t)\n",
        "\n",
        "        for input, labels in some_val_loader:\n",
        "            with t.no_grad():\n",
        "                input, labels = input.to(device), labels.to(device)\n",
        "                optimizer.zero_grad()\n",
        "                \n",
        "                if isFirst:\n",
        "                    _, outputs, _ = model(input)\n",
        "                else:\n",
        "                    _, _, outputs = model(input)\n",
        "\n",
        "                val_loss = criterion(outputs, labels)\n",
        "                loss_c += val_loss.item()\n",
        "        \n",
        "        loss_c = loss_c / len(some_val_loader)\n",
        "        num = 1 if isFirst else 2\n",
        "        if loss_c < best_valid_loss and not aug:\n",
        "            best_valid_loss = loss_c\n",
        "            t.save(model.state_dict(),path_for_save_model + 'ConvAE_cls' + str(num) + '.pt')\n",
        "            t.save(model.state_dict(),'ConvAE_cls' + str(num) + '.pt')\n",
        "            print(epoch+1)\n",
        "        elif loss_c < best_valid_loss and aug:\n",
        "            best_valid_loss = loss_c\n",
        "            t.save(model.state_dict(),path_for_save_model + 'aug_ConvAE_cls' + str(num) + '.pt')\n",
        "            t.save(model.state_dict(),'aug_ConvAE_cls' + str(num) + '.pt')\n",
        "            print(epoch+1)\n",
        "        ae_cls_val.append(loss_c)\n",
        "        \n",
        "        # display the epoch training loss\n",
        "        print(f\"epoch : {epoch + 1}/{epochs}\\n    loss train = {loss_t}, loss val = {loss_c}\")\n",
        "    return ae_cls_train, ae_cls_val"
      ]
    },
    {
      "cell_type": "code",
      "execution_count": null,
      "metadata": {
        "id": "Qe8ThuXJJxi6"
      },
      "outputs": [],
      "source": [
        "params_CAE_cls = list(cn_AE.classifier1.parameters())\n",
        "optimizer = optim.Adam(params_CAE_cls, lr=1e-3)# обучение кодирование декодирования\n",
        "criterion = nn.CrossEntropyLoss()"
      ]
    },
    {
      "cell_type": "code",
      "execution_count": null,
      "metadata": {
        "colab": {
          "base_uri": "https://localhost:8080/"
        },
        "id": "hTTUFpLPKifT",
        "outputId": "98e1089f-0345-4430-d365-8e8ab7540f21"
      },
      "outputs": [
        {
          "name": "stdout",
          "output_type": "stream",
          "text": [
            "1\n",
            "epoch : 1/30\n",
            "    loss train = 0.9144441616123594, loss val = 0.408714470606816\n",
            "2\n",
            "epoch : 2/30\n",
            "    loss train = 0.3594670278565658, loss val = 0.3398310189382939\n",
            "3\n",
            "epoch : 3/30\n",
            "    loss train = 0.3193149937464453, loss val = 0.3137894870736931\n",
            "4\n",
            "epoch : 4/30\n",
            "    loss train = 0.2993323232816613, loss val = 0.2957892038776905\n",
            "epoch : 5/30\n",
            "    loss train = 0.28887871180272773, loss val = 0.3169334755290913\n",
            "6\n",
            "epoch : 6/30\n",
            "    loss train = 0.27897890041703766, loss val = 0.2922216377492192\n",
            "7\n",
            "epoch : 7/30\n",
            "    loss train = 0.27698194477564236, loss val = 0.2830348873062979\n",
            "epoch : 8/30\n",
            "    loss train = 0.268828221865932, loss val = 0.28426370562254627\n",
            "9\n",
            "epoch : 9/30\n",
            "    loss train = 0.26303068289290304, loss val = 0.270752230022527\n",
            "10\n",
            "epoch : 10/30\n",
            "    loss train = 0.2602237935947335, loss val = 0.267619897859006\n",
            "epoch : 11/30\n",
            "    loss train = 0.26023703527724956, loss val = 0.3011515159395677\n",
            "epoch : 12/30\n",
            "    loss train = 0.2586932387726996, loss val = 0.2714365351992317\n",
            "epoch : 13/30\n",
            "    loss train = 0.2551656689332879, loss val = 0.26878416519376297\n",
            "epoch : 14/30\n",
            "    loss train = 0.25548041754823814, loss val = 0.28568321126925794\n",
            "15\n",
            "epoch : 15/30\n",
            "    loss train = 0.24974117767246787, loss val = 0.2599899458074117\n",
            "epoch : 16/30\n",
            "    loss train = 0.24589538383666817, loss val = 0.28729245028918304\n",
            "epoch : 17/30\n",
            "    loss train = 0.2468934289329802, loss val = 0.28877980573267875\n",
            "epoch : 18/30\n",
            "    loss train = 0.24510820975998784, loss val = 0.2634399010788036\n",
            "epoch : 19/30\n",
            "    loss train = 0.24324580142869973, loss val = 0.26503164679566515\n",
            "epoch : 20/30\n",
            "    loss train = 0.23944726645412956, loss val = 0.26636004938354974\n",
            "epoch : 21/30\n",
            "    loss train = 0.241187893178152, loss val = 0.2621687517937603\n",
            "22\n",
            "epoch : 22/30\n",
            "    loss train = 0.23966465398783574, loss val = 0.2493814292210567\n",
            "epoch : 23/30\n",
            "    loss train = 0.23930026131593968, loss val = 0.26525300590297846\n",
            "epoch : 24/30\n",
            "    loss train = 0.2397276080973313, loss val = 0.2584645252061796\n",
            "epoch : 25/30\n",
            "    loss train = 0.23785808834883257, loss val = 0.25778190518104577\n",
            "epoch : 26/30\n",
            "    loss train = 0.2335614624916745, loss val = 0.25799677549283717\n",
            "epoch : 27/30\n",
            "    loss train = 0.237525046500556, loss val = 0.2596188188542294\n",
            "epoch : 28/30\n",
            "    loss train = 0.23354009026304232, loss val = 0.26501717300543304\n",
            "epoch : 29/30\n",
            "    loss train = 0.234404966844927, loss val = 0.25180079410725004\n",
            "epoch : 30/30\n",
            "    loss train = 0.23003667009913403, loss val = 0.2772687861247908\n"
          ]
        }
      ],
      "source": [
        "tl_cae_cls1, vl_cae_cls1 = train_cls_cn(cn_AE, train_loader, val_loader)"
      ]
    },
    {
      "cell_type": "code",
      "execution_count": null,
      "metadata": {
        "id": "b75ffFMN33bf"
      },
      "outputs": [],
      "source": [
        "cn_AE.load_state_dict(t.load('/content/ConvAE_cls1.pt'))"
      ]
    },
    {
      "cell_type": "markdown",
      "metadata": {
        "id": "ydlqKAvGjph4"
      },
      "source": [
        "## Метрики\n",
        "\n",
        "> Сравнение метрик между собой можно увидеть в таблице результатов, находящейся в pdf файле репозитория. Данный эксперимент в таблице, относящейся к 3 эксперименту, назван: \"1).AE classification(layer after encoder)\""
      ]
    },
    {
      "cell_type": "code",
      "execution_count": null,
      "metadata": {
        "colab": {
          "base_uri": "https://localhost:8080/",
          "height": 643
        },
        "id": "F9bdFR2tv7xg",
        "outputId": "268a85f2-fb52-4f85-db5f-9dd92b69d209"
      },
      "outputs": [
        {
          "name": "stdout",
          "output_type": "stream",
          "text": [
            "micro: 0.9364\n",
            "macro: 0.9355679806211719\n",
            "accuracy: 0.9364\n",
            "<sklearn.metrics._plot.confusion_matrix.ConfusionMatrixDisplay object at 0x7efe606ca690>\n",
            "              precision    recall  f1-score   support\n",
            "\n",
            "           0       0.96      0.97      0.97       980\n",
            "           1       0.99      0.99      0.99      1135\n",
            "           2       0.93      0.92      0.92      1032\n",
            "           3       0.92      0.91      0.92      1010\n",
            "           4       0.95      0.93      0.94       982\n",
            "           5       0.90      0.92      0.91       892\n",
            "           6       0.95      0.95      0.95       958\n",
            "           7       0.94      0.94      0.94      1028\n",
            "           8       0.92      0.90      0.91       974\n",
            "           9       0.91      0.93      0.92      1009\n",
            "\n",
            "    accuracy                           0.94     10000\n",
            "   macro avg       0.94      0.94      0.94     10000\n",
            "weighted avg       0.94      0.94      0.94     10000\n",
            "\n"
          ]
        },
        {
          "data": {
            "image/png": "[encoded data removed]",
            "text/plain": [
              "<Figure size 432x288 with 2 Axes>"
            ]
          },
          "metadata": {},
          "output_type": "display_data"
        }
      ],
      "source": [
        "from sklearn.metrics import f1_score, accuracy_score\n",
        "from sklearn.metrics import classification_report, ConfusionMatrixDisplay\n",
        "\n",
        "true, pred = get_true_tst(), get_pred_tst_cn(cn_AE)\n",
        "\n",
        "print(f\"micro: {f1_score(true, pred, average='micro')}\\nmacro: {f1_score(true, pred, average='macro')}\")\n",
        "print(f'accuracy: {accuracy_score(true, pred)}')\n",
        "\n",
        "print(ConfusionMatrixDisplay.from_predictions(true, pred))\n",
        "print(classification_report(true, pred, target_names=[str(i) for i in range(10)]))\n"
      ]
    },
    {
      "cell_type": "markdown",
      "metadata": {
        "id": "s_xc5KWwSdW1"
      },
      "source": [
        "#Сверточный pretrain encoder + classifier (учим pretrained encoder + classifier)"
      ]
    },
    {
      "cell_type": "code",
      "execution_count": null,
      "metadata": {
        "id": "gMaNNfZxPLMw"
      },
      "outputs": [],
      "source": [
        "params_CAE_cls = list(cn_AE.encoder.parameters()) + list(cn_AE.classifier2.parameters())\n",
        "optimizer = optim.Adam(params_CAE_cls, lr=1e-3)# обучение кодирование декодирования\n",
        "criterion = nn.CrossEntropyLoss()"
      ]
    },
    {
      "cell_type": "code",
      "execution_count": null,
      "metadata": {
        "colab": {
          "base_uri": "https://localhost:8080/"
        },
        "id": "KaUgiCWdRa7Y",
        "outputId": "d07dc91b-5673-464d-de6e-7d2a86a4e7a5"
      },
      "outputs": [
        {
          "name": "stdout",
          "output_type": "stream",
          "text": [
            "1\n",
            "epoch : 1/30\n",
            "    loss train = 0.8381542731886324, loss val = 0.32384388846687123\n",
            "2\n",
            "epoch : 2/30\n",
            "    loss train = 0.23605085454900246, loss val = 0.19987022744703897\n",
            "3\n",
            "epoch : 3/30\n",
            "    loss train = 0.1542890737609714, loss val = 0.13657467411477356\n",
            "4\n",
            "epoch : 4/30\n",
            "    loss train = 0.11394763541648455, loss val = 0.1207387154521067\n",
            "5\n",
            "epoch : 5/30\n",
            "    loss train = 0.09380008448201144, loss val = 0.09917672075142589\n",
            "6\n",
            "epoch : 6/30\n",
            "    loss train = 0.08109224721541643, loss val = 0.09678488554833811\n",
            "7\n",
            "epoch : 7/30\n",
            "    loss train = 0.07467235547378469, loss val = 0.08504880304577984\n",
            "8\n",
            "epoch : 8/30\n",
            "    loss train = 0.06621553866392778, loss val = 0.07957058449429047\n",
            "9\n",
            "epoch : 9/30\n",
            "    loss train = 0.06241599066406869, loss val = 0.07749873694456831\n",
            "epoch : 10/30\n",
            "    loss train = 0.0587611287055761, loss val = 0.07762330206762409\n",
            "11\n",
            "epoch : 11/30\n",
            "    loss train = 0.05443172429300025, loss val = 0.06885192173686397\n",
            "epoch : 12/30\n",
            "    loss train = 0.05026355076371632, loss val = 0.07555611515299807\n",
            "epoch : 13/30\n",
            "    loss train = 0.049120430221252356, loss val = 0.07270129811891084\n",
            "14\n",
            "epoch : 14/30\n",
            "    loss train = 0.04617747936226294, loss val = 0.06279278749340697\n",
            "15\n",
            "epoch : 15/30\n",
            "    loss train = 0.04281156521190501, loss val = 0.05831047055190665\n",
            "16\n",
            "epoch : 16/30\n",
            "    loss train = 0.040712389510239255, loss val = 0.05643976972544495\n",
            "epoch : 17/30\n",
            "    loss train = 0.03904171633746122, loss val = 0.05737960311772797\n",
            "epoch : 18/30\n",
            "    loss train = 0.03877477134134897, loss val = 0.06474142835720124\n",
            "19\n",
            "epoch : 19/30\n",
            "    loss train = 0.037619494061912305, loss val = 0.05523055730552613\n",
            "20\n",
            "epoch : 20/30\n",
            "    loss train = 0.035220179518046395, loss val = 0.05406352231143443\n",
            "epoch : 21/30\n",
            "    loss train = 0.03409396179432474, loss val = 0.05817223975694255\n",
            "epoch : 22/30\n",
            "    loss train = 0.03199794656291004, loss val = 0.0866795105777115\n",
            "epoch : 23/30\n",
            "    loss train = 0.0325203809882407, loss val = 0.057102038180219784\n",
            "epoch : 24/30\n",
            "    loss train = 0.02991005192216619, loss val = 0.06864113122507741\n",
            "25\n",
            "epoch : 25/30\n",
            "    loss train = 0.028283208485959513, loss val = 0.05380765415132753\n",
            "epoch : 26/30\n",
            "    loss train = 0.026761280953624497, loss val = 0.059685106969827526\n",
            "27\n",
            "epoch : 27/30\n",
            "    loss train = 0.02655187517452492, loss val = 0.05203441052131732\n",
            "28\n",
            "epoch : 28/30\n",
            "    loss train = 0.025631882016734005, loss val = 0.051877559483923676\n",
            "epoch : 29/30\n",
            "    loss train = 0.025829711685116732, loss val = 0.05687754264961975\n",
            "epoch : 30/30\n",
            "    loss train = 0.024049996349262668, loss val = 0.059204690999062615\n"
          ]
        }
      ],
      "source": [
        "tl_cae_cls2, vl_cae_cls2 = train_cls_cn(cn_AE, train_loader, val_loader, False)"
      ]
    },
    {
      "cell_type": "code",
      "execution_count": null,
      "metadata": {
        "colab": {
          "base_uri": "https://localhost:8080/"
        },
        "id": "AvrrOugN8FOt",
        "outputId": "fca2a1fa-b68b-426c-9da1-4d1e33538e28"
      },
      "outputs": [
        {
          "data": {
            "text/plain": [
              "<All keys matched successfully>"
            ]
          },
          "execution_count": 41,
          "metadata": {},
          "output_type": "execute_result"
        }
      ],
      "source": [
        "cn_AE.load_state_dict(t.load('/content/ConvAE_cls2.pt'))"
      ]
    },
    {
      "cell_type": "markdown",
      "metadata": {
        "id": "yMgaezPSjtD_"
      },
      "source": [
        "## Метрики\n",
        "\n",
        "> Сравнение метрик между собой можно увидеть в таблице результатов, находящейся в pdf файле репозитория. Данный эксперимент в таблице, относящейся к 3 эксперименту, назван: \"2).pretrained encoder + classification layer\""
      ]
    },
    {
      "cell_type": "code",
      "execution_count": null,
      "metadata": {
        "colab": {
          "base_uri": "https://localhost:8080/",
          "height": 644
        },
        "id": "5gE-DgLJ8G6P",
        "outputId": "fbf4b0c8-ab5a-48cd-db6c-c7c2eebce40a"
      },
      "outputs": [
        {
          "name": "stdout",
          "output_type": "stream",
          "text": [
            "micro: 0.9869\n",
            "macro: 0.986808897706414\n",
            "accuracy: 0.9869\n",
            "<sklearn.metrics._plot.confusion_matrix.ConfusionMatrixDisplay object at 0x7fc1bc0b7890>\n",
            "              precision    recall  f1-score   support\n",
            "\n",
            "           0       0.99      0.99      0.99       980\n",
            "           1       1.00      0.99      1.00      1135\n",
            "           2       0.98      0.99      0.99      1032\n",
            "           3       0.98      0.99      0.99      1010\n",
            "           4       0.99      0.98      0.99       982\n",
            "           5       0.99      0.98      0.99       892\n",
            "           6       0.99      0.99      0.99       958\n",
            "           7       0.98      0.99      0.98      1028\n",
            "           8       0.98      0.98      0.98       974\n",
            "           9       0.99      0.98      0.98      1009\n",
            "\n",
            "    accuracy                           0.99     10000\n",
            "   macro avg       0.99      0.99      0.99     10000\n",
            "weighted avg       0.99      0.99      0.99     10000\n",
            "\n"
          ]
        },
        {
          "data": {
            "image/png": "[encoded data removed]",
            "text/plain": [
              "<Figure size 432x288 with 2 Axes>"
            ]
          },
          "metadata": {},
          "output_type": "display_data"
        }
      ],
      "source": [
        "from sklearn.metrics import f1_score, accuracy_score\n",
        "from sklearn.metrics import classification_report, ConfusionMatrixDisplay\n",
        "\n",
        "true, pred = get_true_tst(), get_pred_tst_cn(cn_AE, False)\n",
        "\n",
        "print(f\"micro: {f1_score(true, pred, average='micro')}\\nmacro: {f1_score(true, pred, average='macro')}\")\n",
        "print(f'accuracy: {accuracy_score(true, pred)}')\n",
        "\n",
        "print(ConfusionMatrixDisplay.from_predictions(true, pred))\n",
        "print(classification_report(true, pred, target_names=[str(i) for i in range(10)]))\n"
      ]
    },
    {
      "cell_type": "markdown",
      "metadata": {
        "id": "Rn9fwo3mbDZU"
      },
      "source": [
        "#CNNet"
      ]
    },
    {
      "cell_type": "code",
      "execution_count": null,
      "metadata": {
        "id": "ZAb2_Fk3RmOn"
      },
      "outputs": [],
      "source": [
        "class CNNet(nn.Module):\n",
        "    def __init__(self):\n",
        "        super().__init__()\n",
        "        self.encoder = nn.Sequential(\n",
        "                nn.Conv2d(1, 8, 3, padding=1),\n",
        "                nn.ReLU(),\n",
        "                nn.MaxPool2d(2, 2),\n",
        "\n",
        "                nn.Conv2d(8, 16, 3, padding=1),\n",
        "                nn.ReLU(),\n",
        "                nn.MaxPool2d(2, 2),\n",
        "\n",
        "                nn.Conv2d(16, 4, 3, padding=1),\n",
        "                nn.ReLU()\n",
        "        )\n",
        "        self.classifier1 = nn.Sequential(\n",
        "            nn.Linear(196, 10),\n",
        "        )\n",
        "\n",
        "    def forward(self,x):\n",
        "        encoded = self.encoder(x)\n",
        "        encoded = t.flatten(encoded, 1)\n",
        "        cls = self.classifier1(encoded)\n",
        "        return cls\n"
      ]
    },
    {
      "cell_type": "code",
      "execution_count": null,
      "metadata": {
        "id": "mtlmYQWnlV7S"
      },
      "outputs": [],
      "source": [
        "cn_cl = CNNet().to(device)\n",
        "optimizer = optim.Adam(cn_cl.parameters(), lr=1e-3)\n",
        "criterion = nn.CrossEntropyLoss()"
      ]
    },
    {
      "cell_type": "code",
      "execution_count": null,
      "metadata": {
        "id": "Z8WkCwROlqy-"
      },
      "outputs": [],
      "source": [
        "def train_cls_cn3(model, some_train_loader, some_val_loader, aug=False):\n",
        "    \"\"\"return list of train loss and list of val loss\"\"\"\n",
        "    best_valid_loss = float('inf')\n",
        "    ae_cls_train, ae_cls_val = [], []\n",
        "    for epoch in range(epochs):\n",
        "        loss_t, loss_c = 0, 0\n",
        "        for input, labels in some_train_loader:\n",
        "            input, labels = input.to(device), labels.to(device)\n",
        "            optimizer.zero_grad()\n",
        "\n",
        "            outputs = model(input)\n",
        "\n",
        "            train_loss = criterion(outputs, labels)\n",
        "            \n",
        "            # compute accumulated gradients\n",
        "            train_loss.backward()\n",
        "            \n",
        "            # perform parameter update based on current gradients\n",
        "            optimizer.step()\n",
        "            \n",
        "            # add the mini-batch training loss to epoch loss\n",
        "            loss_t += train_loss.item()\n",
        "        \n",
        "        # compute the epoch training loss\n",
        "        loss_t = loss_t / len(some_train_loader)\n",
        "        ae_cls_train.append(loss_t)\n",
        "\n",
        "        for input, labels in some_val_loader:\n",
        "            with t.no_grad():\n",
        "                input, labels = input.to(device), labels.to(device)\n",
        "                optimizer.zero_grad()\n",
        "\n",
        "                outputs = model(input)\n",
        "\n",
        "                val_loss = criterion(outputs, labels)\n",
        "                loss_c += val_loss.item()\n",
        "        \n",
        "        loss_c = loss_c / len(some_val_loader)\n",
        "        if loss_c < best_valid_loss and not aug:\n",
        "            best_valid_loss = loss_c\n",
        "            t.save(model.state_dict(),path_for_save_model + 'ConvAE_cls3' + '.pt')\n",
        "            t.save(model.state_dict(),'ConvAE_cls3'  + '.pt')\n",
        "            print(epoch+1)\n",
        "        if loss_c < best_valid_loss and aug:\n",
        "            best_valid_loss = loss_c\n",
        "            t.save(model.state_dict(),path_for_save_model + 'aug_ConvAE_cls3'  + '.pt')\n",
        "            t.save(model.state_dict(),'aug_ConvAE_cls3'  + '.pt')\n",
        "            print(epoch+1)\n",
        "        ae_cls_val.append(loss_c)\n",
        "        \n",
        "        # display the epoch training loss\n",
        "        print(f\"epoch : {epoch + 1}/{epochs}\\n    loss train = {loss_t}, loss val = {loss_c}\")\n",
        "    return ae_cls_train, ae_cls_val"
      ]
    },
    {
      "cell_type": "code",
      "execution_count": null,
      "metadata": {
        "colab": {
          "base_uri": "https://localhost:8080/"
        },
        "id": "Fwd0EVeYl_BV",
        "outputId": "552500fd-4261-4415-c2e3-f434e7396fc3"
      },
      "outputs": [
        {
          "name": "stdout",
          "output_type": "stream",
          "text": [
            "1\n",
            "epoch : 1/30\n",
            "    loss train = 0.5080094622719623, loss val = 0.23493187054048612\n",
            "2\n",
            "epoch : 2/30\n",
            "    loss train = 0.16453558818229932, loss val = 0.1314051137128963\n",
            "3\n",
            "epoch : 3/30\n",
            "    loss train = 0.11197097861991666, loss val = 0.10321468950685443\n",
            "4\n",
            "epoch : 4/30\n",
            "    loss train = 0.09326715513473124, loss val = 0.09077661338297627\n",
            "5\n",
            "epoch : 5/30\n",
            "    loss train = 0.08154813555852912, loss val = 0.08503590526554404\n",
            "6\n",
            "epoch : 6/30\n",
            "    loss train = 0.07459769306747276, loss val = 0.07782323558260745\n",
            "epoch : 7/30\n",
            "    loss train = 0.06713167795925723, loss val = 0.08958749626350554\n",
            "8\n",
            "epoch : 8/30\n",
            "    loss train = 0.06328949494444577, loss val = 0.07138884464821106\n",
            "9\n",
            "epoch : 9/30\n",
            "    loss train = 0.05801998323325039, loss val = 0.06319048539204877\n",
            "epoch : 10/30\n",
            "    loss train = 0.05558413379323071, loss val = 0.06380356141495742\n",
            "epoch : 11/30\n",
            "    loss train = 0.05219272002601601, loss val = 0.06341802352697506\n",
            "12\n",
            "epoch : 12/30\n",
            "    loss train = 0.05042954858468698, loss val = 0.06026926538848047\n",
            "epoch : 13/30\n",
            "    loss train = 0.04697826182615022, loss val = 0.06779527244499967\n",
            "epoch : 14/30\n",
            "    loss train = 0.04560951865218637, loss val = 0.06657369141879527\n",
            "epoch : 15/30\n",
            "    loss train = 0.043923638819400077, loss val = 0.07625855404081978\n",
            "epoch : 16/30\n",
            "    loss train = 0.04249368353551516, loss val = 0.06659781315829605\n",
            "17\n",
            "epoch : 17/30\n",
            "    loss train = 0.04018022967180918, loss val = 0.05738522378209082\n",
            "epoch : 18/30\n",
            "    loss train = 0.038777572480375735, loss val = 0.05954809368977064\n",
            "epoch : 19/30\n",
            "    loss train = 0.03667034489660026, loss val = 0.06282651269384011\n",
            "epoch : 20/30\n",
            "    loss train = 0.036615116967726735, loss val = 0.06271162185865113\n",
            "epoch : 21/30\n",
            "    loss train = 0.036445532906371765, loss val = 0.06431020005264237\n",
            "epoch : 22/30\n",
            "    loss train = 0.03376464113590719, loss val = 0.05765825817420418\n",
            "epoch : 23/30\n",
            "    loss train = 0.03373468150634824, loss val = 0.058022425459886465\n",
            "24\n",
            "epoch : 24/30\n",
            "    loss train = 0.03160380136907634, loss val = 0.054582162288642384\n",
            "epoch : 25/30\n",
            "    loss train = 0.032184232784377986, loss val = 0.060402170766758016\n",
            "epoch : 26/30\n",
            "    loss train = 0.030962648018456215, loss val = 0.06189305309052992\n",
            "epoch : 27/30\n",
            "    loss train = 0.029450271739814994, loss val = 0.057270014133964535\n",
            "epoch : 28/30\n",
            "    loss train = 0.0279722392110659, loss val = 0.05862113180322737\n",
            "epoch : 29/30\n",
            "    loss train = 0.02670909160280081, loss val = 0.06455163924094243\n",
            "30\n",
            "epoch : 30/30\n",
            "    loss train = 0.028334376433610562, loss val = 0.05206613637406756\n"
          ]
        }
      ],
      "source": [
        "tl_cae_cls3, vl_cae_cls3 = train_cls_cn3(cn_cl, train_loader, val_loader)"
      ]
    },
    {
      "cell_type": "code",
      "execution_count": null,
      "metadata": {
        "colab": {
          "base_uri": "https://localhost:8080/"
        },
        "id": "w2gjrMORCTpK",
        "outputId": "600a5fb9-faa3-45df-aa01-19b3670bae1b"
      },
      "outputs": [
        {
          "output_type": "execute_result",
          "data": {
            "text/plain": [
              "<All keys matched successfully>"
            ]
          },
          "metadata": {},
          "execution_count": 13
        }
      ],
      "source": [
        "cn_cl.load_state_dict(t.load('/content/drive/MyDrive/AutoEncoders/ConvAE_cls3.pt'))"
      ]
    },
    {
      "cell_type": "markdown",
      "metadata": {
        "id": "mQIrOHEljyVO"
      },
      "source": [
        "## Метрики \n",
        "> Сравнение метрик между собой можно увидеть в таблице результатов, находящейся в pdf файле репозитория. Данный эксперимент в таблице, относящейся к 3 эксперименту, назван: \"3).encoder + classification layer (FCN)\""
      ]
    },
    {
      "cell_type": "code",
      "execution_count": null,
      "metadata": {
        "id": "G6-g-3wdmequ"
      },
      "outputs": [],
      "source": [
        "def get_pred_tst_cn3(model):\n",
        "    y_pred_tst = []\n",
        "    for data, _ in test_data:\n",
        "        data = data.to(device)\n",
        "        label = model(data.unsqueeze(0))\n",
        "        y_pred_tst.append(int(t.argmax(label)))\n",
        "    return y_pred_tst"
      ]
    },
    {
      "cell_type": "code",
      "execution_count": null,
      "metadata": {
        "colab": {
          "base_uri": "https://localhost:8080/",
          "height": 644
        },
        "id": "fJywo_20wcjn",
        "outputId": "85fc4056-e2c0-4260-a729-5b107fc8e081"
      },
      "outputs": [
        {
          "output_type": "stream",
          "name": "stdout",
          "text": [
            "micro: 0.986\n",
            "macro: 0.9858927252279395\n",
            "accuracy: 0.986\n",
            "<sklearn.metrics._plot.confusion_matrix.ConfusionMatrixDisplay object at 0x7fab400a12d0>\n",
            "              precision    recall  f1-score   support\n",
            "\n",
            "           0       0.98      0.99      0.99       980\n",
            "           1       0.99      0.99      0.99      1135\n",
            "           2       0.98      0.98      0.98      1032\n",
            "           3       0.98      0.99      0.99      1010\n",
            "           4       0.98      0.99      0.99       982\n",
            "           5       0.99      0.98      0.98       892\n",
            "           6       0.99      0.98      0.99       958\n",
            "           7       0.99      0.99      0.99      1028\n",
            "           8       0.99      0.97      0.98       974\n",
            "           9       0.99      0.98      0.98      1009\n",
            "\n",
            "    accuracy                           0.99     10000\n",
            "   macro avg       0.99      0.99      0.99     10000\n",
            "weighted avg       0.99      0.99      0.99     10000\n",
            "\n"
          ]
        },
        {
          "output_type": "display_data",
          "data": {
            "text/plain": [
              "<Figure size 432x288 with 2 Axes>"
            ],
            "image/png": "[encoded data removed]"
          },
          "metadata": {
            "needs_background": "light"
          }
        }
      ],
      "source": [
        "from sklearn.metrics import f1_score, accuracy_score\n",
        "from sklearn.metrics import classification_report, ConfusionMatrixDisplay\n",
        "\n",
        "true, pred = get_true_tst(), get_pred_tst_cn3(cn_cl)\n",
        "print(f\"micro: {f1_score(true, pred, average='micro')}\\nmacro: {f1_score(true, pred, average='macro')}\")\n",
        "print(f'accuracy: {accuracy_score(true, pred)}')\n",
        "\n",
        "print(ConfusionMatrixDisplay.from_predictions(true, pred))\n",
        "print(classification_report(true, pred, target_names=[str(i) for i in range(10)]))\n"
      ]
    },
    {
      "cell_type": "markdown",
      "metadata": {
        "id": "RED3mZYnj0it"
      },
      "source": [
        "## Сравнение значений функции потерь (на валидационной выборке) "
      ]
    },
    {
      "cell_type": "markdown",
      "source": [
        "fc net на данном графике и ниже - это CNNet"
      ],
      "metadata": {
        "id": "Wz7ymToD6PU1"
      }
    },
    {
      "cell_type": "code",
      "execution_count": null,
      "metadata": {
        "colab": {
          "base_uri": "https://localhost:8080/",
          "height": 279
        },
        "id": "ZOzEPgI0nX5e",
        "outputId": "c0786414-fb37-4b1f-928c-b7018ad24168"
      },
      "outputs": [
        {
          "data": {
            "image/png": "[encoded data removed]",
            "text/plain": [
              "<Figure size 432x288 with 1 Axes>"
            ]
          },
          "metadata": {},
          "output_type": "display_data"
        }
      ],
      "source": [
        "PlotVal(vl_cae_cls1, vl_cae_cls2, vl_cae_cls3) #, 'last layer cls','pretrain encoder+cls', 'encoder+cls arhi') "
      ]
    },
    {
      "cell_type": "code",
      "execution_count": null,
      "metadata": {
        "colab": {
          "base_uri": "https://localhost:8080/",
          "height": 279
        },
        "id": "7QyOTj_vQlVF",
        "outputId": "91f5690f-c997-4487-94ac-df048a558f6d"
      },
      "outputs": [
        {
          "data": {
            "image/png": "[encoded data removed]",
            "text/plain": [
              "<Figure size 432x288 with 1 Axes>"
            ]
          },
          "metadata": {},
          "output_type": "display_data"
        }
      ],
      "source": [
        "x = range(30)\n",
        "plt.plot(x, vl_cae_cls2, label = 'encoder+fc')\n",
        "plt.plot(x, vl_cae_cls3, label = 'fc net')\n",
        "plt.xlabel('epoch')\n",
        "plt.ylabel('val loss')\n",
        "plt.legend()\n",
        "plt.show()"
      ]
    },
    {
      "cell_type": "markdown",
      "metadata": {
        "id": "of0TlRqAGp7P"
      },
      "source": [
        "#Добавление аугментаций (используем прошлые аугментации)"
      ]
    },
    {
      "cell_type": "markdown",
      "metadata": {
        "id": "qum9rVLoLzv5"
      },
      "source": [
        "#Сверточынй pretrain encoder + classifier (учим последний слой)"
      ]
    },
    {
      "cell_type": "markdown",
      "metadata": {
        "id": "3nthv5ytkLwX"
      },
      "source": [
        "## Предобучение сверточного AE"
      ]
    },
    {
      "cell_type": "code",
      "execution_count": null,
      "metadata": {
        "id": "3BonVhIZHD_R"
      },
      "outputs": [],
      "source": [
        "augConvAE = CN_AE()"
      ]
    },
    {
      "cell_type": "code",
      "execution_count": null,
      "metadata": {
        "id": "n16wD6E6HeY8"
      },
      "outputs": [],
      "source": [
        "params_CAE = list(augConvAE.encoder.parameters()) + list(augConvAE.decoder.parameters())\n",
        "\n",
        "optimizer = optim.Adam(params_CAE, lr=1e-3)# обучение кодирование декодирования\n",
        "criterion = nn.MSELoss()"
      ]
    },
    {
      "cell_type": "code",
      "execution_count": null,
      "metadata": {
        "colab": {
          "base_uri": "https://localhost:8080/"
        },
        "id": "wvWiyI6zndBn",
        "outputId": "6561a23b-37ea-4dda-ac7c-c9d800cbc4d0"
      },
      "outputs": [
        {
          "name": "stdout",
          "output_type": "stream",
          "text": [
            "\n",
            "Epoch 1 / 30 ################\n",
            "1\n",
            "    train loss: 0.267169839833551, val loss: 0.12029392291096193\n",
            "\n",
            "Epoch 2 / 30 ################\n",
            "2\n",
            "    train loss: 0.09942020874117952, val loss: 0.08954917620631712\n",
            "\n",
            "Epoch 3 / 30 ################\n",
            "3\n",
            "    train loss: 0.08184189410389536, val loss: 0.07896955301867256\n",
            "\n",
            "Epoch 4 / 30 ################\n",
            "4\n",
            "    train loss: 0.07222641703417844, val loss: 0.06904038258745701\n",
            "\n",
            "Epoch 5 / 30 ################\n",
            "5\n",
            "    train loss: 0.0654339250320059, val loss: 0.0633939081166364\n",
            "\n",
            "Epoch 6 / 30 ################\n",
            "6\n",
            "    train loss: 0.06061096183593621, val loss: 0.06006432079438922\n",
            "\n",
            "Epoch 7 / 30 ################\n",
            "7\n",
            "    train loss: 0.0573091122995862, val loss: 0.05661462832100784\n",
            "\n",
            "Epoch 8 / 30 ################\n",
            "8\n",
            "    train loss: 0.05489889752415135, val loss: 0.054532000252717656\n",
            "\n",
            "Epoch 9 / 30 ################\n",
            "9\n",
            "    train loss: 0.05288263690441161, val loss: 0.05288570921255063\n",
            "\n",
            "Epoch 10 / 30 ################\n",
            "10\n",
            "    train loss: 0.05111201635330839, val loss: 0.05166818790986568\n",
            "\n",
            "Epoch 11 / 30 ################\n",
            "11\n",
            "    train loss: 0.04979180379787369, val loss: 0.0505332093733021\n",
            "\n",
            "Epoch 12 / 30 ################\n",
            "12\n",
            "    train loss: 0.04866152207183716, val loss: 0.04934238170898413\n",
            "\n",
            "Epoch 13 / 30 ################\n",
            "13\n",
            "    train loss: 0.0479047511563734, val loss: 0.049214430766392356\n",
            "\n",
            "Epoch 14 / 30 ################\n",
            "14\n",
            "    train loss: 0.04704769052889036, val loss: 0.048316838431961925\n",
            "\n",
            "Epoch 15 / 30 ################\n",
            "15\n",
            "    train loss: 0.04638849894332764, val loss: 0.047101343592888194\n",
            "\n",
            "Epoch 16 / 30 ################\n",
            "16\n",
            "    train loss: 0.045665538610171176, val loss: 0.04685014024188247\n",
            "\n",
            "Epoch 17 / 30 ################\n",
            "17\n",
            "    train loss: 0.04503844529771439, val loss: 0.04594418043388596\n",
            "\n",
            "Epoch 18 / 30 ################\n",
            "18\n",
            "    train loss: 0.04443996839816003, val loss: 0.0453647973511038\n",
            "\n",
            "Epoch 19 / 30 ################\n",
            "19\n",
            "    train loss: 0.04393602008252497, val loss: 0.044578497781406476\n",
            "\n",
            "Epoch 20 / 30 ################\n",
            "    train loss: 0.04350447033524818, val loss: 0.04469337672749652\n",
            "\n",
            "Epoch 21 / 30 ################\n",
            "21\n",
            "    train loss: 0.04297972422883944, val loss: 0.04407443092027797\n",
            "\n",
            "Epoch 22 / 30 ################\n",
            "22\n",
            "    train loss: 0.042626404853732994, val loss: 0.04406316856606097\n",
            "\n",
            "Epoch 23 / 30 ################\n",
            "23\n",
            "    train loss: 0.042192818334950206, val loss: 0.043935211493244655\n",
            "\n",
            "Epoch 24 / 30 ################\n",
            "24\n",
            "    train loss: 0.04181154591538717, val loss: 0.04311287775635719\n",
            "\n",
            "Epoch 25 / 30 ################\n",
            "25\n",
            "    train loss: 0.041400838605202064, val loss: 0.04234051921322376\n",
            "\n",
            "Epoch 26 / 30 ################\n",
            "26\n",
            "    train loss: 0.04106648150078781, val loss: 0.042108699160663385\n",
            "\n",
            "Epoch 27 / 30 ################\n",
            "    train loss: 0.04085210888929989, val loss: 0.043473335242346874\n",
            "\n",
            "Epoch 28 / 30 ################\n",
            "28\n",
            "    train loss: 0.04065001351982736, val loss: 0.041501998052566866\n",
            "\n",
            "Epoch 29 / 30 ################\n",
            "    train loss: 0.04042175441713589, val loss: 0.04171558785476262\n",
            "\n",
            "Epoch 30 / 30 ################\n",
            "30\n",
            "    train loss: 0.04020936501300548, val loss: 0.0414428659537925\n"
          ]
        }
      ],
      "source": [
        "tl_cae, vl_cae = [], [] # change to view vl_cae_cls1 \n",
        "tmp_loss = float('inf')\n",
        "for epoch in range(epochs):\n",
        "    print('\\nEpoch {:} / {:}'.format(epoch + 1, epochs)+' ################')\n",
        "    train_loss = conv_train(augConvAE, aug_train_loader)\n",
        "    val_loss = conv_evaluate(augConvAE, aug_val_loader)\n",
        "    if val_loss < tmp_loss:\n",
        "        tmp_loss = val_loss\n",
        "        t.save(augConvAE.state_dict(), '/content/drive/MyDrive/AutoEncoders/' + 'aug_ConvAE' + '.pt')\n",
        "        t.save(augConvAE.state_dict(),'aug_ConvAE' + '.pt')\n",
        "        print(epoch+1)\n",
        "    tl_cae.append(train_loss)\n",
        "    vl_cae.append(val_loss)\n",
        "    print(f'    train loss: {train_loss}, val loss: {val_loss}')"
      ]
    },
    {
      "cell_type": "code",
      "execution_count": null,
      "metadata": {
        "colab": {
          "base_uri": "https://localhost:8080/"
        },
        "id": "0K3-eLLSKutF",
        "outputId": "ddb83637-ebe3-4a00-9863-065a6c465893"
      },
      "outputs": [
        {
          "data": {
            "text/plain": [
              "<All keys matched successfully>"
            ]
          },
          "execution_count": 115,
          "metadata": {},
          "output_type": "execute_result"
        }
      ],
      "source": [
        "augConvAE.load_state_dict(t.load('/content/aug_ConvAE.pt'))"
      ]
    },
    {
      "cell_type": "code",
      "execution_count": null,
      "metadata": {
        "id": "M6C0lvhl6Bis"
      },
      "outputs": [],
      "source": [
        "augConvAE.to(device)"
      ]
    },
    {
      "cell_type": "markdown",
      "metadata": {
        "id": "kHa4ISKtlf5X"
      },
      "source": [
        "##Обучение слоя, отвечающего за классификацию"
      ]
    },
    {
      "cell_type": "code",
      "execution_count": null,
      "metadata": {
        "id": "yOrJI3h_Jyod"
      },
      "outputs": [],
      "source": [
        "params_CAE_cls = list(augConvAE.classifier1.parameters())\n",
        "optimizer = optim.Adam(params_CAE_cls, lr=1e-3)# обучение кодирование декодирования\n",
        "criterion = nn.CrossEntropyLoss()"
      ]
    },
    {
      "cell_type": "code",
      "execution_count": null,
      "metadata": {
        "colab": {
          "base_uri": "https://localhost:8080/"
        },
        "id": "euqV93xKHokY",
        "outputId": "4f5c8ed8-8a48-4526-d11c-cc28feb7171b"
      },
      "outputs": [
        {
          "name": "stdout",
          "output_type": "stream",
          "text": [
            "1\n",
            "epoch : 1/30\n",
            "    loss train = 0.9017250130853385, loss val = 0.42331144854992253\n",
            "2\n",
            "epoch : 2/30\n",
            "    loss train = 0.5383228496136263, loss val = 0.38136722317224814\n",
            "epoch : 3/30\n",
            "    loss train = 0.5022513152998122, loss val = 0.387038071510158\n",
            "4\n",
            "epoch : 4/30\n",
            "    loss train = 0.479390795654653, loss val = 0.3613844738353657\n",
            "5\n",
            "epoch : 5/30\n",
            "    loss train = 0.4682233477263804, loss val = 0.3392592091349107\n",
            "epoch : 6/30\n",
            "    loss train = 0.4700318843202518, loss val = 0.3588143196664279\n",
            "epoch : 7/30\n",
            "    loss train = 0.45882618473009074, loss val = 0.378568012503129\n",
            "epoch : 8/30\n",
            "    loss train = 0.45492286160778816, loss val = 0.3659227045276497\n",
            "epoch : 9/30\n",
            "    loss train = 0.44663413292001886, loss val = 0.3615369957081879\n",
            "10\n",
            "epoch : 10/30\n",
            "    loss train = 0.4454817646909553, loss val = 0.33351126784765267\n",
            "11\n",
            "epoch : 11/30\n",
            "    loss train = 0.4412326502525593, loss val = 0.3255806345068201\n",
            "12\n",
            "epoch : 12/30\n",
            "    loss train = 0.43935594267552464, loss val = 0.3242399568987798\n",
            "epoch : 13/30\n",
            "    loss train = 0.4365641953009169, loss val = 0.3369370668749266\n",
            "epoch : 14/30\n",
            "    loss train = 0.43710908613851307, loss val = 0.32784710998965216\n",
            "epoch : 15/30\n",
            "    loss train = 0.4330828892605384, loss val = 0.3347427965719489\n",
            "16\n",
            "epoch : 16/30\n",
            "    loss train = 0.4232211531047016, loss val = 0.3212722519153281\n",
            "epoch : 17/30\n",
            "    loss train = 0.4284076034412969, loss val = 0.34333811530584024\n",
            "epoch : 18/30\n",
            "    loss train = 0.428152013198494, loss val = 0.33416734532087666\n",
            "19\n",
            "epoch : 19/30\n",
            "    loss train = 0.42724887855217586, loss val = 0.31041036140692385\n",
            "epoch : 20/30\n",
            "    loss train = 0.4229226286149086, loss val = 0.3305843678079074\n",
            "epoch : 21/30\n",
            "    loss train = 0.42218424654220377, loss val = 0.31566460902177834\n",
            "epoch : 22/30\n",
            "    loss train = 0.4216118925977546, loss val = 0.32365988855120503\n",
            "epoch : 23/30\n",
            "    loss train = 0.4229254451249262, loss val = 0.32912487984646727\n",
            "epoch : 24/30\n",
            "    loss train = 0.4181738117771685, loss val = 0.32437695100714886\n",
            "epoch : 25/30\n",
            "    loss train = 0.41749297025258586, loss val = 0.3304578909013845\n",
            "epoch : 26/30\n",
            "    loss train = 0.41931610476330416, loss val = 0.31438919788674463\n",
            "27\n",
            "epoch : 27/30\n",
            "    loss train = 0.4224157027728722, loss val = 0.30911576842205435\n",
            "28\n",
            "epoch : 28/30\n",
            "    loss train = 0.4162493453687414, loss val = 0.30317555122737644\n",
            "epoch : 29/30\n",
            "    loss train = 0.4178284310242709, loss val = 0.3133838531337207\n",
            "epoch : 30/30\n",
            "    loss train = 0.4113928664599538, loss val = 0.32610325496408005\n"
          ]
        }
      ],
      "source": [
        "tl_augcae_cls1, vl_augcae_cls1 = train_cls_cn(augConvAE, aug_train_loader, aug_val_loader, aug=True)"
      ]
    },
    {
      "cell_type": "code",
      "execution_count": null,
      "metadata": {
        "colab": {
          "base_uri": "https://localhost:8080/"
        },
        "id": "Qi5Oem-SKik-",
        "outputId": "2c2d928f-f1f9-427b-c207-838ddb4cad1f"
      },
      "outputs": [
        {
          "data": {
            "text/plain": [
              "<All keys matched successfully>"
            ]
          },
          "execution_count": 124,
          "metadata": {},
          "output_type": "execute_result"
        }
      ],
      "source": [
        "augConvAE.load_state_dict(t.load('/content/aug_ConvAE_cls1.pt'))"
      ]
    },
    {
      "cell_type": "markdown",
      "metadata": {
        "id": "wXISP_pblu2U"
      },
      "source": [
        "##Метрики\n",
        "\n",
        "> Сравнение метрик между собой можно увидеть в таблице результатов, находящейся в pdf файле репозитория. Данный эксперимент в таблице, относящейся к 4 эксперименту, назван: \"1).AE classification(layer after encoder)\""
      ]
    },
    {
      "cell_type": "code",
      "execution_count": null,
      "metadata": {
        "colab": {
          "base_uri": "https://localhost:8080/",
          "height": 643
        },
        "id": "GRwdF8z0K-K-",
        "outputId": "a891adb8-bc07-47c1-fc83-44c0cf8ece51"
      },
      "outputs": [
        {
          "name": "stdout",
          "output_type": "stream",
          "text": [
            "micro: 0.9168\n",
            "macro: 0.9160258289015406\n",
            "accuracy: 0.9168\n",
            "<sklearn.metrics._plot.confusion_matrix.ConfusionMatrixDisplay object at 0x7efe602343d0>\n",
            "              precision    recall  f1-score   support\n",
            "\n",
            "           0       0.94      0.98      0.96       980\n",
            "           1       0.98      0.97      0.98      1135\n",
            "           2       0.90      0.91      0.91      1032\n",
            "           3       0.91      0.90      0.90      1010\n",
            "           4       0.92      0.89      0.91       982\n",
            "           5       0.91      0.87      0.89       892\n",
            "           6       0.95      0.93      0.94       958\n",
            "           7       0.95      0.89      0.92      1028\n",
            "           8       0.87      0.89      0.88       974\n",
            "           9       0.84      0.93      0.88      1009\n",
            "\n",
            "    accuracy                           0.92     10000\n",
            "   macro avg       0.92      0.92      0.92     10000\n",
            "weighted avg       0.92      0.92      0.92     10000\n",
            "\n"
          ]
        },
        {
          "data": {
            "image/png": "[encoded data removed]",
            "text/plain": [
              "<Figure size 432x288 with 2 Axes>"
            ]
          },
          "metadata": {},
          "output_type": "display_data"
        }
      ],
      "source": [
        "from sklearn.metrics import f1_score, accuracy_score\n",
        "from sklearn.metrics import classification_report, ConfusionMatrixDisplay\n",
        "\n",
        "true, pred = get_true_tst(), get_pred_tst_cn(augConvAE)\n",
        "\n",
        "print(f\"micro: {f1_score(true, pred, average='micro')}\\nmacro: {f1_score(true, pred, average='macro')}\")\n",
        "print(f'accuracy: {accuracy_score(true, pred)}')\n",
        "\n",
        "print(ConfusionMatrixDisplay.from_predictions(true, pred))\n",
        "print(classification_report(true, pred, target_names=[str(i) for i in range(10)]))"
      ]
    },
    {
      "cell_type": "markdown",
      "metadata": {
        "id": "_8ZG8KdAL2J_"
      },
      "source": [
        "#Сверточный pretrain encoder + classifier (учим pretrained encoder + classifier)"
      ]
    },
    {
      "cell_type": "code",
      "execution_count": null,
      "metadata": {
        "id": "tRxmHPaQLOsC"
      },
      "outputs": [],
      "source": [
        "params_CAE_cls = list(augConvAE.encoder.parameters()) + list(augConvAE.classifier2.parameters())\n",
        "optimizer = optim.Adam(params_CAE_cls, lr=1e-3)# обучение кодирование декодирования\n",
        "criterion = nn.CrossEntropyLoss()"
      ]
    },
    {
      "cell_type": "code",
      "execution_count": null,
      "metadata": {
        "colab": {
          "base_uri": "https://localhost:8080/"
        },
        "id": "J_fsd6LLLAk-",
        "outputId": "c26a39d6-e05b-4c46-83b0-64dad02bd028"
      },
      "outputs": [
        {
          "name": "stdout",
          "output_type": "stream",
          "text": [
            "1\n",
            "epoch : 1/30\n",
            "    loss train = 0.92292857467366, loss val = 0.3466721180873581\n",
            "2\n",
            "epoch : 2/30\n",
            "    loss train = 0.38676882415171476, loss val = 0.19661147684990604\n",
            "3\n",
            "epoch : 3/30\n",
            "    loss train = 0.2771180620812394, loss val = 0.14822056125613708\n",
            "4\n",
            "epoch : 4/30\n",
            "    loss train = 0.23216728507862677, loss val = 0.12102552284073981\n",
            "5\n",
            "epoch : 5/30\n",
            "    loss train = 0.20850837686101495, loss val = 0.10625669646630936\n",
            "6\n",
            "epoch : 6/30\n",
            "    loss train = 0.19250985663717665, loss val = 0.1052011845138254\n",
            "7\n",
            "epoch : 7/30\n",
            "    loss train = 0.18050827832935412, loss val = 0.09026445365876337\n",
            "8\n",
            "epoch : 8/30\n",
            "    loss train = 0.17547835563035571, loss val = 0.08854228637735301\n",
            "9\n",
            "epoch : 9/30\n",
            "    loss train = 0.16358131122634845, loss val = 0.08032086465649213\n",
            "10\n",
            "epoch : 10/30\n",
            "    loss train = 0.16133353560019636, loss val = 0.07567400220027075\n",
            "11\n",
            "epoch : 11/30\n",
            "    loss train = 0.15516233259378492, loss val = 0.07150406894993179\n",
            "epoch : 12/30\n",
            "    loss train = 0.14934212552464526, loss val = 0.0737135639661758\n",
            "13\n",
            "epoch : 13/30\n",
            "    loss train = 0.14335632117469901, loss val = 0.07108609891154721\n",
            "epoch : 14/30\n",
            "    loss train = 0.14669931961980928, loss val = 0.08166247576215788\n",
            "15\n",
            "epoch : 15/30\n",
            "    loss train = 0.1403890559759439, loss val = 0.06474351274627674\n",
            "16\n",
            "epoch : 16/30\n",
            "    loss train = 0.13773580626739412, loss val = 0.06373239504291286\n",
            "epoch : 17/30\n",
            "    loss train = 0.134414646217166, loss val = 0.0674749029659566\n",
            "epoch : 18/30\n",
            "    loss train = 0.13204120897957125, loss val = 0.06466572178834223\n",
            "epoch : 19/30\n",
            "    loss train = 0.1286410193918916, loss val = 0.06652441599017268\n",
            "20\n",
            "epoch : 20/30\n",
            "    loss train = 0.12820595245608282, loss val = 0.06331357609221264\n",
            "epoch : 21/30\n",
            "    loss train = 0.12612209567214216, loss val = 0.06995802057341119\n",
            "22\n",
            "epoch : 22/30\n",
            "    loss train = 0.12639294604263496, loss val = 0.05556995089053872\n",
            "epoch : 23/30\n",
            "    loss train = 0.12254932707132739, loss val = 0.056233071333056765\n",
            "epoch : 24/30\n",
            "    loss train = 0.12071697624957622, loss val = 0.057472001419320136\n",
            "epoch : 25/30\n",
            "    loss train = 0.11911725918369373, loss val = 0.0561948815342982\n",
            "epoch : 26/30\n",
            "    loss train = 0.1194345185013912, loss val = 0.0575748050874217\n",
            "epoch : 27/30\n",
            "    loss train = 0.11908997709641371, loss val = 0.058249403109561795\n",
            "28\n",
            "epoch : 28/30\n",
            "    loss train = 0.11806250928098436, loss val = 0.05475202622481539\n",
            "epoch : 29/30\n",
            "    loss train = 0.11317687784142964, loss val = 0.0601775687529788\n",
            "epoch : 30/30\n",
            "    loss train = 0.1166823465434258, loss val = 0.05494475737508811\n"
          ]
        }
      ],
      "source": [
        "tl_augcae_cls2, vl_augcae_cls2 = train_cls_cn(augConvAE, aug_train_loader, aug_val_loader, False, True)"
      ]
    },
    {
      "cell_type": "code",
      "execution_count": null,
      "metadata": {
        "colab": {
          "base_uri": "https://localhost:8080/"
        },
        "id": "MPyh0Tu3LZ6b",
        "outputId": "ea69cbe4-3016-4127-dfb8-a67c0a0fdfb8"
      },
      "outputs": [
        {
          "data": {
            "text/plain": [
              "<All keys matched successfully>"
            ]
          },
          "execution_count": 134,
          "metadata": {},
          "output_type": "execute_result"
        }
      ],
      "source": [
        "augConvAE.load_state_dict(t.load('/content/aug_ConvAE_cls2.pt'))"
      ]
    },
    {
      "cell_type": "markdown",
      "metadata": {
        "id": "qyKvD0Gxl35P"
      },
      "source": [
        "## Метрики\n",
        "\n",
        "> Сравнение метрик между собой можно увидеть в таблице результатов, находящейся в pdf файле репозитория. Данный эксперимент в таблице, относящейся к 4 эксперименту, назван: \"2).pretrained encoder + classification layer\""
      ]
    },
    {
      "cell_type": "code",
      "execution_count": null,
      "metadata": {
        "colab": {
          "base_uri": "https://localhost:8080/",
          "height": 643
        },
        "id": "fqp3kXJoLsgS",
        "outputId": "5ae71037-f242-480a-f486-25d006abdc3f"
      },
      "outputs": [
        {
          "name": "stdout",
          "output_type": "stream",
          "text": [
            "micro: 0.9858\n",
            "macro: 0.9857473657476012\n",
            "accuracy: 0.9858\n",
            "<sklearn.metrics._plot.confusion_matrix.ConfusionMatrixDisplay object at 0x7efe03033410>\n",
            "              precision    recall  f1-score   support\n",
            "\n",
            "           0       0.98      0.99      0.99       980\n",
            "           1       0.99      0.99      0.99      1135\n",
            "           2       0.97      0.99      0.98      1032\n",
            "           3       0.99      0.98      0.99      1010\n",
            "           4       0.99      0.98      0.99       982\n",
            "           5       0.98      0.99      0.99       892\n",
            "           6       0.99      0.98      0.99       958\n",
            "           7       0.99      0.97      0.98      1028\n",
            "           8       0.99      0.98      0.98       974\n",
            "           9       0.97      0.98      0.98      1009\n",
            "\n",
            "    accuracy                           0.99     10000\n",
            "   macro avg       0.99      0.99      0.99     10000\n",
            "weighted avg       0.99      0.99      0.99     10000\n",
            "\n"
          ]
        },
        {
          "data": {
            "image/png": "[encoded data removed]",
            "text/plain": [
              "<Figure size 432x288 with 2 Axes>"
            ]
          },
          "metadata": {},
          "output_type": "display_data"
        }
      ],
      "source": [
        "from sklearn.metrics import f1_score, accuracy_score\n",
        "from sklearn.metrics import classification_report, ConfusionMatrixDisplay\n",
        "\n",
        "true, pred = get_true_tst(), get_pred_tst_cn(augConvAE, False)\n",
        "\n",
        "print(f\"micro: {f1_score(true, pred, average='micro')}\\nmacro: {f1_score(true, pred, average='macro')}\")\n",
        "print(f'accuracy: {accuracy_score(true, pred)}')\n",
        "\n",
        "print(ConfusionMatrixDisplay.from_predictions(true, pred))\n",
        "print(classification_report(true, pred, target_names=[str(i) for i in range(10)]))"
      ]
    },
    {
      "cell_type": "markdown",
      "metadata": {
        "id": "f335e0X9L3u1"
      },
      "source": [
        "#CNNet (учим сверточную сеть encoder+classifier)"
      ]
    },
    {
      "cell_type": "code",
      "execution_count": null,
      "metadata": {
        "id": "g-ad-ofqL4R8"
      },
      "outputs": [],
      "source": [
        "cn_cl = CNNet().to(device)\n",
        "optimizer = optim.Adam(cn_cl.parameters(), lr=1e-3)\n",
        "criterion = nn.CrossEntropyLoss()"
      ]
    },
    {
      "cell_type": "code",
      "execution_count": null,
      "metadata": {
        "colab": {
          "base_uri": "https://localhost:8080/"
        },
        "id": "5WfsMVl5MFLu",
        "outputId": "05726e45-2732-4b0d-98ae-327c075484fb"
      },
      "outputs": [
        {
          "name": "stdout",
          "output_type": "stream",
          "text": [
            "1\n",
            "epoch : 1/30\n",
            "    loss train = 0.8216433246879626, loss val = 0.25805485984192617\n",
            "2\n",
            "epoch : 2/30\n",
            "    loss train = 0.3330515898630747, loss val = 0.16546597420179013\n",
            "3\n",
            "epoch : 3/30\n",
            "    loss train = 0.25629205298621943, loss val = 0.12896834955185274\n",
            "4\n",
            "epoch : 4/30\n",
            "    loss train = 0.22102121639129757, loss val = 0.11490935579979722\n",
            "5\n",
            "epoch : 5/30\n",
            "    loss train = 0.20141083368902926, loss val = 0.10434926471000985\n",
            "6\n",
            "epoch : 6/30\n",
            "    loss train = 0.19251138385375746, loss val = 0.09792042455246931\n",
            "7\n",
            "epoch : 7/30\n",
            "    loss train = 0.1807234773359945, loss val = 0.09200465061430689\n",
            "8\n",
            "epoch : 8/30\n",
            "    loss train = 0.1708219065747755, loss val = 0.08581686047822402\n",
            "epoch : 9/30\n",
            "    loss train = 0.16693963063761708, loss val = 0.08910992851221486\n",
            "10\n",
            "epoch : 10/30\n",
            "    loss train = 0.1610598304330388, loss val = 0.08058357937261462\n",
            "11\n",
            "epoch : 11/30\n",
            "    loss train = 0.16044590386855023, loss val = 0.07965388997233933\n",
            "epoch : 12/30\n",
            "    loss train = 0.1526702046203796, loss val = 0.08056918920689746\n",
            "13\n",
            "epoch : 13/30\n",
            "    loss train = 0.14938666997358319, loss val = 0.07043153665299658\n",
            "epoch : 14/30\n",
            "    loss train = 0.14420860500820457, loss val = 0.07476518972765041\n",
            "epoch : 15/30\n",
            "    loss train = 0.1390137544468693, loss val = 0.07335333407066669\n",
            "16\n",
            "epoch : 16/30\n",
            "    loss train = 0.13653503213544635, loss val = 0.06806566427119926\n",
            "17\n",
            "epoch : 17/30\n",
            "    loss train = 0.14155461366676614, loss val = 0.06648910083937683\n",
            "epoch : 18/30\n",
            "    loss train = 0.13796534980444805, loss val = 0.06697159828736057\n",
            "19\n",
            "epoch : 19/30\n",
            "    loss train = 0.13472409882699438, loss val = 0.0648451134992787\n",
            "20\n",
            "epoch : 20/30\n",
            "    loss train = 0.13157967263665957, loss val = 0.06295801319853886\n",
            "epoch : 21/30\n",
            "    loss train = 0.12808905389455275, loss val = 0.06793145543624517\n",
            "epoch : 22/30\n",
            "    loss train = 0.12601469833013193, loss val = 0.0659500483918605\n",
            "epoch : 23/30\n",
            "    loss train = 0.12677940122230583, loss val = 0.06566323218366155\n",
            "epoch : 24/30\n",
            "    loss train = 0.12397773475255199, loss val = 0.06298734666779637\n",
            "25\n",
            "epoch : 25/30\n",
            "    loss train = 0.1196070268388142, loss val = 0.06153149364068161\n",
            "26\n",
            "epoch : 26/30\n",
            "    loss train = 0.12380923131657073, loss val = 0.059595524935387785\n",
            "epoch : 27/30\n",
            "    loss train = 0.11995547991293623, loss val = 0.06460686632405518\n",
            "epoch : 28/30\n",
            "    loss train = 0.11638368655215292, loss val = 0.06488699724166831\n",
            "29\n",
            "epoch : 29/30\n",
            "    loss train = 0.12012354063008295, loss val = 0.05632944627299528\n",
            "epoch : 30/30\n",
            "    loss train = 0.119152792288786, loss val = 0.061175690148957074\n"
          ]
        }
      ],
      "source": [
        "tl_augcae_cls3, vl_augcae_cls3 = train_cls_cn3(cn_cl, aug_train_loader, aug_val_loader, True)\n"
      ]
    },
    {
      "cell_type": "code",
      "execution_count": null,
      "metadata": {
        "colab": {
          "base_uri": "https://localhost:8080/"
        },
        "id": "E4_BiDSaMbE8",
        "outputId": "53f60e6d-c9a4-4a32-c6ea-8a6929c2a815"
      },
      "outputs": [
        {
          "data": {
            "text/plain": [
              "<All keys matched successfully>"
            ]
          },
          "execution_count": 142,
          "metadata": {},
          "output_type": "execute_result"
        }
      ],
      "source": [
        "cn_cl.load_state_dict(t.load('/content/aug_ConvAE_cls3.pt'))"
      ]
    },
    {
      "cell_type": "markdown",
      "metadata": {
        "id": "BNlVIql5mFtG"
      },
      "source": [
        "## Метрики\n",
        "\n",
        "> Сравнение метрик между собой можно увидеть в таблице результатов, находящейся в pdf файле репозитория. Данный эксперимент в таблице, относящейся к 4 эксперименту, назван: \"3).encoder + classification layer (FCN)\""
      ]
    },
    {
      "cell_type": "code",
      "execution_count": null,
      "metadata": {
        "colab": {
          "base_uri": "https://localhost:8080/",
          "height": 643
        },
        "id": "2EF_hnLCMrEu",
        "outputId": "bd1957fc-5709-4276-9164-dc2794d651c7"
      },
      "outputs": [
        {
          "name": "stdout",
          "output_type": "stream",
          "text": [
            "micro: 0.9857\n",
            "macro: 0.9855967733080953\n",
            "accuracy: 0.9857\n",
            "<sklearn.metrics._plot.confusion_matrix.ConfusionMatrixDisplay object at 0x7efe604b9750>\n",
            "              precision    recall  f1-score   support\n",
            "\n",
            "           0       0.98      1.00      0.99       980\n",
            "           1       0.99      0.99      0.99      1135\n",
            "           2       0.99      0.98      0.98      1032\n",
            "           3       0.99      0.99      0.99      1010\n",
            "           4       0.99      0.99      0.99       982\n",
            "           5       0.98      0.99      0.98       892\n",
            "           6       0.99      0.98      0.99       958\n",
            "           7       0.99      0.98      0.98      1028\n",
            "           8       0.98      0.99      0.98       974\n",
            "           9       0.98      0.98      0.98      1009\n",
            "\n",
            "    accuracy                           0.99     10000\n",
            "   macro avg       0.99      0.99      0.99     10000\n",
            "weighted avg       0.99      0.99      0.99     10000\n",
            "\n"
          ]
        },
        {
          "data": {
            "image/png": "[encoded data removed]",
            "text/plain": [
              "<Figure size 432x288 with 2 Axes>"
            ]
          },
          "metadata": {},
          "output_type": "display_data"
        }
      ],
      "source": [
        "from sklearn.metrics import f1_score, accuracy_score\n",
        "from sklearn.metrics import classification_report, ConfusionMatrixDisplay\n",
        "\n",
        "true, pred = get_true_tst(), get_pred_tst_cn3(cn_cl)\n",
        "print(f\"micro: {f1_score(true, pred, average='micro')}\\nmacro: {f1_score(true, pred, average='macro')}\")\n",
        "print(f'accuracy: {accuracy_score(true, pred)}')\n",
        "\n",
        "print(ConfusionMatrixDisplay.from_predictions(true, pred))\n",
        "print(classification_report(true, pred, target_names=[str(i) for i in range(10)]))"
      ]
    },
    {
      "cell_type": "markdown",
      "metadata": {
        "id": "9TZidNAjmJhv"
      },
      "source": [
        "##Сравнение значений функции потерь (на валидационной выборке) "
      ]
    },
    {
      "cell_type": "code",
      "execution_count": null,
      "metadata": {
        "colab": {
          "base_uri": "https://localhost:8080/",
          "height": 279
        },
        "id": "oNw_orHNMuUp",
        "outputId": "b37cf592-6834-489e-8faf-b836572a2474"
      },
      "outputs": [
        {
          "data": {
            "image/png": "[encoded data removed]",
            "text/plain": [
              "<Figure size 432x288 with 1 Axes>"
            ]
          },
          "metadata": {},
          "output_type": "display_data"
        }
      ],
      "source": [
        "PlotVal(vl_augcae_cls1, vl_augcae_cls2, vl_augcae_cls3)"
      ]
    },
    {
      "cell_type": "code",
      "execution_count": null,
      "metadata": {
        "colab": {
          "base_uri": "https://localhost:8080/",
          "height": 279
        },
        "id": "g0ktxMi1NSEC",
        "outputId": "e1ee1679-666c-4840-9d31-a7895605056b"
      },
      "outputs": [
        {
          "data": {
            "image/png": "[encoded data removed]",
            "text/plain": [
              "<Figure size 432x288 with 1 Axes>"
            ]
          },
          "metadata": {},
          "output_type": "display_data"
        }
      ],
      "source": [
        "x = range(30)\n",
        "plt.plot(x, vl_augcae_cls2, label = 'encoder+fc')\n",
        "plt.plot(x, vl_augcae_cls3, label = 'fc net')\n",
        "plt.xlabel('epoch')\n",
        "plt.ylabel('val loss')\n",
        "plt.legend()\n",
        "plt.show()"
      ]
    },
    {
      "cell_type": "code",
      "execution_count": null,
      "metadata": {
        "id": "Yp0Q9603RdXq"
      },
      "outputs": [],
      "source": [
        ""
      ]
    }
  ],
  "metadata": {
    "accelerator": "GPU",
    "colab": {
      "collapsed_sections": [],
      "name": "AEtorch.ipynb",
      "toc_visible": true,
      "provenance": [],
      "mount_file_id": "1-gKeBvGDA-vb1LAlggPazHjwCa3fVaBI",
      "authorship_tag": "ABX9TyMr4DbIC3sdJNy8o4um4IN6",
      "include_colab_link": true
    },
    "gpuClass": "standard",
    "kernelspec": {
      "display_name": "Python 3",
      "name": "python3"
    },
    "language_info": {
      "name": "python"
    },
    "widgets": {
      "application/vnd.jupyter.widget-state+json": {
        "38ca1a9b5db9413b931bb13f07801fac": {
          "model_module": "@jupyter-widgets/controls",
          "model_name": "HBoxModel",
          "model_module_version": "1.5.0",
          "state": {
            "_dom_classes": [],
            "_model_module": "@jupyter-widgets/controls",
            "_model_module_version": "1.5.0",
            "_model_name": "HBoxModel",
            "_view_count": null,
            "_view_module": "@jupyter-widgets/controls",
            "_view_module_version": "1.5.0",
            "_view_name": "HBoxView",
            "box_style": "",
            "children": [
              "IPY_MODEL_6cf91bf6f3c34b16a91d78e6ee378f25",
              "IPY_MODEL_61b86d780c174b62bcd728e0217ad881",
              "IPY_MODEL_d979e84d7e0a425cb0e1bb5e3b29b7a7"
            ],
            "layout": "IPY_MODEL_edee3fa15f324208a9cf7fc16067390d"
          }
        },
        "6cf91bf6f3c34b16a91d78e6ee378f25": {
          "model_module": "@jupyter-widgets/controls",
          "model_name": "HTMLModel",
          "model_module_version": "1.5.0",
          "state": {
            "_dom_classes": [],
            "_model_module": "@jupyter-widgets/controls",
            "_model_module_version": "1.5.0",
            "_model_name": "HTMLModel",
            "_view_count": null,
            "_view_module": "@jupyter-widgets/controls",
            "_view_module_version": "1.5.0",
            "_view_name": "HTMLView",
            "description": "",
            "description_tooltip": null,
            "layout": "IPY_MODEL_de2d2d90d05847bd8780758876029f37",
            "placeholder": "​",
            "style": "IPY_MODEL_1d49ca9ae9fe4ea5865db7fbf82e0e65",
            "value": "100%"
          }
        },
        "61b86d780c174b62bcd728e0217ad881": {
          "model_module": "@jupyter-widgets/controls",
          "model_name": "FloatProgressModel",
          "model_module_version": "1.5.0",
          "state": {
            "_dom_classes": [],
            "_model_module": "@jupyter-widgets/controls",
            "_model_module_version": "1.5.0",
            "_model_name": "FloatProgressModel",
            "_view_count": null,
            "_view_module": "@jupyter-widgets/controls",
            "_view_module_version": "1.5.0",
            "_view_name": "ProgressView",
            "bar_style": "success",
            "description": "",
            "description_tooltip": null,
            "layout": "IPY_MODEL_c7c84f8767954b3eb05809b40da39f1f",
            "max": 9912422,
            "min": 0,
            "orientation": "horizontal",
            "style": "IPY_MODEL_cf5396876c7e4d0da2c6a370d010082c",
            "value": 9912422
          }
        },
        "d979e84d7e0a425cb0e1bb5e3b29b7a7": {
          "model_module": "@jupyter-widgets/controls",
          "model_name": "HTMLModel",
          "model_module_version": "1.5.0",
          "state": {
            "_dom_classes": [],
            "_model_module": "@jupyter-widgets/controls",
            "_model_module_version": "1.5.0",
            "_model_name": "HTMLModel",
            "_view_count": null,
            "_view_module": "@jupyter-widgets/controls",
            "_view_module_version": "1.5.0",
            "_view_name": "HTMLView",
            "description": "",
            "description_tooltip": null,
            "layout": "IPY_MODEL_5883c21d741f4dbfba3769575cabcd4d",
            "placeholder": "​",
            "style": "IPY_MODEL_c970da9176ef4542837cb881b5364eb6",
            "value": " 9912422/9912422 [00:00&lt;00:00, 48771280.26it/s]"
          }
        },
        "edee3fa15f324208a9cf7fc16067390d": {
          "model_module": "@jupyter-widgets/base",
          "model_name": "LayoutModel",
          "model_module_version": "1.2.0",
          "state": {
            "_model_module": "@jupyter-widgets/base",
            "_model_module_version": "1.2.0",
            "_model_name": "LayoutModel",
            "_view_count": null,
            "_view_module": "@jupyter-widgets/base",
            "_view_module_version": "1.2.0",
            "_view_name": "LayoutView",
            "align_content": null,
            "align_items": null,
            "align_self": null,
            "border": null,
            "bottom": null,
            "display": null,
            "flex": null,
            "flex_flow": null,
            "grid_area": null,
            "grid_auto_columns": null,
            "grid_auto_flow": null,
            "grid_auto_rows": null,
            "grid_column": null,
            "grid_gap": null,
            "grid_row": null,
            "grid_template_areas": null,
            "grid_template_columns": null,
            "grid_template_rows": null,
            "height": null,
            "justify_content": null,
            "justify_items": null,
            "left": null,
            "margin": null,
            "max_height": null,
            "max_width": null,
            "min_height": null,
            "min_width": null,
            "object_fit": null,
            "object_position": null,
            "order": null,
            "overflow": null,
            "overflow_x": null,
            "overflow_y": null,
            "padding": null,
            "right": null,
            "top": null,
            "visibility": null,
            "width": null
          }
        },
        "de2d2d90d05847bd8780758876029f37": {
          "model_module": "@jupyter-widgets/base",
          "model_name": "LayoutModel",
          "model_module_version": "1.2.0",
          "state": {
            "_model_module": "@jupyter-widgets/base",
            "_model_module_version": "1.2.0",
            "_model_name": "LayoutModel",
            "_view_count": null,
            "_view_module": "@jupyter-widgets/base",
            "_view_module_version": "1.2.0",
            "_view_name": "LayoutView",
            "align_content": null,
            "align_items": null,
            "align_self": null,
            "border": null,
            "bottom": null,
            "display": null,
            "flex": null,
            "flex_flow": null,
            "grid_area": null,
            "grid_auto_columns": null,
            "grid_auto_flow": null,
            "grid_auto_rows": null,
            "grid_column": null,
            "grid_gap": null,
            "grid_row": null,
            "grid_template_areas": null,
            "grid_template_columns": null,
            "grid_template_rows": null,
            "height": null,
            "justify_content": null,
            "justify_items": null,
            "left": null,
            "margin": null,
            "max_height": null,
            "max_width": null,
            "min_height": null,
            "min_width": null,
            "object_fit": null,
            "object_position": null,
            "order": null,
            "overflow": null,
            "overflow_x": null,
            "overflow_y": null,
            "padding": null,
            "right": null,
            "top": null,
            "visibility": null,
            "width": null
          }
        },
        "1d49ca9ae9fe4ea5865db7fbf82e0e65": {
          "model_module": "@jupyter-widgets/controls",
          "model_name": "DescriptionStyleModel",
          "model_module_version": "1.5.0",
          "state": {
            "_model_module": "@jupyter-widgets/controls",
            "_model_module_version": "1.5.0",
            "_model_name": "DescriptionStyleModel",
            "_view_count": null,
            "_view_module": "@jupyter-widgets/base",
            "_view_module_version": "1.2.0",
            "_view_name": "StyleView",
            "description_width": ""
          }
        },
        "c7c84f8767954b3eb05809b40da39f1f": {
          "model_module": "@jupyter-widgets/base",
          "model_name": "LayoutModel",
          "model_module_version": "1.2.0",
          "state": {
            "_model_module": "@jupyter-widgets/base",
            "_model_module_version": "1.2.0",
            "_model_name": "LayoutModel",
            "_view_count": null,
            "_view_module": "@jupyter-widgets/base",
            "_view_module_version": "1.2.0",
            "_view_name": "LayoutView",
            "align_content": null,
            "align_items": null,
            "align_self": null,
            "border": null,
            "bottom": null,
            "display": null,
            "flex": null,
            "flex_flow": null,
            "grid_area": null,
            "grid_auto_columns": null,
            "grid_auto_flow": null,
            "grid_auto_rows": null,
            "grid_column": null,
            "grid_gap": null,
            "grid_row": null,
            "grid_template_areas": null,
            "grid_template_columns": null,
            "grid_template_rows": null,
            "height": null,
            "justify_content": null,
            "justify_items": null,
            "left": null,
            "margin": null,
            "max_height": null,
            "max_width": null,
            "min_height": null,
            "min_width": null,
            "object_fit": null,
            "object_position": null,
            "order": null,
            "overflow": null,
            "overflow_x": null,
            "overflow_y": null,
            "padding": null,
            "right": null,
            "top": null,
            "visibility": null,
            "width": null
          }
        },
        "cf5396876c7e4d0da2c6a370d010082c": {
          "model_module": "@jupyter-widgets/controls",
          "model_name": "ProgressStyleModel",
          "model_module_version": "1.5.0",
          "state": {
            "_model_module": "@jupyter-widgets/controls",
            "_model_module_version": "1.5.0",
            "_model_name": "ProgressStyleModel",
            "_view_count": null,
            "_view_module": "@jupyter-widgets/base",
            "_view_module_version": "1.2.0",
            "_view_name": "StyleView",
            "bar_color": null,
            "description_width": ""
          }
        },
        "5883c21d741f4dbfba3769575cabcd4d": {
          "model_module": "@jupyter-widgets/base",
          "model_name": "LayoutModel",
          "model_module_version": "1.2.0",
          "state": {
            "_model_module": "@jupyter-widgets/base",
            "_model_module_version": "1.2.0",
            "_model_name": "LayoutModel",
            "_view_count": null,
            "_view_module": "@jupyter-widgets/base",
            "_view_module_version": "1.2.0",
            "_view_name": "LayoutView",
            "align_content": null,
            "align_items": null,
            "align_self": null,
            "border": null,
            "bottom": null,
            "display": null,
            "flex": null,
            "flex_flow": null,
            "grid_area": null,
            "grid_auto_columns": null,
            "grid_auto_flow": null,
            "grid_auto_rows": null,
            "grid_column": null,
            "grid_gap": null,
            "grid_row": null,
            "grid_template_areas": null,
            "grid_template_columns": null,
            "grid_template_rows": null,
            "height": null,
            "justify_content": null,
            "justify_items": null,
            "left": null,
            "margin": null,
            "max_height": null,
            "max_width": null,
            "min_height": null,
            "min_width": null,
            "object_fit": null,
            "object_position": null,
            "order": null,
            "overflow": null,
            "overflow_x": null,
            "overflow_y": null,
            "padding": null,
            "right": null,
            "top": null,
            "visibility": null,
            "width": null
          }
        },
        "c970da9176ef4542837cb881b5364eb6": {
          "model_module": "@jupyter-widgets/controls",
          "model_name": "DescriptionStyleModel",
          "model_module_version": "1.5.0",
          "state": {
            "_model_module": "@jupyter-widgets/controls",
            "_model_module_version": "1.5.0",
            "_model_name": "DescriptionStyleModel",
            "_view_count": null,
            "_view_module": "@jupyter-widgets/base",
            "_view_module_version": "1.2.0",
            "_view_name": "StyleView",
            "description_width": ""
          }
        },
        "ea48f77038794ef9af4574b67f6b6fd4": {
          "model_module": "@jupyter-widgets/controls",
          "model_name": "HBoxModel",
          "model_module_version": "1.5.0",
          "state": {
            "_dom_classes": [],
            "_model_module": "@jupyter-widgets/controls",
            "_model_module_version": "1.5.0",
            "_model_name": "HBoxModel",
            "_view_count": null,
            "_view_module": "@jupyter-widgets/controls",
            "_view_module_version": "1.5.0",
            "_view_name": "HBoxView",
            "box_style": "",
            "children": [
              "IPY_MODEL_0416d686dd7f438dadeb082ae65def1e",
              "IPY_MODEL_6f88249a0c3c4dfd8e337ec99b9bbbd3",
              "IPY_MODEL_731258dafd844c4499d76ac084e14e01"
            ],
            "layout": "IPY_MODEL_b10b471e3b724611860c4394f2465637"
          }
        },
        "0416d686dd7f438dadeb082ae65def1e": {
          "model_module": "@jupyter-widgets/controls",
          "model_name": "HTMLModel",
          "model_module_version": "1.5.0",
          "state": {
            "_dom_classes": [],
            "_model_module": "@jupyter-widgets/controls",
            "_model_module_version": "1.5.0",
            "_model_name": "HTMLModel",
            "_view_count": null,
            "_view_module": "@jupyter-widgets/controls",
            "_view_module_version": "1.5.0",
            "_view_name": "HTMLView",
            "description": "",
            "description_tooltip": null,
            "layout": "IPY_MODEL_2d49c9990b35441da6bf065cb8290840",
            "placeholder": "​",
            "style": "IPY_MODEL_9920d94557a141e7935b80abe2e8d8ea",
            "value": "100%"
          }
        },
        "6f88249a0c3c4dfd8e337ec99b9bbbd3": {
          "model_module": "@jupyter-widgets/controls",
          "model_name": "FloatProgressModel",
          "model_module_version": "1.5.0",
          "state": {
            "_dom_classes": [],
            "_model_module": "@jupyter-widgets/controls",
            "_model_module_version": "1.5.0",
            "_model_name": "FloatProgressModel",
            "_view_count": null,
            "_view_module": "@jupyter-widgets/controls",
            "_view_module_version": "1.5.0",
            "_view_name": "ProgressView",
            "bar_style": "success",
            "description": "",
            "description_tooltip": null,
            "layout": "IPY_MODEL_3d301dc8ea5844f9bfdd1912ea00c500",
            "max": 28881,
            "min": 0,
            "orientation": "horizontal",
            "style": "IPY_MODEL_852499d1b48b4f7c8a0895dae563f3b6",
            "value": 28881
          }
        },
        "731258dafd844c4499d76ac084e14e01": {
          "model_module": "@jupyter-widgets/controls",
          "model_name": "HTMLModel",
          "model_module_version": "1.5.0",
          "state": {
            "_dom_classes": [],
            "_model_module": "@jupyter-widgets/controls",
            "_model_module_version": "1.5.0",
            "_model_name": "HTMLModel",
            "_view_count": null,
            "_view_module": "@jupyter-widgets/controls",
            "_view_module_version": "1.5.0",
            "_view_name": "HTMLView",
            "description": "",
            "description_tooltip": null,
            "layout": "IPY_MODEL_bc9ffecfaedb4e1ea2f125ce30f0c6f7",
            "placeholder": "​",
            "style": "IPY_MODEL_9c5189bd796c406784838da104ff1f09",
            "value": " 28881/28881 [00:00&lt;00:00, 892817.51it/s]"
          }
        },
        "b10b471e3b724611860c4394f2465637": {
          "model_module": "@jupyter-widgets/base",
          "model_name": "LayoutModel",
          "model_module_version": "1.2.0",
          "state": {
            "_model_module": "@jupyter-widgets/base",
            "_model_module_version": "1.2.0",
            "_model_name": "LayoutModel",
            "_view_count": null,
            "_view_module": "@jupyter-widgets/base",
            "_view_module_version": "1.2.0",
            "_view_name": "LayoutView",
            "align_content": null,
            "align_items": null,
            "align_self": null,
            "border": null,
            "bottom": null,
            "display": null,
            "flex": null,
            "flex_flow": null,
            "grid_area": null,
            "grid_auto_columns": null,
            "grid_auto_flow": null,
            "grid_auto_rows": null,
            "grid_column": null,
            "grid_gap": null,
            "grid_row": null,
            "grid_template_areas": null,
            "grid_template_columns": null,
            "grid_template_rows": null,
            "height": null,
            "justify_content": null,
            "justify_items": null,
            "left": null,
            "margin": null,
            "max_height": null,
            "max_width": null,
            "min_height": null,
            "min_width": null,
            "object_fit": null,
            "object_position": null,
            "order": null,
            "overflow": null,
            "overflow_x": null,
            "overflow_y": null,
            "padding": null,
            "right": null,
            "top": null,
            "visibility": null,
            "width": null
          }
        },
        "2d49c9990b35441da6bf065cb8290840": {
          "model_module": "@jupyter-widgets/base",
          "model_name": "LayoutModel",
          "model_module_version": "1.2.0",
          "state": {
            "_model_module": "@jupyter-widgets/base",
            "_model_module_version": "1.2.0",
            "_model_name": "LayoutModel",
            "_view_count": null,
            "_view_module": "@jupyter-widgets/base",
            "_view_module_version": "1.2.0",
            "_view_name": "LayoutView",
            "align_content": null,
            "align_items": null,
            "align_self": null,
            "border": null,
            "bottom": null,
            "display": null,
            "flex": null,
            "flex_flow": null,
            "grid_area": null,
            "grid_auto_columns": null,
            "grid_auto_flow": null,
            "grid_auto_rows": null,
            "grid_column": null,
            "grid_gap": null,
            "grid_row": null,
            "grid_template_areas": null,
            "grid_template_columns": null,
            "grid_template_rows": null,
            "height": null,
            "justify_content": null,
            "justify_items": null,
            "left": null,
            "margin": null,
            "max_height": null,
            "max_width": null,
            "min_height": null,
            "min_width": null,
            "object_fit": null,
            "object_position": null,
            "order": null,
            "overflow": null,
            "overflow_x": null,
            "overflow_y": null,
            "padding": null,
            "right": null,
            "top": null,
            "visibility": null,
            "width": null
          }
        },
        "9920d94557a141e7935b80abe2e8d8ea": {
          "model_module": "@jupyter-widgets/controls",
          "model_name": "DescriptionStyleModel",
          "model_module_version": "1.5.0",
          "state": {
            "_model_module": "@jupyter-widgets/controls",
            "_model_module_version": "1.5.0",
            "_model_name": "DescriptionStyleModel",
            "_view_count": null,
            "_view_module": "@jupyter-widgets/base",
            "_view_module_version": "1.2.0",
            "_view_name": "StyleView",
            "description_width": ""
          }
        },
        "3d301dc8ea5844f9bfdd1912ea00c500": {
          "model_module": "@jupyter-widgets/base",
          "model_name": "LayoutModel",
          "model_module_version": "1.2.0",
          "state": {
            "_model_module": "@jupyter-widgets/base",
            "_model_module_version": "1.2.0",
            "_model_name": "LayoutModel",
            "_view_count": null,
            "_view_module": "@jupyter-widgets/base",
            "_view_module_version": "1.2.0",
            "_view_name": "LayoutView",
            "align_content": null,
            "align_items": null,
            "align_self": null,
            "border": null,
            "bottom": null,
            "display": null,
            "flex": null,
            "flex_flow": null,
            "grid_area": null,
            "grid_auto_columns": null,
            "grid_auto_flow": null,
            "grid_auto_rows": null,
            "grid_column": null,
            "grid_gap": null,
            "grid_row": null,
            "grid_template_areas": null,
            "grid_template_columns": null,
            "grid_template_rows": null,
            "height": null,
            "justify_content": null,
            "justify_items": null,
            "left": null,
            "margin": null,
            "max_height": null,
            "max_width": null,
            "min_height": null,
            "min_width": null,
            "object_fit": null,
            "object_position": null,
            "order": null,
            "overflow": null,
            "overflow_x": null,
            "overflow_y": null,
            "padding": null,
            "right": null,
            "top": null,
            "visibility": null,
            "width": null
          }
        },
        "852499d1b48b4f7c8a0895dae563f3b6": {
          "model_module": "@jupyter-widgets/controls",
          "model_name": "ProgressStyleModel",
          "model_module_version": "1.5.0",
          "state": {
            "_model_module": "@jupyter-widgets/controls",
            "_model_module_version": "1.5.0",
            "_model_name": "ProgressStyleModel",
            "_view_count": null,
            "_view_module": "@jupyter-widgets/base",
            "_view_module_version": "1.2.0",
            "_view_name": "StyleView",
            "bar_color": null,
            "description_width": ""
          }
        },
        "bc9ffecfaedb4e1ea2f125ce30f0c6f7": {
          "model_module": "@jupyter-widgets/base",
          "model_name": "LayoutModel",
          "model_module_version": "1.2.0",
          "state": {
            "_model_module": "@jupyter-widgets/base",
            "_model_module_version": "1.2.0",
            "_model_name": "LayoutModel",
            "_view_count": null,
            "_view_module": "@jupyter-widgets/base",
            "_view_module_version": "1.2.0",
            "_view_name": "LayoutView",
            "align_content": null,
            "align_items": null,
            "align_self": null,
            "border": null,
            "bottom": null,
            "display": null,
            "flex": null,
            "flex_flow": null,
            "grid_area": null,
            "grid_auto_columns": null,
            "grid_auto_flow": null,
            "grid_auto_rows": null,
            "grid_column": null,
            "grid_gap": null,
            "grid_row": null,
            "grid_template_areas": null,
            "grid_template_columns": null,
            "grid_template_rows": null,
            "height": null,
            "justify_content": null,
            "justify_items": null,
            "left": null,
            "margin": null,
            "max_height": null,
            "max_width": null,
            "min_height": null,
            "min_width": null,
            "object_fit": null,
            "object_position": null,
            "order": null,
            "overflow": null,
            "overflow_x": null,
            "overflow_y": null,
            "padding": null,
            "right": null,
            "top": null,
            "visibility": null,
            "width": null
          }
        },
        "9c5189bd796c406784838da104ff1f09": {
          "model_module": "@jupyter-widgets/controls",
          "model_name": "DescriptionStyleModel",
          "model_module_version": "1.5.0",
          "state": {
            "_model_module": "@jupyter-widgets/controls",
            "_model_module_version": "1.5.0",
            "_model_name": "DescriptionStyleModel",
            "_view_count": null,
            "_view_module": "@jupyter-widgets/base",
            "_view_module_version": "1.2.0",
            "_view_name": "StyleView",
            "description_width": ""
          }
        },
        "f3864e5b278c434ca6446a3bada409dc": {
          "model_module": "@jupyter-widgets/controls",
          "model_name": "HBoxModel",
          "model_module_version": "1.5.0",
          "state": {
            "_dom_classes": [],
            "_model_module": "@jupyter-widgets/controls",
            "_model_module_version": "1.5.0",
            "_model_name": "HBoxModel",
            "_view_count": null,
            "_view_module": "@jupyter-widgets/controls",
            "_view_module_version": "1.5.0",
            "_view_name": "HBoxView",
            "box_style": "",
            "children": [
              "IPY_MODEL_04472d95f8864dfaa00968e2f06f24d4",
              "IPY_MODEL_0bddcb86a1c84999ae10d1965f7ae597",
              "IPY_MODEL_ac7f07b9c1644913a4d5959393d07595"
            ],
            "layout": "IPY_MODEL_15ab2311edd04306a886e3be2f0464bc"
          }
        },
        "04472d95f8864dfaa00968e2f06f24d4": {
          "model_module": "@jupyter-widgets/controls",
          "model_name": "HTMLModel",
          "model_module_version": "1.5.0",
          "state": {
            "_dom_classes": [],
            "_model_module": "@jupyter-widgets/controls",
            "_model_module_version": "1.5.0",
            "_model_name": "HTMLModel",
            "_view_count": null,
            "_view_module": "@jupyter-widgets/controls",
            "_view_module_version": "1.5.0",
            "_view_name": "HTMLView",
            "description": "",
            "description_tooltip": null,
            "layout": "IPY_MODEL_35faaea2e31540bda15efe17b97cf0f2",
            "placeholder": "​",
            "style": "IPY_MODEL_c6b1c6d669aa409b9a160a6ac18c8b34",
            "value": "100%"
          }
        },
        "0bddcb86a1c84999ae10d1965f7ae597": {
          "model_module": "@jupyter-widgets/controls",
          "model_name": "FloatProgressModel",
          "model_module_version": "1.5.0",
          "state": {
            "_dom_classes": [],
            "_model_module": "@jupyter-widgets/controls",
            "_model_module_version": "1.5.0",
            "_model_name": "FloatProgressModel",
            "_view_count": null,
            "_view_module": "@jupyter-widgets/controls",
            "_view_module_version": "1.5.0",
            "_view_name": "ProgressView",
            "bar_style": "success",
            "description": "",
            "description_tooltip": null,
            "layout": "IPY_MODEL_3b72cbd492254e0c8b455ba9e8a2ffe8",
            "max": 1648877,
            "min": 0,
            "orientation": "horizontal",
            "style": "IPY_MODEL_d9efaf19302e4c108d7ebf1bd8863953",
            "value": 1648877
          }
        },
        "ac7f07b9c1644913a4d5959393d07595": {
          "model_module": "@jupyter-widgets/controls",
          "model_name": "HTMLModel",
          "model_module_version": "1.5.0",
          "state": {
            "_dom_classes": [],
            "_model_module": "@jupyter-widgets/controls",
            "_model_module_version": "1.5.0",
            "_model_name": "HTMLModel",
            "_view_count": null,
            "_view_module": "@jupyter-widgets/controls",
            "_view_module_version": "1.5.0",
            "_view_name": "HTMLView",
            "description": "",
            "description_tooltip": null,
            "layout": "IPY_MODEL_9a64b2cc0c814cc4bfd8bd71798e0362",
            "placeholder": "​",
            "style": "IPY_MODEL_b5b8c4d0601c4e4cb2559b875318aa1c",
            "value": " 1648877/1648877 [00:00&lt;00:00, 17936891.54it/s]"
          }
        },
        "15ab2311edd04306a886e3be2f0464bc": {
          "model_module": "@jupyter-widgets/base",
          "model_name": "LayoutModel",
          "model_module_version": "1.2.0",
          "state": {
            "_model_module": "@jupyter-widgets/base",
            "_model_module_version": "1.2.0",
            "_model_name": "LayoutModel",
            "_view_count": null,
            "_view_module": "@jupyter-widgets/base",
            "_view_module_version": "1.2.0",
            "_view_name": "LayoutView",
            "align_content": null,
            "align_items": null,
            "align_self": null,
            "border": null,
            "bottom": null,
            "display": null,
            "flex": null,
            "flex_flow": null,
            "grid_area": null,
            "grid_auto_columns": null,
            "grid_auto_flow": null,
            "grid_auto_rows": null,
            "grid_column": null,
            "grid_gap": null,
            "grid_row": null,
            "grid_template_areas": null,
            "grid_template_columns": null,
            "grid_template_rows": null,
            "height": null,
            "justify_content": null,
            "justify_items": null,
            "left": null,
            "margin": null,
            "max_height": null,
            "max_width": null,
            "min_height": null,
            "min_width": null,
            "object_fit": null,
            "object_position": null,
            "order": null,
            "overflow": null,
            "overflow_x": null,
            "overflow_y": null,
            "padding": null,
            "right": null,
            "top": null,
            "visibility": null,
            "width": null
          }
        },
        "35faaea2e31540bda15efe17b97cf0f2": {
          "model_module": "@jupyter-widgets/base",
          "model_name": "LayoutModel",
          "model_module_version": "1.2.0",
          "state": {
            "_model_module": "@jupyter-widgets/base",
            "_model_module_version": "1.2.0",
            "_model_name": "LayoutModel",
            "_view_count": null,
            "_view_module": "@jupyter-widgets/base",
            "_view_module_version": "1.2.0",
            "_view_name": "LayoutView",
            "align_content": null,
            "align_items": null,
            "align_self": null,
            "border": null,
            "bottom": null,
            "display": null,
            "flex": null,
            "flex_flow": null,
            "grid_area": null,
            "grid_auto_columns": null,
            "grid_auto_flow": null,
            "grid_auto_rows": null,
            "grid_column": null,
            "grid_gap": null,
            "grid_row": null,
            "grid_template_areas": null,
            "grid_template_columns": null,
            "grid_template_rows": null,
            "height": null,
            "justify_content": null,
            "justify_items": null,
            "left": null,
            "margin": null,
            "max_height": null,
            "max_width": null,
            "min_height": null,
            "min_width": null,
            "object_fit": null,
            "object_position": null,
            "order": null,
            "overflow": null,
            "overflow_x": null,
            "overflow_y": null,
            "padding": null,
            "right": null,
            "top": null,
            "visibility": null,
            "width": null
          }
        },
        "c6b1c6d669aa409b9a160a6ac18c8b34": {
          "model_module": "@jupyter-widgets/controls",
          "model_name": "DescriptionStyleModel",
          "model_module_version": "1.5.0",
          "state": {
            "_model_module": "@jupyter-widgets/controls",
            "_model_module_version": "1.5.0",
            "_model_name": "DescriptionStyleModel",
            "_view_count": null,
            "_view_module": "@jupyter-widgets/base",
            "_view_module_version": "1.2.0",
            "_view_name": "StyleView",
            "description_width": ""
          }
        },
        "3b72cbd492254e0c8b455ba9e8a2ffe8": {
          "model_module": "@jupyter-widgets/base",
          "model_name": "LayoutModel",
          "model_module_version": "1.2.0",
          "state": {
            "_model_module": "@jupyter-widgets/base",
            "_model_module_version": "1.2.0",
            "_model_name": "LayoutModel",
            "_view_count": null,
            "_view_module": "@jupyter-widgets/base",
            "_view_module_version": "1.2.0",
            "_view_name": "LayoutView",
            "align_content": null,
            "align_items": null,
            "align_self": null,
            "border": null,
            "bottom": null,
            "display": null,
            "flex": null,
            "flex_flow": null,
            "grid_area": null,
            "grid_auto_columns": null,
            "grid_auto_flow": null,
            "grid_auto_rows": null,
            "grid_column": null,
            "grid_gap": null,
            "grid_row": null,
            "grid_template_areas": null,
            "grid_template_columns": null,
            "grid_template_rows": null,
            "height": null,
            "justify_content": null,
            "justify_items": null,
            "left": null,
            "margin": null,
            "max_height": null,
            "max_width": null,
            "min_height": null,
            "min_width": null,
            "object_fit": null,
            "object_position": null,
            "order": null,
            "overflow": null,
            "overflow_x": null,
            "overflow_y": null,
            "padding": null,
            "right": null,
            "top": null,
            "visibility": null,
            "width": null
          }
        },
        "d9efaf19302e4c108d7ebf1bd8863953": {
          "model_module": "@jupyter-widgets/controls",
          "model_name": "ProgressStyleModel",
          "model_module_version": "1.5.0",
          "state": {
            "_model_module": "@jupyter-widgets/controls",
            "_model_module_version": "1.5.0",
            "_model_name": "ProgressStyleModel",
            "_view_count": null,
            "_view_module": "@jupyter-widgets/base",
            "_view_module_version": "1.2.0",
            "_view_name": "StyleView",
            "bar_color": null,
            "description_width": ""
          }
        },
        "9a64b2cc0c814cc4bfd8bd71798e0362": {
          "model_module": "@jupyter-widgets/base",
          "model_name": "LayoutModel",
          "model_module_version": "1.2.0",
          "state": {
            "_model_module": "@jupyter-widgets/base",
            "_model_module_version": "1.2.0",
            "_model_name": "LayoutModel",
            "_view_count": null,
            "_view_module": "@jupyter-widgets/base",
            "_view_module_version": "1.2.0",
            "_view_name": "LayoutView",
            "align_content": null,
            "align_items": null,
            "align_self": null,
            "border": null,
            "bottom": null,
            "display": null,
            "flex": null,
            "flex_flow": null,
            "grid_area": null,
            "grid_auto_columns": null,
            "grid_auto_flow": null,
            "grid_auto_rows": null,
            "grid_column": null,
            "grid_gap": null,
            "grid_row": null,
            "grid_template_areas": null,
            "grid_template_columns": null,
            "grid_template_rows": null,
            "height": null,
            "justify_content": null,
            "justify_items": null,
            "left": null,
            "margin": null,
            "max_height": null,
            "max_width": null,
            "min_height": null,
            "min_width": null,
            "object_fit": null,
            "object_position": null,
            "order": null,
            "overflow": null,
            "overflow_x": null,
            "overflow_y": null,
            "padding": null,
            "right": null,
            "top": null,
            "visibility": null,
            "width": null
          }
        },
        "b5b8c4d0601c4e4cb2559b875318aa1c": {
          "model_module": "@jupyter-widgets/controls",
          "model_name": "DescriptionStyleModel",
          "model_module_version": "1.5.0",
          "state": {
            "_model_module": "@jupyter-widgets/controls",
            "_model_module_version": "1.5.0",
            "_model_name": "DescriptionStyleModel",
            "_view_count": null,
            "_view_module": "@jupyter-widgets/base",
            "_view_module_version": "1.2.0",
            "_view_name": "StyleView",
            "description_width": ""
          }
        },
        "bded0ebe57b24fe9ae4b2cd85d01d98f": {
          "model_module": "@jupyter-widgets/controls",
          "model_name": "HBoxModel",
          "model_module_version": "1.5.0",
          "state": {
            "_dom_classes": [],
            "_model_module": "@jupyter-widgets/controls",
            "_model_module_version": "1.5.0",
            "_model_name": "HBoxModel",
            "_view_count": null,
            "_view_module": "@jupyter-widgets/controls",
            "_view_module_version": "1.5.0",
            "_view_name": "HBoxView",
            "box_style": "",
            "children": [
              "IPY_MODEL_3c4f94b58fdf4471a876ebef451b9233",
              "IPY_MODEL_2a5ff3256ae142d08b3a411cd7012524",
              "IPY_MODEL_0bdf59b7f468463b8ad550e895830de0"
            ],
            "layout": "IPY_MODEL_4f6679fe19a747c1ae886747060b675b"
          }
        },
        "3c4f94b58fdf4471a876ebef451b9233": {
          "model_module": "@jupyter-widgets/controls",
          "model_name": "HTMLModel",
          "model_module_version": "1.5.0",
          "state": {
            "_dom_classes": [],
            "_model_module": "@jupyter-widgets/controls",
            "_model_module_version": "1.5.0",
            "_model_name": "HTMLModel",
            "_view_count": null,
            "_view_module": "@jupyter-widgets/controls",
            "_view_module_version": "1.5.0",
            "_view_name": "HTMLView",
            "description": "",
            "description_tooltip": null,
            "layout": "IPY_MODEL_8723f50c7df9451f8fa8627db5e6d42e",
            "placeholder": "​",
            "style": "IPY_MODEL_cecd1600242a4b63a397eb3378746f12",
            "value": "100%"
          }
        },
        "2a5ff3256ae142d08b3a411cd7012524": {
          "model_module": "@jupyter-widgets/controls",
          "model_name": "FloatProgressModel",
          "model_module_version": "1.5.0",
          "state": {
            "_dom_classes": [],
            "_model_module": "@jupyter-widgets/controls",
            "_model_module_version": "1.5.0",
            "_model_name": "FloatProgressModel",
            "_view_count": null,
            "_view_module": "@jupyter-widgets/controls",
            "_view_module_version": "1.5.0",
            "_view_name": "ProgressView",
            "bar_style": "success",
            "description": "",
            "description_tooltip": null,
            "layout": "IPY_MODEL_699aba9bb66e4d3c8c90df5f3bf93bcb",
            "max": 4542,
            "min": 0,
            "orientation": "horizontal",
            "style": "IPY_MODEL_6abcb5823c2541d79ff14c9369b8ee8f",
            "value": 4542
          }
        },
        "0bdf59b7f468463b8ad550e895830de0": {
          "model_module": "@jupyter-widgets/controls",
          "model_name": "HTMLModel",
          "model_module_version": "1.5.0",
          "state": {
            "_dom_classes": [],
            "_model_module": "@jupyter-widgets/controls",
            "_model_module_version": "1.5.0",
            "_model_name": "HTMLModel",
            "_view_count": null,
            "_view_module": "@jupyter-widgets/controls",
            "_view_module_version": "1.5.0",
            "_view_name": "HTMLView",
            "description": "",
            "description_tooltip": null,
            "layout": "IPY_MODEL_3923d6737eea44a98f830e57127b71bc",
            "placeholder": "​",
            "style": "IPY_MODEL_edf806c9504542c38940dc0f4774d846",
            "value": " 4542/4542 [00:00&lt;00:00, 152307.97it/s]"
          }
        },
        "4f6679fe19a747c1ae886747060b675b": {
          "model_module": "@jupyter-widgets/base",
          "model_name": "LayoutModel",
          "model_module_version": "1.2.0",
          "state": {
            "_model_module": "@jupyter-widgets/base",
            "_model_module_version": "1.2.0",
            "_model_name": "LayoutModel",
            "_view_count": null,
            "_view_module": "@jupyter-widgets/base",
            "_view_module_version": "1.2.0",
            "_view_name": "LayoutView",
            "align_content": null,
            "align_items": null,
            "align_self": null,
            "border": null,
            "bottom": null,
            "display": null,
            "flex": null,
            "flex_flow": null,
            "grid_area": null,
            "grid_auto_columns": null,
            "grid_auto_flow": null,
            "grid_auto_rows": null,
            "grid_column": null,
            "grid_gap": null,
            "grid_row": null,
            "grid_template_areas": null,
            "grid_template_columns": null,
            "grid_template_rows": null,
            "height": null,
            "justify_content": null,
            "justify_items": null,
            "left": null,
            "margin": null,
            "max_height": null,
            "max_width": null,
            "min_height": null,
            "min_width": null,
            "object_fit": null,
            "object_position": null,
            "order": null,
            "overflow": null,
            "overflow_x": null,
            "overflow_y": null,
            "padding": null,
            "right": null,
            "top": null,
            "visibility": null,
            "width": null
          }
        },
        "8723f50c7df9451f8fa8627db5e6d42e": {
          "model_module": "@jupyter-widgets/base",
          "model_name": "LayoutModel",
          "model_module_version": "1.2.0",
          "state": {
            "_model_module": "@jupyter-widgets/base",
            "_model_module_version": "1.2.0",
            "_model_name": "LayoutModel",
            "_view_count": null,
            "_view_module": "@jupyter-widgets/base",
            "_view_module_version": "1.2.0",
            "_view_name": "LayoutView",
            "align_content": null,
            "align_items": null,
            "align_self": null,
            "border": null,
            "bottom": null,
            "display": null,
            "flex": null,
            "flex_flow": null,
            "grid_area": null,
            "grid_auto_columns": null,
            "grid_auto_flow": null,
            "grid_auto_rows": null,
            "grid_column": null,
            "grid_gap": null,
            "grid_row": null,
            "grid_template_areas": null,
            "grid_template_columns": null,
            "grid_template_rows": null,
            "height": null,
            "justify_content": null,
            "justify_items": null,
            "left": null,
            "margin": null,
            "max_height": null,
            "max_width": null,
            "min_height": null,
            "min_width": null,
            "object_fit": null,
            "object_position": null,
            "order": null,
            "overflow": null,
            "overflow_x": null,
            "overflow_y": null,
            "padding": null,
            "right": null,
            "top": null,
            "visibility": null,
            "width": null
          }
        },
        "cecd1600242a4b63a397eb3378746f12": {
          "model_module": "@jupyter-widgets/controls",
          "model_name": "DescriptionStyleModel",
          "model_module_version": "1.5.0",
          "state": {
            "_model_module": "@jupyter-widgets/controls",
            "_model_module_version": "1.5.0",
            "_model_name": "DescriptionStyleModel",
            "_view_count": null,
            "_view_module": "@jupyter-widgets/base",
            "_view_module_version": "1.2.0",
            "_view_name": "StyleView",
            "description_width": ""
          }
        },
        "699aba9bb66e4d3c8c90df5f3bf93bcb": {
          "model_module": "@jupyter-widgets/base",
          "model_name": "LayoutModel",
          "model_module_version": "1.2.0",
          "state": {
            "_model_module": "@jupyter-widgets/base",
            "_model_module_version": "1.2.0",
            "_model_name": "LayoutModel",
            "_view_count": null,
            "_view_module": "@jupyter-widgets/base",
            "_view_module_version": "1.2.0",
            "_view_name": "LayoutView",
            "align_content": null,
            "align_items": null,
            "align_self": null,
            "border": null,
            "bottom": null,
            "display": null,
            "flex": null,
            "flex_flow": null,
            "grid_area": null,
            "grid_auto_columns": null,
            "grid_auto_flow": null,
            "grid_auto_rows": null,
            "grid_column": null,
            "grid_gap": null,
            "grid_row": null,
            "grid_template_areas": null,
            "grid_template_columns": null,
            "grid_template_rows": null,
            "height": null,
            "justify_content": null,
            "justify_items": null,
            "left": null,
            "margin": null,
            "max_height": null,
            "max_width": null,
            "min_height": null,
            "min_width": null,
            "object_fit": null,
            "object_position": null,
            "order": null,
            "overflow": null,
            "overflow_x": null,
            "overflow_y": null,
            "padding": null,
            "right": null,
            "top": null,
            "visibility": null,
            "width": null
          }
        },
        "6abcb5823c2541d79ff14c9369b8ee8f": {
          "model_module": "@jupyter-widgets/controls",
          "model_name": "ProgressStyleModel",
          "model_module_version": "1.5.0",
          "state": {
            "_model_module": "@jupyter-widgets/controls",
            "_model_module_version": "1.5.0",
            "_model_name": "ProgressStyleModel",
            "_view_count": null,
            "_view_module": "@jupyter-widgets/base",
            "_view_module_version": "1.2.0",
            "_view_name": "StyleView",
            "bar_color": null,
            "description_width": ""
          }
        },
        "3923d6737eea44a98f830e57127b71bc": {
          "model_module": "@jupyter-widgets/base",
          "model_name": "LayoutModel",
          "model_module_version": "1.2.0",
          "state": {
            "_model_module": "@jupyter-widgets/base",
            "_model_module_version": "1.2.0",
            "_model_name": "LayoutModel",
            "_view_count": null,
            "_view_module": "@jupyter-widgets/base",
            "_view_module_version": "1.2.0",
            "_view_name": "LayoutView",
            "align_content": null,
            "align_items": null,
            "align_self": null,
            "border": null,
            "bottom": null,
            "display": null,
            "flex": null,
            "flex_flow": null,
            "grid_area": null,
            "grid_auto_columns": null,
            "grid_auto_flow": null,
            "grid_auto_rows": null,
            "grid_column": null,
            "grid_gap": null,
            "grid_row": null,
            "grid_template_areas": null,
            "grid_template_columns": null,
            "grid_template_rows": null,
            "height": null,
            "justify_content": null,
            "justify_items": null,
            "left": null,
            "margin": null,
            "max_height": null,
            "max_width": null,
            "min_height": null,
            "min_width": null,
            "object_fit": null,
            "object_position": null,
            "order": null,
            "overflow": null,
            "overflow_x": null,
            "overflow_y": null,
            "padding": null,
            "right": null,
            "top": null,
            "visibility": null,
            "width": null
          }
        },
        "edf806c9504542c38940dc0f4774d846": {
          "model_module": "@jupyter-widgets/controls",
          "model_name": "DescriptionStyleModel",
          "model_module_version": "1.5.0",
          "state": {
            "_model_module": "@jupyter-widgets/controls",
            "_model_module_version": "1.5.0",
            "_model_name": "DescriptionStyleModel",
            "_view_count": null,
            "_view_module": "@jupyter-widgets/base",
            "_view_module_version": "1.2.0",
            "_view_name": "StyleView",
            "description_width": ""
          }
        }
      }
    }
  },
  "nbformat": 4,
  "nbformat_minor": 0
}